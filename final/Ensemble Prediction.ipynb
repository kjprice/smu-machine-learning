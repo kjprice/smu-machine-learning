{
 "cells": [
  {
   "cell_type": "code",
   "execution_count": 1,
   "metadata": {
    "collapsed": true
   },
   "outputs": [],
   "source": [
    "# load movies_model\n",
    "# load posters\n",
    "# load movies_test data"
   ]
  },
  {
   "cell_type": "code",
   "execution_count": 225,
   "metadata": {
    "collapsed": false
   },
   "outputs": [],
   "source": [
    "import pandas as pd\n",
    "import matplotlib.pyplot as plt\n",
    "\n",
    "from keras import models\n",
    "from keras.preprocessing import image\n",
    "import tensorflow as tf\n",
    "from sklearn.metrics import confusion_matrix\n",
    "\n",
    "import os"
   ]
  },
  {
   "cell_type": "markdown",
   "metadata": {},
   "source": [
    "### Load Models"
   ]
  },
  {
   "cell_type": "code",
   "execution_count": 3,
   "metadata": {
    "collapsed": false
   },
   "outputs": [],
   "source": [
    "movies_model_path = 'data/movies_models/samuel_movies1533435470.765683.h5'\n",
    "images_model_path = 'data/aws_models/samuel_images_model_1533409854.5854547.h5'\n",
    "\n",
    "movies_model = models.load_model(movies_model_path)\n",
    "images_model = models.load_model(images_model_path)"
   ]
  },
  {
   "cell_type": "markdown",
   "metadata": {},
   "source": [
    "### Load Test Data"
   ]
  },
  {
   "cell_type": "code",
   "execution_count": 4,
   "metadata": {
    "collapsed": false
   },
   "outputs": [],
   "source": [
    "x = pd.read_csv('data/movies_x_test.csv')\n",
    "y = pd.read_csv('data/movies_y_test.csv', header=None)"
   ]
  },
  {
   "cell_type": "markdown",
   "metadata": {},
   "source": [
    "### Get Poster Function"
   ]
  },
  {
   "cell_type": "code",
   "execution_count": 157,
   "metadata": {
    "collapsed": false
   },
   "outputs": [],
   "source": [
    "posters_dir = 'data/posters'\n",
    "\n",
    "posters_by_movie_id = {}\n",
    "LIMIT = 10\n",
    "\n",
    "def load_image(movie_id):\n",
    "    if movie_id in posters_by_movie_id:\n",
    "        return posters_by_movie_id[movie_id]\n",
    "\n",
    "    filename = '{}.jpg'.format(movie_id)\n",
    "    img_path = os.path.join(posters_dir, filename)\n",
    "    \n",
    "    posters_by_movie_id[movie_id] = image.load_img(img_path, target_size=(224, 224))\n",
    "    return posters_by_movie_id[movie_id]\n",
    "\n",
    "def image_to_array(img):\n",
    "    img = image.img_to_array(img)\n",
    "    img = img.reshape((1,) + img.shape)\n",
    "    img = img / 255.\n",
    "    return img"
   ]
  },
  {
   "cell_type": "code",
   "execution_count": 213,
   "metadata": {
    "collapsed": true
   },
   "outputs": [],
   "source": [
    "def show_img(id):\n",
    "    plt.title(id)\n",
    "    plt.imshow(load_image(id))\n",
    "    plt.show()\n",
    "\n",
    "ids_with_samuel = x.id[y[0]]\n",
    "# [show_img(id) for id in ids_with_samuel]\n",
    "#print(ids_with_samuel)"
   ]
  },
  {
   "cell_type": "code",
   "execution_count": 258,
   "metadata": {
    "collapsed": true
   },
   "outputs": [],
   "source": [
    "def predict_samuel_poster(movie_id):\n",
    "    img = load_image(movie_id)\n",
    "    img_array = image_to_array(img)\n",
    "    \n",
    "    \n",
    "    prob = images_model.predict_proba(img_array)\n",
    "    #print(prob)\n",
    "    if movie_id in ids_with_samuel:\n",
    "        print(prob)\n",
    "    \n",
    "    if prob > .999:\n",
    "        return False\n",
    "    elif prob < .0001:\n",
    "        print('samuel')\n",
    "        #plt.imshow(img)\n",
    "        #plt.show()\n",
    "        return True\n",
    "    else:\n",
    "        return None"
   ]
  },
  {
   "cell_type": "code",
   "execution_count": 259,
   "metadata": {
    "collapsed": true
   },
   "outputs": [],
   "source": [
    "def predict_samuel_movie(movie):\n",
    "    prediction = movies_model.predict_classes([movie])\n",
    "    return prediction[0][0] != 0"
   ]
  },
  {
   "cell_type": "code",
   "execution_count": 260,
   "metadata": {
    "collapsed": false
   },
   "outputs": [],
   "source": [
    "def predict_samuel_ensemble(movies):\n",
    "    predictions_map = {\n",
    "        'yes': [],\n",
    "        'no': [],\n",
    "    }\n",
    "    predictions = []\n",
    "    for index, row in movies.iterrows():\n",
    "        id = int(row['id'])\n",
    "        del row['id']\n",
    "        \n",
    "        prediction = predict_samuel_poster(id)\n",
    "        #prediction = None\n",
    "        \n",
    "        if prediction is None:\n",
    "            prediction = predict_samuel_movie([row.values])\n",
    "        \n",
    "        predictions.append(prediction)\n",
    "\n",
    "        if prediction:\n",
    "            predictions_map['yes'].append(id)\n",
    "        elif not prediction:\n",
    "            predictions_map['no'].append(id)\n",
    "        else:\n",
    "            print(type(prediction))\n",
    "            print('unknown predict {}'.format(prediction))\n",
    "    return pd.DataFrame({'predictions': predictions})"
   ]
  },
  {
   "cell_type": "code",
   "execution_count": 261,
   "metadata": {
    "collapsed": false
   },
   "outputs": [
    {
     "name": "stdout",
     "output_type": "stream",
     "text": [
      "samuel\n",
      "samuel\n",
      "samuel\n"
     ]
    }
   ],
   "source": [
    "predictions = predict_samuel_ensemble(x)"
   ]
  },
  {
   "cell_type": "code",
   "execution_count": 266,
   "metadata": {
    "collapsed": false
   },
   "outputs": [
    {
     "data": {
      "text/html": [
       "<div>\n",
       "<table border=\"1\" class=\"dataframe\">\n",
       "  <thead>\n",
       "    <tr style=\"text-align: right;\">\n",
       "      <th></th>\n",
       "      <th>predictions</th>\n",
       "    </tr>\n",
       "  </thead>\n",
       "  <tbody>\n",
       "    <tr>\n",
       "      <th>1</th>\n",
       "      <td>True</td>\n",
       "    </tr>\n",
       "    <tr>\n",
       "      <th>77</th>\n",
       "      <td>True</td>\n",
       "    </tr>\n",
       "    <tr>\n",
       "      <th>88</th>\n",
       "      <td>True</td>\n",
       "    </tr>\n",
       "    <tr>\n",
       "      <th>187</th>\n",
       "      <td>True</td>\n",
       "    </tr>\n",
       "    <tr>\n",
       "      <th>273</th>\n",
       "      <td>True</td>\n",
       "    </tr>\n",
       "    <tr>\n",
       "      <th>290</th>\n",
       "      <td>True</td>\n",
       "    </tr>\n",
       "  </tbody>\n",
       "</table>\n",
       "</div>"
      ],
      "text/plain": [
       "    predictions\n",
       "1          True\n",
       "77         True\n",
       "88         True\n",
       "187        True\n",
       "273        True\n",
       "290        True"
      ]
     },
     "execution_count": 266,
     "metadata": {},
     "output_type": "execute_result"
    }
   ],
   "source": [
    "# predictions\n",
    "predictions[predictions.predictions]"
   ]
  },
  {
   "cell_type": "code",
   "execution_count": 267,
   "metadata": {
    "collapsed": false
   },
   "outputs": [
    {
     "data": {
      "text/html": [
       "<div>\n",
       "<table border=\"1\" class=\"dataframe\">\n",
       "  <thead>\n",
       "    <tr style=\"text-align: right;\">\n",
       "      <th></th>\n",
       "      <th>0</th>\n",
       "    </tr>\n",
       "  </thead>\n",
       "  <tbody>\n",
       "    <tr>\n",
       "      <th>5</th>\n",
       "      <td>True</td>\n",
       "    </tr>\n",
       "    <tr>\n",
       "      <th>127</th>\n",
       "      <td>True</td>\n",
       "    </tr>\n",
       "    <tr>\n",
       "      <th>305</th>\n",
       "      <td>True</td>\n",
       "    </tr>\n",
       "    <tr>\n",
       "      <th>336</th>\n",
       "      <td>True</td>\n",
       "    </tr>\n",
       "    <tr>\n",
       "      <th>403</th>\n",
       "      <td>True</td>\n",
       "    </tr>\n",
       "    <tr>\n",
       "      <th>423</th>\n",
       "      <td>True</td>\n",
       "    </tr>\n",
       "    <tr>\n",
       "      <th>470</th>\n",
       "      <td>True</td>\n",
       "    </tr>\n",
       "  </tbody>\n",
       "</table>\n",
       "</div>"
      ],
      "text/plain": [
       "        0\n",
       "5    True\n",
       "127  True\n",
       "305  True\n",
       "336  True\n",
       "403  True\n",
       "423  True\n",
       "470  True"
      ]
     },
     "execution_count": 267,
     "metadata": {},
     "output_type": "execute_result"
    }
   ],
   "source": [
    "# actuals\n",
    "y[y[0]]"
   ]
  },
  {
   "cell_type": "code",
   "execution_count": 268,
   "metadata": {
    "collapsed": false
   },
   "outputs": [
    {
     "data": {
      "text/plain": [
       "array([[468,   6],\n",
       "       [  7,   0]])"
      ]
     },
     "execution_count": 268,
     "metadata": {},
     "output_type": "execute_result"
    }
   ],
   "source": [
    "confusion_matrix(y.values.flatten(), predictions)"
   ]
  },
  {
   "cell_type": "code",
   "execution_count": null,
   "metadata": {
    "collapsed": true
   },
   "outputs": [],
   "source": []
  }
 ],
 "metadata": {
  "kernelspec": {
   "display_name": "Python [default]",
   "language": "python",
   "name": "python3"
  },
  "language_info": {
   "codemirror_mode": {
    "name": "ipython",
    "version": 3
   },
   "file_extension": ".py",
   "mimetype": "text/x-python",
   "name": "python",
   "nbconvert_exporter": "python",
   "pygments_lexer": "ipython3",
   "version": "3.6.0"
  }
 },
 "nbformat": 4,
 "nbformat_minor": 2
}
