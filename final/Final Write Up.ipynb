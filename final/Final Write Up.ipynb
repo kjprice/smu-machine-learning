{
 "cells": [
  {
   "cell_type": "code",
   "execution_count": 2,
   "metadata": {
    "collapsed": false
   },
   "outputs": [
    {
     "name": "stderr",
     "output_type": "stream",
     "text": [
      "Using TensorFlow backend.\n"
     ]
    }
   ],
   "source": [
    "import pandas as pd\n",
    "import matplotlib.pyplot as plt\n",
    "import seaborn as sns\n",
    "from sklearn.metrics import confusion_matrix\n",
    "from sklearn.metrics import accuracy_score\n",
    "\n",
    "from keras import models\n",
    "from keras.preprocessing import image\n",
    "import tensorflow as tf\n",
    "\n",
    "import os"
   ]
  },
  {
   "cell_type": "markdown",
   "metadata": {},
   "source": [
    "# Final Project Supplemental Work\n",
    "\n",
    "I've already cleaned the dataset using [clean-movies.py](clean-movies.py) and have provided an in-depth analysis of the dataset (and have trained several of the machine learning models) at [EDA.ipynb](EDA.ipynb).\n",
    "\n",
    "I have also trained the final machine learning model that can (fairly successfully) predict if Samuel L Jackson is in a movie poster in the notebook [Predict Samuel From Images.ipynb](Predict Samuel From Images.ipynb).\n",
    "\n",
    "This particular notebook shows the results of what I have found."
   ]
  },
  {
   "cell_type": "markdown",
   "metadata": {},
   "source": [
    "### Load Models\n",
    "\n",
    "We have already trained the models using deep learning (dense neural networks for `movies` and convolution neural networks for `images`). Here we can just load the saved models."
   ]
  },
  {
   "cell_type": "code",
   "execution_count": 3,
   "metadata": {
    "collapsed": true
   },
   "outputs": [],
   "source": [
    "movies_model_path = 'data/movies_models/samuel_movies1533444486.458372.h5'\n",
    "images_model_path = 'data/aws_models/samuel_images_model_1533409854.5854547.h5'\n",
    "\n",
    "movies_model = models.load_model(movies_model_path)\n",
    "images_model = models.load_model(images_model_path)"
   ]
  },
  {
   "cell_type": "markdown",
   "metadata": {},
   "source": [
    "### Load Test Data"
   ]
  },
  {
   "cell_type": "code",
   "execution_count": 4,
   "metadata": {
    "collapsed": true
   },
   "outputs": [],
   "source": [
    "x = pd.read_csv('data/movies_x_test.csv')\n",
    "y = pd.read_csv('data/movies_y_test.csv', header=None)"
   ]
  },
  {
   "cell_type": "markdown",
   "metadata": {},
   "source": [
    "### Predict Samuel Movies\n",
    "\n",
    "Here I create a simple function that removes a few features from our input data and then tries to predict if Samuel L Jackson appeared in a movie."
   ]
  },
  {
   "cell_type": "code",
   "execution_count": 5,
   "metadata": {
    "collapsed": false
   },
   "outputs": [],
   "source": [
    "def create_predictions():\n",
    "    x_local = x[x.columns.difference(['id'])]\n",
    "    x_local = x_local[x_local.columns.difference(['Samuel L. Jackson - 2231 (actor)'])]\n",
    "    return movies_model.predict_classes(x_local)\n",
    "predictions = create_predictions()"
   ]
  },
  {
   "cell_type": "markdown",
   "metadata": {},
   "source": [
    "Here's a little helper function that builds a confusion matrix using a seaborn heatmap"
   ]
  },
  {
   "cell_type": "code",
   "execution_count": 6,
   "metadata": {
    "collapsed": true
   },
   "outputs": [],
   "source": [
    "%run -i confusion_matrix.py"
   ]
  },
  {
   "cell_type": "code",
   "execution_count": 7,
   "metadata": {
    "collapsed": false
   },
   "outputs": [
    {
     "data": {
      "image/png": "[encoded data removed]",
      "text/plain": [
       "<matplotlib.figure.Figure at 0x12a1d3438>"
      ]
     },
     "execution_count": 7,
     "metadata": {},
     "output_type": "execute_result"
    }
   ],
   "source": [
    "cm = confusion_matrix(y, predictions)\n",
    "print_confusion_matrix(cm, ['Not Samuel','Samuel'])"
   ]
  },
  {
   "cell_type": "code",
   "execution_count": 7,
   "metadata": {
    "collapsed": false
   },
   "outputs": [
    {
     "data": {
      "text/plain": [
       "0.9917864476386037"
      ]
     },
     "execution_count": 7,
     "metadata": {},
     "output_type": "execute_result"
    }
   ],
   "source": [
    "accuracy_score(y, predictions)"
   ]
  },
  {
   "cell_type": "code",
   "execution_count": null,
   "metadata": {
    "collapsed": true
   },
   "outputs": [],
   "source": []
  }
 ],
 "metadata": {
  "kernelspec": {
   "display_name": "Python [default]",
   "language": "python",
   "name": "python3"
  },
  "language_info": {
   "codemirror_mode": {
    "name": "ipython",
    "version": 3
   },
   "file_extension": ".py",
   "mimetype": "text/x-python",
   "name": "python",
   "nbconvert_exporter": "python",
   "pygments_lexer": "ipython3",
   "version": "3.6.0"
  }
 },
 "nbformat": 4,
 "nbformat_minor": 2
}
