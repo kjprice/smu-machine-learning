{
 "cells": [
  {
   "cell_type": "code",
   "execution_count": 1,
   "metadata": {},
   "outputs": [],
   "source": [
    "import pandas as pd\n",
    "import numpy as np\n",
    "import sklearn as sk\n",
    "import json\n",
    "import matplotlib.pyplot as plt\n",
    "\n",
    "from sklearn.model_selection import train_test_split\n",
    "from sklearn.naive_bayes import MultinomialNB\n",
    "from sklearn.feature_extraction.text import CountVectorizer\n",
    "from sklearn.preprocessing import normalize"
   ]
  },
  {
   "cell_type": "code",
   "execution_count": 2,
   "metadata": {},
   "outputs": [],
   "source": [
    "# movies = pd.read_csv('./data/tmdb_5000_movies.csv').head(n=1)\n",
    "# credits = pd.read_csv('./data/tmdb_5000_credits.csv').head(n=1)\n",
    "movies = pd.read_csv('./data/tmdb_5000_movies.csv')\n",
    "credits = pd.read_csv('./data/tmdb_5000_credits.csv')"
   ]
  },
  {
   "cell_type": "code",
   "execution_count": 3,
   "metadata": {},
   "outputs": [
    {
     "data": {
      "text/plain": [
       "(4803, 20)"
      ]
     },
     "execution_count": 3,
     "metadata": {},
     "output_type": "execute_result"
    }
   ],
   "source": [
    "movies.shape"
   ]
  },
  {
   "cell_type": "code",
   "execution_count": 4,
   "metadata": {},
   "outputs": [
    {
     "data": {
      "text/html": [
       "<div>\n",
       "<style scoped>\n",
       "    .dataframe tbody tr th:only-of-type {\n",
       "        vertical-align: middle;\n",
       "    }\n",
       "\n",
       "    .dataframe tbody tr th {\n",
       "        vertical-align: top;\n",
       "    }\n",
       "\n",
       "    .dataframe thead th {\n",
       "        text-align: right;\n",
       "    }\n",
       "</style>\n",
       "<table border=\"1\" class=\"dataframe\">\n",
       "  <thead>\n",
       "    <tr style=\"text-align: right;\">\n",
       "      <th></th>\n",
       "      <th>budget</th>\n",
       "      <th>genres</th>\n",
       "      <th>homepage</th>\n",
       "      <th>id</th>\n",
       "      <th>keywords</th>\n",
       "      <th>original_language</th>\n",
       "      <th>original_title</th>\n",
       "      <th>overview</th>\n",
       "      <th>popularity</th>\n",
       "      <th>production_companies</th>\n",
       "      <th>production_countries</th>\n",
       "      <th>release_date</th>\n",
       "      <th>revenue</th>\n",
       "      <th>runtime</th>\n",
       "      <th>spoken_languages</th>\n",
       "      <th>status</th>\n",
       "      <th>tagline</th>\n",
       "      <th>title</th>\n",
       "      <th>vote_average</th>\n",
       "      <th>vote_count</th>\n",
       "    </tr>\n",
       "  </thead>\n",
       "  <tbody>\n",
       "    <tr>\n",
       "      <th>0</th>\n",
       "      <td>237000000</td>\n",
       "      <td>[{\"id\": 28, \"name\": \"Action\"}, {\"id\": 12, \"nam...</td>\n",
       "      <td>http://www.avatarmovie.com/</td>\n",
       "      <td>19995</td>\n",
       "      <td>[{\"id\": 1463, \"name\": \"culture clash\"}, {\"id\":...</td>\n",
       "      <td>en</td>\n",
       "      <td>Avatar</td>\n",
       "      <td>In the 22nd century, a paraplegic Marine is di...</td>\n",
       "      <td>150.437577</td>\n",
       "      <td>[{\"name\": \"Ingenious Film Partners\", \"id\": 289...</td>\n",
       "      <td>[{\"iso_3166_1\": \"US\", \"name\": \"United States o...</td>\n",
       "      <td>2009-12-10</td>\n",
       "      <td>2787965087</td>\n",
       "      <td>162.0</td>\n",
       "      <td>[{\"iso_639_1\": \"en\", \"name\": \"English\"}, {\"iso...</td>\n",
       "      <td>Released</td>\n",
       "      <td>Enter the World of Pandora.</td>\n",
       "      <td>Avatar</td>\n",
       "      <td>7.2</td>\n",
       "      <td>11800</td>\n",
       "    </tr>\n",
       "  </tbody>\n",
       "</table>\n",
       "</div>"
      ],
      "text/plain": [
       "      budget                                             genres  \\\n",
       "0  237000000  [{\"id\": 28, \"name\": \"Action\"}, {\"id\": 12, \"nam...   \n",
       "\n",
       "                      homepage     id  \\\n",
       "0  http://www.avatarmovie.com/  19995   \n",
       "\n",
       "                                            keywords original_language  \\\n",
       "0  [{\"id\": 1463, \"name\": \"culture clash\"}, {\"id\":...                en   \n",
       "\n",
       "  original_title                                           overview  \\\n",
       "0         Avatar  In the 22nd century, a paraplegic Marine is di...   \n",
       "\n",
       "   popularity                               production_companies  \\\n",
       "0  150.437577  [{\"name\": \"Ingenious Film Partners\", \"id\": 289...   \n",
       "\n",
       "                                production_countries release_date     revenue  \\\n",
       "0  [{\"iso_3166_1\": \"US\", \"name\": \"United States o...   2009-12-10  2787965087   \n",
       "\n",
       "   runtime                                   spoken_languages    status  \\\n",
       "0    162.0  [{\"iso_639_1\": \"en\", \"name\": \"English\"}, {\"iso...  Released   \n",
       "\n",
       "                       tagline   title  vote_average  vote_count  \n",
       "0  Enter the World of Pandora.  Avatar           7.2       11800  "
      ]
     },
     "execution_count": 4,
     "metadata": {},
     "output_type": "execute_result"
    }
   ],
   "source": [
    "movies.head(n=1)"
   ]
  },
  {
   "cell_type": "code",
   "execution_count": 5,
   "metadata": {},
   "outputs": [
    {
     "data": {
      "text/html": [
       "<div>\n",
       "<style scoped>\n",
       "    .dataframe tbody tr th:only-of-type {\n",
       "        vertical-align: middle;\n",
       "    }\n",
       "\n",
       "    .dataframe tbody tr th {\n",
       "        vertical-align: top;\n",
       "    }\n",
       "\n",
       "    .dataframe thead th {\n",
       "        text-align: right;\n",
       "    }\n",
       "</style>\n",
       "<table border=\"1\" class=\"dataframe\">\n",
       "  <thead>\n",
       "    <tr style=\"text-align: right;\">\n",
       "      <th></th>\n",
       "      <th>movie_id</th>\n",
       "      <th>title</th>\n",
       "      <th>cast</th>\n",
       "      <th>crew</th>\n",
       "    </tr>\n",
       "  </thead>\n",
       "  <tbody>\n",
       "    <tr>\n",
       "      <th>0</th>\n",
       "      <td>19995</td>\n",
       "      <td>Avatar</td>\n",
       "      <td>[{\"cast_id\": 242, \"character\": \"Jake Sully\", \"...</td>\n",
       "      <td>[{\"credit_id\": \"52fe48009251416c750aca23\", \"de...</td>\n",
       "    </tr>\n",
       "    <tr>\n",
       "      <th>1</th>\n",
       "      <td>285</td>\n",
       "      <td>Pirates of the Caribbean: At World's End</td>\n",
       "      <td>[{\"cast_id\": 4, \"character\": \"Captain Jack Spa...</td>\n",
       "      <td>[{\"credit_id\": \"52fe4232c3a36847f800b579\", \"de...</td>\n",
       "    </tr>\n",
       "    <tr>\n",
       "      <th>2</th>\n",
       "      <td>206647</td>\n",
       "      <td>Spectre</td>\n",
       "      <td>[{\"cast_id\": 1, \"character\": \"James Bond\", \"cr...</td>\n",
       "      <td>[{\"credit_id\": \"54805967c3a36829b5002c41\", \"de...</td>\n",
       "    </tr>\n",
       "    <tr>\n",
       "      <th>3</th>\n",
       "      <td>49026</td>\n",
       "      <td>The Dark Knight Rises</td>\n",
       "      <td>[{\"cast_id\": 2, \"character\": \"Bruce Wayne / Ba...</td>\n",
       "      <td>[{\"credit_id\": \"52fe4781c3a36847f81398c3\", \"de...</td>\n",
       "    </tr>\n",
       "    <tr>\n",
       "      <th>4</th>\n",
       "      <td>49529</td>\n",
       "      <td>John Carter</td>\n",
       "      <td>[{\"cast_id\": 5, \"character\": \"John Carter\", \"c...</td>\n",
       "      <td>[{\"credit_id\": \"52fe479ac3a36847f813eaa3\", \"de...</td>\n",
       "    </tr>\n",
       "  </tbody>\n",
       "</table>\n",
       "</div>"
      ],
      "text/plain": [
       "   movie_id                                     title  \\\n",
       "0     19995                                    Avatar   \n",
       "1       285  Pirates of the Caribbean: At World's End   \n",
       "2    206647                                   Spectre   \n",
       "3     49026                     The Dark Knight Rises   \n",
       "4     49529                               John Carter   \n",
       "\n",
       "                                                cast  \\\n",
       "0  [{\"cast_id\": 242, \"character\": \"Jake Sully\", \"...   \n",
       "1  [{\"cast_id\": 4, \"character\": \"Captain Jack Spa...   \n",
       "2  [{\"cast_id\": 1, \"character\": \"James Bond\", \"cr...   \n",
       "3  [{\"cast_id\": 2, \"character\": \"Bruce Wayne / Ba...   \n",
       "4  [{\"cast_id\": 5, \"character\": \"John Carter\", \"c...   \n",
       "\n",
       "                                                crew  \n",
       "0  [{\"credit_id\": \"52fe48009251416c750aca23\", \"de...  \n",
       "1  [{\"credit_id\": \"52fe4232c3a36847f800b579\", \"de...  \n",
       "2  [{\"credit_id\": \"54805967c3a36829b5002c41\", \"de...  \n",
       "3  [{\"credit_id\": \"52fe4781c3a36847f81398c3\", \"de...  \n",
       "4  [{\"credit_id\": \"52fe479ac3a36847f813eaa3\", \"de...  "
      ]
     },
     "execution_count": 5,
     "metadata": {},
     "output_type": "execute_result"
    }
   ],
   "source": [
    "credits.head()"
   ]
  },
  {
   "cell_type": "code",
   "execution_count": 6,
   "metadata": {},
   "outputs": [],
   "source": [
    "movies = pd.merge(left=movies, right=credits, left_on='id', right_on='movie_id')"
   ]
  },
  {
   "cell_type": "code",
   "execution_count": 7,
   "metadata": {},
   "outputs": [],
   "source": [
    "# turn json into python objects\n",
    "json_columns = ['genres', 'keywords', 'production_countries', 'spoken_languages', 'cast', 'crew']\n",
    "for column in json_columns:\n",
    "    movies[column] = movies[column].apply(json.loads, encoding=\"utf-8\")"
   ]
  },
  {
   "cell_type": "code",
   "execution_count": 8,
   "metadata": {},
   "outputs": [
    {
     "data": {
      "text/plain": [
       "[{'cast_id': 242,\n",
       "  'character': 'Jake Sully',\n",
       "  'credit_id': '5602a8a7c3a3685532001c9a',\n",
       "  'gender': 2,\n",
       "  'id': 65731,\n",
       "  'name': 'Sam Worthington',\n",
       "  'order': 0},\n",
       " {'cast_id': 3,\n",
       "  'character': 'Neytiri',\n",
       "  'credit_id': '52fe48009251416c750ac9cb',\n",
       "  'gender': 1,\n",
       "  'id': 8691,\n",
       "  'name': 'Zoe Saldana',\n",
       "  'order': 1}]"
      ]
     },
     "execution_count": 8,
     "metadata": {},
     "output_type": "execute_result"
    }
   ],
   "source": [
    "movies.cast[0][:2]"
   ]
  },
  {
   "cell_type": "code",
   "execution_count": 9,
   "metadata": {},
   "outputs": [
    {
     "data": {
      "text/plain": [
       "'Action'"
      ]
     },
     "execution_count": 9,
     "metadata": {},
     "output_type": "execute_result"
    }
   ],
   "source": [
    "movies.genres[0][0]['name']"
   ]
  },
  {
   "cell_type": "code",
   "execution_count": 10,
   "metadata": {},
   "outputs": [],
   "source": [
    "def actor_to_id_string(actor):\n",
    "    return '{} - {}'.format(actor['name'], actor['id'])"
   ]
  },
  {
   "cell_type": "code",
   "execution_count": 11,
   "metadata": {},
   "outputs": [],
   "source": [
    "def cast_to_actors(cast):\n",
    "    actors = []\n",
    "    for person in cast:\n",
    "        actors.append(actor_to_id_string(person))\n",
    "    return actors"
   ]
  },
  {
   "cell_type": "code",
   "execution_count": 12,
   "metadata": {},
   "outputs": [
    {
     "name": "stderr",
     "output_type": "stream",
     "text": [
      "/usr/local/lib/python3.6/site-packages/ipykernel_launcher.py:1: UserWarning: Pandas doesn't allow columns to be created via a new attribute name - see https://pandas.pydata.org/pandas-docs/stable/indexing.html#attribute-access\n",
      "  \"\"\"Entry point for launching an IPython kernel.\n"
     ]
    }
   ],
   "source": [
    "movies.actors = movies.cast.apply(cast_to_actors)"
   ]
  },
  {
   "cell_type": "markdown",
   "metadata": {},
   "source": [
    "### Create list of all actors"
   ]
  },
  {
   "cell_type": "code",
   "execution_count": 75,
   "metadata": {},
   "outputs": [
    {
     "data": {
      "text/html": [
       "<div>\n",
       "<style scoped>\n",
       "    .dataframe tbody tr th:only-of-type {\n",
       "        vertical-align: middle;\n",
       "    }\n",
       "\n",
       "    .dataframe tbody tr th {\n",
       "        vertical-align: top;\n",
       "    }\n",
       "\n",
       "    .dataframe thead th {\n",
       "        text-align: right;\n",
       "    }\n",
       "</style>\n",
       "<table border=\"1\" class=\"dataframe\">\n",
       "  <thead>\n",
       "    <tr style=\"text-align: right;\">\n",
       "      <th>col_0</th>\n",
       "      <th>count</th>\n",
       "    </tr>\n",
       "    <tr>\n",
       "      <th>row_0</th>\n",
       "      <th></th>\n",
       "    </tr>\n",
       "  </thead>\n",
       "  <tbody>\n",
       "    <tr>\n",
       "      <th>Samuel L. Jackson - 2231</th>\n",
       "      <td>67</td>\n",
       "    </tr>\n",
       "    <tr>\n",
       "      <th>Robert De Niro - 380</th>\n",
       "      <td>57</td>\n",
       "    </tr>\n",
       "    <tr>\n",
       "      <th>Bruce Willis - 62</th>\n",
       "      <td>51</td>\n",
       "    </tr>\n",
       "    <tr>\n",
       "      <th>Matt Damon - 1892</th>\n",
       "      <td>48</td>\n",
       "    </tr>\n",
       "    <tr>\n",
       "      <th>Morgan Freeman - 192</th>\n",
       "      <td>46</td>\n",
       "    </tr>\n",
       "    <tr>\n",
       "      <th>Steve Buscemi - 884</th>\n",
       "      <td>43</td>\n",
       "    </tr>\n",
       "    <tr>\n",
       "      <th>Liam Neeson - 3896</th>\n",
       "      <td>41</td>\n",
       "    </tr>\n",
       "    <tr>\n",
       "      <th>Johnny Depp - 85</th>\n",
       "      <td>40</td>\n",
       "    </tr>\n",
       "    <tr>\n",
       "      <th>Owen Wilson - 887</th>\n",
       "      <td>40</td>\n",
       "    </tr>\n",
       "    <tr>\n",
       "      <th>John Goodman - 1230</th>\n",
       "      <td>39</td>\n",
       "    </tr>\n",
       "    <tr>\n",
       "      <th>Alec Baldwin - 7447</th>\n",
       "      <td>39</td>\n",
       "    </tr>\n",
       "    <tr>\n",
       "      <th>Nicolas Cage - 2963</th>\n",
       "      <td>39</td>\n",
       "    </tr>\n",
       "  </tbody>\n",
       "</table>\n",
       "</div>"
      ],
      "text/plain": [
       "col_0                     count\n",
       "row_0                          \n",
       "Samuel L. Jackson - 2231     67\n",
       "Robert De Niro - 380         57\n",
       "Bruce Willis - 62            51\n",
       "Matt Damon - 1892            48\n",
       "Morgan Freeman - 192         46\n",
       "Steve Buscemi - 884          43\n",
       "Liam Neeson - 3896           41\n",
       "Johnny Depp - 85             40\n",
       "Owen Wilson - 887            40\n",
       "John Goodman - 1230          39\n",
       "Alec Baldwin - 7447          39\n",
       "Nicolas Cage - 2963          39"
      ]
     },
     "execution_count": 75,
     "metadata": {},
     "output_type": "execute_result"
    }
   ],
   "source": [
    "all_actors = []\n",
    "for actors in movies.actors:\n",
    "    for actor in actors:\n",
    "        all_actors.append(actor)\n",
    "actors = pd.Series(all_actors)\n",
    "unique_actors_count = pd.crosstab(actors, columns='count')\n",
    "\n",
    "unique_actors_count \\\n",
    "    .sort_values(by='count', ascending=False).head(12)"
   ]
  },
  {
   "cell_type": "markdown",
   "metadata": {},
   "source": [
    "#### Total Number of unique actors"
   ]
  },
  {
   "cell_type": "code",
   "execution_count": 16,
   "metadata": {},
   "outputs": [
    {
     "data": {
      "text/plain": [
       "54588"
      ]
     },
     "execution_count": 16,
     "metadata": {},
     "output_type": "execute_result"
    }
   ],
   "source": [
    "len(unique_actors_count)"
   ]
  },
  {
   "cell_type": "code",
   "execution_count": 17,
   "metadata": {},
   "outputs": [],
   "source": [
    "#### Total Number of actors that show up more than once"
   ]
  },
  {
   "cell_type": "code",
   "execution_count": 18,
   "metadata": {},
   "outputs": [
    {
     "data": {
      "text/plain": [
       "15661"
      ]
     },
     "execution_count": 18,
     "metadata": {},
     "output_type": "execute_result"
    }
   ],
   "source": [
    "len(unique_actors_count[unique_actors_count.values > 1])"
   ]
  },
  {
   "cell_type": "code",
   "execution_count": 19,
   "metadata": {},
   "outputs": [],
   "source": [
    "#### Total Number of actors that show up more than three times"
   ]
  },
  {
   "cell_type": "code",
   "execution_count": 20,
   "metadata": {},
   "outputs": [
    {
     "data": {
      "text/plain": [
       "5326"
      ]
     },
     "execution_count": 20,
     "metadata": {},
     "output_type": "execute_result"
    }
   ],
   "source": [
    "len(unique_actors_count[unique_actors_count.values > 3])"
   ]
  },
  {
   "cell_type": "code",
   "execution_count": 21,
   "metadata": {},
   "outputs": [
    {
     "data": {
      "text/html": [
       "<div>\n",
       "<style scoped>\n",
       "    .dataframe tbody tr th:only-of-type {\n",
       "        vertical-align: middle;\n",
       "    }\n",
       "\n",
       "    .dataframe tbody tr th {\n",
       "        vertical-align: top;\n",
       "    }\n",
       "\n",
       "    .dataframe thead th {\n",
       "        text-align: right;\n",
       "    }\n",
       "</style>\n",
       "<table border=\"1\" class=\"dataframe\">\n",
       "  <thead>\n",
       "    <tr style=\"text-align: right;\">\n",
       "      <th>col_0</th>\n",
       "      <th>count</th>\n",
       "    </tr>\n",
       "    <tr>\n",
       "      <th>row_0</th>\n",
       "      <th></th>\n",
       "    </tr>\n",
       "  </thead>\n",
       "  <tbody>\n",
       "    <tr>\n",
       "      <th>Samuel L. Jackson - 2231</th>\n",
       "      <td>67</td>\n",
       "    </tr>\n",
       "  </tbody>\n",
       "</table>\n",
       "</div>"
      ],
      "text/plain": [
       "col_0                     count\n",
       "row_0                          \n",
       "Samuel L. Jackson - 2231     67"
      ]
     },
     "execution_count": 21,
     "metadata": {},
     "output_type": "execute_result"
    }
   ],
   "source": [
    "sam_count = unique_actors_count[unique_actors_count.index == 'Samuel L. Jackson - 2231']\n",
    "sam_count"
   ]
  },
  {
   "cell_type": "code",
   "execution_count": 22,
   "metadata": {},
   "outputs": [
    {
     "data": {
      "text/plain": [
       "67"
      ]
     },
     "execution_count": 22,
     "metadata": {},
     "output_type": "execute_result"
    }
   ],
   "source": [
    "sam_count.values[0][0]"
   ]
  },
  {
   "cell_type": "markdown",
   "metadata": {},
   "source": [
    "### Create Actors Features"
   ]
  },
  {
   "cell_type": "code",
   "execution_count": 23,
   "metadata": {},
   "outputs": [],
   "source": [
    "actors_string_id_by_id = {}\n",
    "actor_counts_by_string_id = {}\n",
    "unique_actors_count_dict = unique_actors_count.to_dict()['count']\n",
    "\n",
    "def actor_has_more_than_x_movies(actor, number_of_movies = 3):\n",
    "    string_id = str(actor['id'])\n",
    "\n",
    "    # First, get the unique id created for the actor\n",
    "    actor_string_id = ''\n",
    "    if string_id in actors_string_id_by_id:\n",
    "        actor_string_id = actors_string_id_by_id[string_id]\n",
    "    else:\n",
    "        actor_string_id = actor_to_id_string(actor)\n",
    "        actors_string_id_by_id[string_id] = actor_string_id\n",
    "    \n",
    "    # Now let's see how many movies this actor has played in\n",
    "    actor_count = unique_actors_count_dict[actor_string_id]\n",
    "    return actor_count > number_of_movies"
   ]
  },
  {
   "cell_type": "code",
   "execution_count": 24,
   "metadata": {},
   "outputs": [
    {
     "data": {
      "text/plain": [
       "True"
      ]
     },
     "execution_count": 24,
     "metadata": {},
     "output_type": "execute_result"
    }
   ],
   "source": [
    "actor_has_more_than_x_movies(movies.cast[0][2], 1)"
   ]
  },
  {
   "cell_type": "markdown",
   "metadata": {},
   "source": [
    "#### Create a new feature that represents all actors that show up in more than 3 movies"
   ]
  },
  {
   "cell_type": "code",
   "execution_count": 25,
   "metadata": {},
   "outputs": [],
   "source": [
    "movies_actors_ids = []\n",
    "for actors in movies.cast:\n",
    "    movie_actors_ids = []\n",
    "    for actor in actors:\n",
    "        if (not actor_has_more_than_x_movies(actor, 3)):\n",
    "            continue\n",
    "        movie_actors_ids.append(str(actor['id']))\n",
    "    movies_actors_ids.append(' '.join(movie_actors_ids))"
   ]
  },
  {
   "cell_type": "markdown",
   "metadata": {},
   "source": [
    "## Actor Vectorization"
   ]
  },
  {
   "cell_type": "code",
   "execution_count": 26,
   "metadata": {},
   "outputs": [],
   "source": [
    "vectorizer = CountVectorizer()\n",
    "\n",
    "movie_vector = vectorizer.fit_transform(movies_actors_ids).toarray()\n",
    "actor_feature_names = vectorizer.get_feature_names()\n",
    "actor_vector_works = pd.DataFrame(movie_vector, columns=actor_feature_names)\n",
    "actor_vector_works['id'] = movies.id"
   ]
  },
  {
   "cell_type": "markdown",
   "metadata": {},
   "source": [
    "# Crew Vectorization"
   ]
  },
  {
   "cell_type": "markdown",
   "metadata": {},
   "source": [
    "### Determine if cast was in more than 2 movies"
   ]
  },
  {
   "cell_type": "code",
   "execution_count": 73,
   "metadata": {},
   "outputs": [
    {
     "data": {
      "text/plain": [
       "[{'cast_id': 242,\n",
       "  'character': 'Jake Sully',\n",
       "  'credit_id': '5602a8a7c3a3685532001c9a',\n",
       "  'gender': 2,\n",
       "  'id': 65731,\n",
       "  'name': 'Sam Worthington',\n",
       "  'order': 0},\n",
       " {'cast_id': 3,\n",
       "  'character': 'Neytiri',\n",
       "  'credit_id': '52fe48009251416c750ac9cb',\n",
       "  'gender': 1,\n",
       "  'id': 8691,\n",
       "  'name': 'Zoe Saldana',\n",
       "  'order': 1},\n",
       " {'cast_id': 25,\n",
       "  'character': 'Dr. Grace Augustine',\n",
       "  'credit_id': '52fe48009251416c750aca39',\n",
       "  'gender': 1,\n",
       "  'id': 10205,\n",
       "  'name': 'Sigourney Weaver',\n",
       "  'order': 2},\n",
       " {'cast_id': 4,\n",
       "  'character': 'Col. Quaritch',\n",
       "  'credit_id': '52fe48009251416c750ac9cf',\n",
       "  'gender': 2,\n",
       "  'id': 32747,\n",
       "  'name': 'Stephen Lang',\n",
       "  'order': 3},\n",
       " {'cast_id': 5,\n",
       "  'character': 'Trudy Chacon',\n",
       "  'credit_id': '52fe48009251416c750ac9d3',\n",
       "  'gender': 1,\n",
       "  'id': 17647,\n",
       "  'name': 'Michelle Rodriguez',\n",
       "  'order': 4},\n",
       " {'cast_id': 8,\n",
       "  'character': 'Selfridge',\n",
       "  'credit_id': '52fe48009251416c750ac9e1',\n",
       "  'gender': 2,\n",
       "  'id': 1771,\n",
       "  'name': 'Giovanni Ribisi',\n",
       "  'order': 5},\n",
       " {'cast_id': 7,\n",
       "  'character': 'Norm Spellman',\n",
       "  'credit_id': '52fe48009251416c750ac9dd',\n",
       "  'gender': 2,\n",
       "  'id': 59231,\n",
       "  'name': 'Joel David Moore',\n",
       "  'order': 6},\n",
       " {'cast_id': 9,\n",
       "  'character': 'Moat',\n",
       "  'credit_id': '52fe48009251416c750ac9e5',\n",
       "  'gender': 1,\n",
       "  'id': 30485,\n",
       "  'name': 'CCH Pounder',\n",
       "  'order': 7},\n",
       " {'cast_id': 11,\n",
       "  'character': 'Eytukan',\n",
       "  'credit_id': '52fe48009251416c750ac9ed',\n",
       "  'gender': 2,\n",
       "  'id': 15853,\n",
       "  'name': 'Wes Studi',\n",
       "  'order': 8},\n",
       " {'cast_id': 10,\n",
       "  'character': \"Tsu'Tey\",\n",
       "  'credit_id': '52fe48009251416c750ac9e9',\n",
       "  'gender': 2,\n",
       "  'id': 10964,\n",
       "  'name': 'Laz Alonso',\n",
       "  'order': 9},\n",
       " {'cast_id': 12,\n",
       "  'character': 'Dr. Max Patel',\n",
       "  'credit_id': '52fe48009251416c750ac9f1',\n",
       "  'gender': 2,\n",
       "  'id': 95697,\n",
       "  'name': 'Dileep Rao',\n",
       "  'order': 10},\n",
       " {'cast_id': 13,\n",
       "  'character': 'Lyle Wainfleet',\n",
       "  'credit_id': '52fe48009251416c750ac9f5',\n",
       "  'gender': 2,\n",
       "  'id': 98215,\n",
       "  'name': 'Matt Gerald',\n",
       "  'order': 11},\n",
       " {'cast_id': 32,\n",
       "  'character': 'Private Fike',\n",
       "  'credit_id': '52fe48009251416c750aca5b',\n",
       "  'gender': 2,\n",
       "  'id': 154153,\n",
       "  'name': 'Sean Anthony Moran',\n",
       "  'order': 12},\n",
       " {'cast_id': 33,\n",
       "  'character': 'Cryo Vault Med Tech',\n",
       "  'credit_id': '52fe48009251416c750aca5f',\n",
       "  'gender': 2,\n",
       "  'id': 397312,\n",
       "  'name': 'Jason Whyte',\n",
       "  'order': 13},\n",
       " {'cast_id': 34,\n",
       "  'character': 'Venture Star Crew Chief',\n",
       "  'credit_id': '52fe48009251416c750aca63',\n",
       "  'gender': 2,\n",
       "  'id': 42317,\n",
       "  'name': 'Scott Lawrence',\n",
       "  'order': 14},\n",
       " {'cast_id': 35,\n",
       "  'character': 'Lock Up Trooper',\n",
       "  'credit_id': '52fe48009251416c750aca67',\n",
       "  'gender': 2,\n",
       "  'id': 986734,\n",
       "  'name': 'Kelly Kilgour',\n",
       "  'order': 15},\n",
       " {'cast_id': 36,\n",
       "  'character': 'Shuttle Pilot',\n",
       "  'credit_id': '52fe48009251416c750aca6b',\n",
       "  'gender': 0,\n",
       "  'id': 1207227,\n",
       "  'name': 'James Patrick Pitt',\n",
       "  'order': 16},\n",
       " {'cast_id': 37,\n",
       "  'character': 'Shuttle Co-Pilot',\n",
       "  'credit_id': '52fe48009251416c750aca6f',\n",
       "  'gender': 0,\n",
       "  'id': 1180936,\n",
       "  'name': 'Sean Patrick Murphy',\n",
       "  'order': 17},\n",
       " {'cast_id': 38,\n",
       "  'character': 'Shuttle Crew Chief',\n",
       "  'credit_id': '52fe48009251416c750aca73',\n",
       "  'gender': 2,\n",
       "  'id': 1019578,\n",
       "  'name': 'Peter Dillon',\n",
       "  'order': 18},\n",
       " {'cast_id': 39,\n",
       "  'character': 'Tractor Operator / Troupe',\n",
       "  'credit_id': '52fe48009251416c750aca77',\n",
       "  'gender': 0,\n",
       "  'id': 91443,\n",
       "  'name': 'Kevin Dorman',\n",
       "  'order': 19},\n",
       " {'cast_id': 40,\n",
       "  'character': 'Dragon Gunship Pilot',\n",
       "  'credit_id': '52fe48009251416c750aca7b',\n",
       "  'gender': 2,\n",
       "  'id': 173391,\n",
       "  'name': 'Kelson Henderson',\n",
       "  'order': 20},\n",
       " {'cast_id': 41,\n",
       "  'character': 'Dragon Gunship Gunner',\n",
       "  'credit_id': '52fe48009251416c750aca7f',\n",
       "  'gender': 0,\n",
       "  'id': 1207236,\n",
       "  'name': 'David Van Horn',\n",
       "  'order': 21},\n",
       " {'cast_id': 42,\n",
       "  'character': 'Dragon Gunship Navigator',\n",
       "  'credit_id': '52fe48009251416c750aca83',\n",
       "  'gender': 0,\n",
       "  'id': 215913,\n",
       "  'name': 'Jacob Tomuri',\n",
       "  'order': 22},\n",
       " {'cast_id': 43,\n",
       "  'character': 'Suit #1',\n",
       "  'credit_id': '52fe48009251416c750aca87',\n",
       "  'gender': 0,\n",
       "  'id': 143206,\n",
       "  'name': 'Michael Blain-Rozgay',\n",
       "  'order': 23},\n",
       " {'cast_id': 44,\n",
       "  'character': 'Suit #2',\n",
       "  'credit_id': '52fe48009251416c750aca8b',\n",
       "  'gender': 2,\n",
       "  'id': 169676,\n",
       "  'name': 'Jon Curry',\n",
       "  'order': 24},\n",
       " {'cast_id': 46,\n",
       "  'character': 'Ambient Room Tech',\n",
       "  'credit_id': '52fe48009251416c750aca8f',\n",
       "  'gender': 0,\n",
       "  'id': 1048610,\n",
       "  'name': 'Luke Hawker',\n",
       "  'order': 25},\n",
       " {'cast_id': 47,\n",
       "  'character': 'Ambient Room Tech / Troupe',\n",
       "  'credit_id': '52fe48009251416c750aca93',\n",
       "  'gender': 0,\n",
       "  'id': 42288,\n",
       "  'name': 'Woody Schultz',\n",
       "  'order': 26},\n",
       " {'cast_id': 48,\n",
       "  'character': 'Horse Clan Leader',\n",
       "  'credit_id': '52fe48009251416c750aca97',\n",
       "  'gender': 2,\n",
       "  'id': 68278,\n",
       "  'name': 'Peter Mensah',\n",
       "  'order': 27},\n",
       " {'cast_id': 49,\n",
       "  'character': 'Link Room Tech',\n",
       "  'credit_id': '52fe48009251416c750aca9b',\n",
       "  'gender': 0,\n",
       "  'id': 1207247,\n",
       "  'name': 'Sonia Yee',\n",
       "  'order': 28},\n",
       " {'cast_id': 50,\n",
       "  'character': 'Basketball Avatar / Troupe',\n",
       "  'credit_id': '52fe48009251416c750aca9f',\n",
       "  'gender': 1,\n",
       "  'id': 1207248,\n",
       "  'name': 'Jahnel Curfman',\n",
       "  'order': 29},\n",
       " {'cast_id': 51,\n",
       "  'character': 'Basketball Avatar',\n",
       "  'credit_id': '52fe48009251416c750acaa3',\n",
       "  'gender': 0,\n",
       "  'id': 89714,\n",
       "  'name': 'Ilram Choi',\n",
       "  'order': 30},\n",
       " {'cast_id': 52,\n",
       "  'character': \"Na'vi Child\",\n",
       "  'credit_id': '52fe48009251416c750acaa7',\n",
       "  'gender': 0,\n",
       "  'id': 1207249,\n",
       "  'name': 'Kyla Warren',\n",
       "  'order': 31},\n",
       " {'cast_id': 53,\n",
       "  'character': 'Troupe',\n",
       "  'credit_id': '52fe48009251416c750acaab',\n",
       "  'gender': 0,\n",
       "  'id': 1207250,\n",
       "  'name': 'Lisa Roumain',\n",
       "  'order': 32},\n",
       " {'cast_id': 54,\n",
       "  'character': 'Troupe',\n",
       "  'credit_id': '52fe48009251416c750acaaf',\n",
       "  'gender': 1,\n",
       "  'id': 83105,\n",
       "  'name': 'Debra Wilson',\n",
       "  'order': 33},\n",
       " {'cast_id': 57,\n",
       "  'character': 'Troupe',\n",
       "  'credit_id': '52fe48009251416c750acabb',\n",
       "  'gender': 0,\n",
       "  'id': 1207253,\n",
       "  'name': 'Chris Mala',\n",
       "  'order': 34},\n",
       " {'cast_id': 55,\n",
       "  'character': 'Troupe',\n",
       "  'credit_id': '52fe48009251416c750acab3',\n",
       "  'gender': 0,\n",
       "  'id': 1207251,\n",
       "  'name': 'Taylor Kibby',\n",
       "  'order': 35},\n",
       " {'cast_id': 56,\n",
       "  'character': 'Troupe',\n",
       "  'credit_id': '52fe48009251416c750acab7',\n",
       "  'gender': 0,\n",
       "  'id': 1207252,\n",
       "  'name': 'Jodie Landau',\n",
       "  'order': 36},\n",
       " {'cast_id': 58,\n",
       "  'character': 'Troupe',\n",
       "  'credit_id': '52fe48009251416c750acabf',\n",
       "  'gender': 0,\n",
       "  'id': 1207254,\n",
       "  'name': 'Julie Lamm',\n",
       "  'order': 37},\n",
       " {'cast_id': 59,\n",
       "  'character': 'Troupe',\n",
       "  'credit_id': '52fe48009251416c750acac3',\n",
       "  'gender': 0,\n",
       "  'id': 1207257,\n",
       "  'name': 'Cullen B. Madden',\n",
       "  'order': 38},\n",
       " {'cast_id': 60,\n",
       "  'character': 'Troupe',\n",
       "  'credit_id': '52fe48009251416c750acac7',\n",
       "  'gender': 0,\n",
       "  'id': 1207259,\n",
       "  'name': 'Joseph Brady Madden',\n",
       "  'order': 39},\n",
       " {'cast_id': 61,\n",
       "  'character': 'Troupe',\n",
       "  'credit_id': '52fe48009251416c750acacb',\n",
       "  'gender': 0,\n",
       "  'id': 1207262,\n",
       "  'name': 'Frankie Torres',\n",
       "  'order': 40},\n",
       " {'cast_id': 62,\n",
       "  'character': 'Troupe',\n",
       "  'credit_id': '52fe48009251416c750acacf',\n",
       "  'gender': 1,\n",
       "  'id': 1158600,\n",
       "  'name': 'Austin Wilson',\n",
       "  'order': 41},\n",
       " {'cast_id': 63,\n",
       "  'character': 'Troupe',\n",
       "  'credit_id': '52fe48019251416c750acad3',\n",
       "  'gender': 1,\n",
       "  'id': 983705,\n",
       "  'name': 'Sara Wilson',\n",
       "  'order': 42},\n",
       " {'cast_id': 64,\n",
       "  'character': 'Troupe',\n",
       "  'credit_id': '52fe48019251416c750acad7',\n",
       "  'gender': 0,\n",
       "  'id': 1207263,\n",
       "  'name': 'Tamica Washington-Miller',\n",
       "  'order': 43},\n",
       " {'cast_id': 65,\n",
       "  'character': 'Op Center Staff',\n",
       "  'credit_id': '52fe48019251416c750acadb',\n",
       "  'gender': 1,\n",
       "  'id': 1145098,\n",
       "  'name': 'Lucy Briant',\n",
       "  'order': 44},\n",
       " {'cast_id': 66,\n",
       "  'character': 'Op Center Staff',\n",
       "  'credit_id': '52fe48019251416c750acadf',\n",
       "  'gender': 2,\n",
       "  'id': 33305,\n",
       "  'name': 'Nathan Meister',\n",
       "  'order': 45},\n",
       " {'cast_id': 67,\n",
       "  'character': 'Op Center Staff',\n",
       "  'credit_id': '52fe48019251416c750acae3',\n",
       "  'gender': 0,\n",
       "  'id': 1207264,\n",
       "  'name': 'Gerry Blair',\n",
       "  'order': 46},\n",
       " {'cast_id': 68,\n",
       "  'character': 'Op Center Staff',\n",
       "  'credit_id': '52fe48019251416c750acae7',\n",
       "  'gender': 2,\n",
       "  'id': 33311,\n",
       "  'name': 'Matthew Chamberlain',\n",
       "  'order': 47},\n",
       " {'cast_id': 69,\n",
       "  'character': 'Op Center Staff',\n",
       "  'credit_id': '52fe48019251416c750acaeb',\n",
       "  'gender': 0,\n",
       "  'id': 1207265,\n",
       "  'name': 'Paul Yates',\n",
       "  'order': 48},\n",
       " {'cast_id': 70,\n",
       "  'character': 'Op Center Duty Officer',\n",
       "  'credit_id': '52fe48019251416c750acaef',\n",
       "  'gender': 0,\n",
       "  'id': 1207266,\n",
       "  'name': 'Wray Wilson',\n",
       "  'order': 49},\n",
       " {'cast_id': 71,\n",
       "  'character': 'Op Center Staff',\n",
       "  'credit_id': '52fe48019251416c750acaf3',\n",
       "  'gender': 2,\n",
       "  'id': 54492,\n",
       "  'name': 'James Gaylyn',\n",
       "  'order': 50},\n",
       " {'cast_id': 72,\n",
       "  'character': 'Dancer',\n",
       "  'credit_id': '52fe48019251416c750acaf7',\n",
       "  'gender': 0,\n",
       "  'id': 1207267,\n",
       "  'name': 'Melvin Leno Clark III',\n",
       "  'order': 51},\n",
       " {'cast_id': 73,\n",
       "  'character': 'Dancer',\n",
       "  'credit_id': '52fe48019251416c750acafb',\n",
       "  'gender': 0,\n",
       "  'id': 1207268,\n",
       "  'name': 'Carvon Futrell',\n",
       "  'order': 52},\n",
       " {'cast_id': 74,\n",
       "  'character': 'Dancer',\n",
       "  'credit_id': '52fe48019251416c750acaff',\n",
       "  'gender': 0,\n",
       "  'id': 1207269,\n",
       "  'name': 'Brandon Jelkes',\n",
       "  'order': 53},\n",
       " {'cast_id': 75,\n",
       "  'character': 'Dancer',\n",
       "  'credit_id': '52fe48019251416c750acb03',\n",
       "  'gender': 0,\n",
       "  'id': 1207270,\n",
       "  'name': 'Micah Moch',\n",
       "  'order': 54},\n",
       " {'cast_id': 76,\n",
       "  'character': 'Dancer',\n",
       "  'credit_id': '52fe48019251416c750acb07',\n",
       "  'gender': 0,\n",
       "  'id': 1207271,\n",
       "  'name': 'Hanniyah Muhammad',\n",
       "  'order': 55},\n",
       " {'cast_id': 77,\n",
       "  'character': 'Dancer',\n",
       "  'credit_id': '52fe48019251416c750acb0b',\n",
       "  'gender': 0,\n",
       "  'id': 1207272,\n",
       "  'name': 'Christopher Nolen',\n",
       "  'order': 56},\n",
       " {'cast_id': 78,\n",
       "  'character': 'Dancer',\n",
       "  'credit_id': '52fe48019251416c750acb0f',\n",
       "  'gender': 0,\n",
       "  'id': 1207273,\n",
       "  'name': 'Christa Oliver',\n",
       "  'order': 57},\n",
       " {'cast_id': 79,\n",
       "  'character': 'Dancer',\n",
       "  'credit_id': '52fe48019251416c750acb13',\n",
       "  'gender': 0,\n",
       "  'id': 1207274,\n",
       "  'name': 'April Marie Thomas',\n",
       "  'order': 58},\n",
       " {'cast_id': 80,\n",
       "  'character': 'Dancer',\n",
       "  'credit_id': '52fe48019251416c750acb17',\n",
       "  'gender': 0,\n",
       "  'id': 1207275,\n",
       "  'name': 'Bravita A. Threatt',\n",
       "  'order': 59},\n",
       " {'cast_id': 81,\n",
       "  'character': 'Mining Chief (uncredited)',\n",
       "  'credit_id': '52fe48019251416c750acb1b',\n",
       "  'gender': 0,\n",
       "  'id': 1207276,\n",
       "  'name': 'Colin Bleasdale',\n",
       "  'order': 60},\n",
       " {'cast_id': 82,\n",
       "  'character': 'Veteran Miner (uncredited)',\n",
       "  'credit_id': '52fe48019251416c750acb1f',\n",
       "  'gender': 0,\n",
       "  'id': 107969,\n",
       "  'name': 'Mike Bodnar',\n",
       "  'order': 61},\n",
       " {'cast_id': 83,\n",
       "  'character': 'Richard (uncredited)',\n",
       "  'credit_id': '52fe48019251416c750acb23',\n",
       "  'gender': 0,\n",
       "  'id': 1207278,\n",
       "  'name': 'Matt Clayton',\n",
       "  'order': 62},\n",
       " {'cast_id': 84,\n",
       "  'character': \"Nav'i (uncredited)\",\n",
       "  'credit_id': '52fe48019251416c750acb27',\n",
       "  'gender': 1,\n",
       "  'id': 147898,\n",
       "  'name': 'Nicole Dionne',\n",
       "  'order': 63},\n",
       " {'cast_id': 85,\n",
       "  'character': 'Trooper (uncredited)',\n",
       "  'credit_id': '52fe48019251416c750acb2b',\n",
       "  'gender': 0,\n",
       "  'id': 1207280,\n",
       "  'name': 'Jamie Harrison',\n",
       "  'order': 64},\n",
       " {'cast_id': 86,\n",
       "  'character': 'Trooper (uncredited)',\n",
       "  'credit_id': '52fe48019251416c750acb2f',\n",
       "  'gender': 0,\n",
       "  'id': 1207281,\n",
       "  'name': 'Allan Henry',\n",
       "  'order': 65},\n",
       " {'cast_id': 87,\n",
       "  'character': 'Ground Technician (uncredited)',\n",
       "  'credit_id': '52fe48019251416c750acb33',\n",
       "  'gender': 2,\n",
       "  'id': 1207282,\n",
       "  'name': 'Anthony Ingruber',\n",
       "  'order': 66},\n",
       " {'cast_id': 88,\n",
       "  'character': 'Flight Crew Mechanic (uncredited)',\n",
       "  'credit_id': '52fe48019251416c750acb37',\n",
       "  'gender': 0,\n",
       "  'id': 1207283,\n",
       "  'name': 'Ashley Jeffery',\n",
       "  'order': 67},\n",
       " {'cast_id': 14,\n",
       "  'character': 'Samson Pilot',\n",
       "  'credit_id': '52fe48009251416c750ac9f9',\n",
       "  'gender': 0,\n",
       "  'id': 98216,\n",
       "  'name': 'Dean Knowsley',\n",
       "  'order': 68},\n",
       " {'cast_id': 89,\n",
       "  'character': 'Trooper (uncredited)',\n",
       "  'credit_id': '52fe48019251416c750acb3b',\n",
       "  'gender': 0,\n",
       "  'id': 1201399,\n",
       "  'name': 'Joseph Mika-Hunt',\n",
       "  'order': 69},\n",
       " {'cast_id': 90,\n",
       "  'character': 'Banshee (uncredited)',\n",
       "  'credit_id': '52fe48019251416c750acb3f',\n",
       "  'gender': 0,\n",
       "  'id': 236696,\n",
       "  'name': 'Terry Notary',\n",
       "  'order': 70},\n",
       " {'cast_id': 91,\n",
       "  'character': 'Soldier (uncredited)',\n",
       "  'credit_id': '52fe48019251416c750acb43',\n",
       "  'gender': 0,\n",
       "  'id': 1207287,\n",
       "  'name': 'Kai Pantano',\n",
       "  'order': 71},\n",
       " {'cast_id': 92,\n",
       "  'character': 'Blast Technician (uncredited)',\n",
       "  'credit_id': '52fe48019251416c750acb47',\n",
       "  'gender': 0,\n",
       "  'id': 1207288,\n",
       "  'name': 'Logan Pithyou',\n",
       "  'order': 72},\n",
       " {'cast_id': 93,\n",
       "  'character': 'Vindum Raah (uncredited)',\n",
       "  'credit_id': '52fe48019251416c750acb4b',\n",
       "  'gender': 0,\n",
       "  'id': 1207289,\n",
       "  'name': 'Stuart Pollock',\n",
       "  'order': 73},\n",
       " {'cast_id': 94,\n",
       "  'character': 'Hero (uncredited)',\n",
       "  'credit_id': '52fe48019251416c750acb4f',\n",
       "  'gender': 0,\n",
       "  'id': 584868,\n",
       "  'name': 'Raja',\n",
       "  'order': 74},\n",
       " {'cast_id': 95,\n",
       "  'character': 'Ops Centreworker (uncredited)',\n",
       "  'credit_id': '52fe48019251416c750acb53',\n",
       "  'gender': 0,\n",
       "  'id': 1207290,\n",
       "  'name': 'Gareth Ruck',\n",
       "  'order': 75},\n",
       " {'cast_id': 96,\n",
       "  'character': 'Engineer (uncredited)',\n",
       "  'credit_id': '52fe48019251416c750acb57',\n",
       "  'gender': 0,\n",
       "  'id': 1062463,\n",
       "  'name': 'Rhian Sheehan',\n",
       "  'order': 76},\n",
       " {'cast_id': 97,\n",
       "  'character': \"Col. Quaritch's Mech Suit (uncredited)\",\n",
       "  'credit_id': '52fe48019251416c750acb5b',\n",
       "  'gender': 0,\n",
       "  'id': 60656,\n",
       "  'name': 'T. J. Storm',\n",
       "  'order': 77},\n",
       " {'cast_id': 98,\n",
       "  'character': 'Female Marine (uncredited)',\n",
       "  'credit_id': '52fe48019251416c750acb5f',\n",
       "  'gender': 0,\n",
       "  'id': 1207291,\n",
       "  'name': 'Jodie Taylor',\n",
       "  'order': 78},\n",
       " {'cast_id': 99,\n",
       "  'character': 'Ikran Clan Leader (uncredited)',\n",
       "  'credit_id': '52fe48019251416c750acb63',\n",
       "  'gender': 1,\n",
       "  'id': 1186027,\n",
       "  'name': 'Alicia Vela-Bailey',\n",
       "  'order': 79},\n",
       " {'cast_id': 100,\n",
       "  'character': 'Geologist (uncredited)',\n",
       "  'credit_id': '52fe48019251416c750acb67',\n",
       "  'gender': 0,\n",
       "  'id': 1207292,\n",
       "  'name': 'Richard Whiteside',\n",
       "  'order': 80},\n",
       " {'cast_id': 101,\n",
       "  'character': \"Na'vi (uncredited)\",\n",
       "  'credit_id': '52fe48019251416c750acb6b',\n",
       "  'gender': 0,\n",
       "  'id': 103259,\n",
       "  'name': 'Nikie Zambo',\n",
       "  'order': 81},\n",
       " {'cast_id': 102,\n",
       "  'character': 'Ambient Room Tech / Troupe',\n",
       "  'credit_id': '52fe48019251416c750acb6f',\n",
       "  'gender': 1,\n",
       "  'id': 42286,\n",
       "  'name': 'Julene Renee',\n",
       "  'order': 82}]"
      ]
     },
     "execution_count": 73,
     "metadata": {},
     "output_type": "execute_result"
    }
   ],
   "source": [
    "movies.cast[0]"
   ]
  },
  {
   "cell_type": "code",
   "execution_count": null,
   "metadata": {},
   "outputs": [],
   "source": []
  },
  {
   "cell_type": "code",
   "execution_count": 80,
   "metadata": {},
   "outputs": [
    {
     "ename": "TypeError",
     "evalue": "unhashable type: 'dict'",
     "output_type": "error",
     "traceback": [
      "\u001b[0;31m---------------------------------------------------------------------------\u001b[0m",
      "\u001b[0;31mTypeError\u001b[0m                                 Traceback (most recent call last)",
      "\u001b[0;32m<ipython-input-80-32449d68e42e>\u001b[0m in \u001b[0;36m<module>\u001b[0;34m()\u001b[0m\n\u001b[1;32m      4\u001b[0m         \u001b[0mall_crews\u001b[0m\u001b[0;34m.\u001b[0m\u001b[0mappend\u001b[0m\u001b[0;34m(\u001b[0m\u001b[0mcrew\u001b[0m\u001b[0;34m)\u001b[0m\u001b[0;34m\u001b[0m\u001b[0m\n\u001b[1;32m      5\u001b[0m \u001b[0mcrews\u001b[0m \u001b[0;34m=\u001b[0m \u001b[0mpd\u001b[0m\u001b[0;34m.\u001b[0m\u001b[0mSeries\u001b[0m\u001b[0;34m(\u001b[0m\u001b[0mall_crews\u001b[0m\u001b[0;34m)\u001b[0m\u001b[0;34m\u001b[0m\u001b[0m\n\u001b[0;32m----> 6\u001b[0;31m \u001b[0munique_crews_count\u001b[0m \u001b[0;34m=\u001b[0m \u001b[0mpd\u001b[0m\u001b[0;34m.\u001b[0m\u001b[0mcrosstab\u001b[0m\u001b[0;34m(\u001b[0m\u001b[0mcrews\u001b[0m\u001b[0;34m,\u001b[0m \u001b[0mcolumns\u001b[0m\u001b[0;34m=\u001b[0m\u001b[0;34m'count'\u001b[0m\u001b[0;34m)\u001b[0m\u001b[0;34m\u001b[0m\u001b[0m\n\u001b[0m\u001b[1;32m      7\u001b[0m \u001b[0;34m\u001b[0m\u001b[0m\n\u001b[1;32m      8\u001b[0m \u001b[0munique_crews_count\u001b[0m     \u001b[0;34m.\u001b[0m\u001b[0msort_values\u001b[0m\u001b[0;34m(\u001b[0m\u001b[0mby\u001b[0m\u001b[0;34m=\u001b[0m\u001b[0;34m'count'\u001b[0m\u001b[0;34m,\u001b[0m \u001b[0mascending\u001b[0m\u001b[0;34m=\u001b[0m\u001b[0;32mFalse\u001b[0m\u001b[0;34m)\u001b[0m\u001b[0;34m.\u001b[0m\u001b[0mhead\u001b[0m\u001b[0;34m(\u001b[0m\u001b[0;36m12\u001b[0m\u001b[0;34m)\u001b[0m\u001b[0;34m\u001b[0m\u001b[0m\n",
      "\u001b[0;32m/usr/local/lib/python3.6/site-packages/pandas/core/reshape/pivot.py\u001b[0m in \u001b[0;36mcrosstab\u001b[0;34m(index, columns, values, rownames, colnames, aggfunc, margins, margins_name, dropna, normalize)\u001b[0m\n\u001b[1;32m    464\u001b[0m     table = df.pivot_table('__dummy__', index=rownames, columns=colnames,\n\u001b[1;32m    465\u001b[0m                            \u001b[0mmargins\u001b[0m\u001b[0;34m=\u001b[0m\u001b[0mmargins\u001b[0m\u001b[0;34m,\u001b[0m \u001b[0mmargins_name\u001b[0m\u001b[0;34m=\u001b[0m\u001b[0mmargins_name\u001b[0m\u001b[0;34m,\u001b[0m\u001b[0;34m\u001b[0m\u001b[0m\n\u001b[0;32m--> 466\u001b[0;31m                            dropna=dropna, **kwargs)\n\u001b[0m\u001b[1;32m    467\u001b[0m \u001b[0;34m\u001b[0m\u001b[0m\n\u001b[1;32m    468\u001b[0m     \u001b[0;31m# Post-process\u001b[0m\u001b[0;34m\u001b[0m\u001b[0;34m\u001b[0m\u001b[0m\n",
      "\u001b[0;32m/usr/local/lib/python3.6/site-packages/pandas/core/frame.py\u001b[0m in \u001b[0;36mpivot_table\u001b[0;34m(self, values, index, columns, aggfunc, fill_value, margins, dropna, margins_name)\u001b[0m\n\u001b[1;32m   4466\u001b[0m                            \u001b[0maggfunc\u001b[0m\u001b[0;34m=\u001b[0m\u001b[0maggfunc\u001b[0m\u001b[0;34m,\u001b[0m \u001b[0mfill_value\u001b[0m\u001b[0;34m=\u001b[0m\u001b[0mfill_value\u001b[0m\u001b[0;34m,\u001b[0m\u001b[0;34m\u001b[0m\u001b[0m\n\u001b[1;32m   4467\u001b[0m                            \u001b[0mmargins\u001b[0m\u001b[0;34m=\u001b[0m\u001b[0mmargins\u001b[0m\u001b[0;34m,\u001b[0m \u001b[0mdropna\u001b[0m\u001b[0;34m=\u001b[0m\u001b[0mdropna\u001b[0m\u001b[0;34m,\u001b[0m\u001b[0;34m\u001b[0m\u001b[0m\n\u001b[0;32m-> 4468\u001b[0;31m                            margins_name=margins_name)\n\u001b[0m\u001b[1;32m   4469\u001b[0m \u001b[0;34m\u001b[0m\u001b[0m\n\u001b[1;32m   4470\u001b[0m     \u001b[0;32mdef\u001b[0m \u001b[0mstack\u001b[0m\u001b[0;34m(\u001b[0m\u001b[0mself\u001b[0m\u001b[0;34m,\u001b[0m \u001b[0mlevel\u001b[0m\u001b[0;34m=\u001b[0m\u001b[0;34m-\u001b[0m\u001b[0;36m1\u001b[0m\u001b[0;34m,\u001b[0m \u001b[0mdropna\u001b[0m\u001b[0;34m=\u001b[0m\u001b[0;32mTrue\u001b[0m\u001b[0;34m)\u001b[0m\u001b[0;34m:\u001b[0m\u001b[0;34m\u001b[0m\u001b[0m\n",
      "\u001b[0;32m/usr/local/lib/python3.6/site-packages/pandas/core/reshape/pivot.py\u001b[0m in \u001b[0;36mpivot_table\u001b[0;34m(data, values, index, columns, aggfunc, fill_value, margins, dropna, margins_name)\u001b[0m\n\u001b[1;32m     80\u001b[0m \u001b[0;34m\u001b[0m\u001b[0m\n\u001b[1;32m     81\u001b[0m     \u001b[0mgrouped\u001b[0m \u001b[0;34m=\u001b[0m \u001b[0mdata\u001b[0m\u001b[0;34m.\u001b[0m\u001b[0mgroupby\u001b[0m\u001b[0;34m(\u001b[0m\u001b[0mkeys\u001b[0m\u001b[0;34m)\u001b[0m\u001b[0;34m\u001b[0m\u001b[0m\n\u001b[0;32m---> 82\u001b[0;31m     \u001b[0magged\u001b[0m \u001b[0;34m=\u001b[0m \u001b[0mgrouped\u001b[0m\u001b[0;34m.\u001b[0m\u001b[0magg\u001b[0m\u001b[0;34m(\u001b[0m\u001b[0maggfunc\u001b[0m\u001b[0;34m)\u001b[0m\u001b[0;34m\u001b[0m\u001b[0m\n\u001b[0m\u001b[1;32m     83\u001b[0m \u001b[0;34m\u001b[0m\u001b[0m\n\u001b[1;32m     84\u001b[0m     \u001b[0mtable\u001b[0m \u001b[0;34m=\u001b[0m \u001b[0magged\u001b[0m\u001b[0;34m\u001b[0m\u001b[0m\n",
      "\u001b[0;32m/usr/local/lib/python3.6/site-packages/pandas/core/groupby.py\u001b[0m in \u001b[0;36maggregate\u001b[0;34m(self, arg, *args, **kwargs)\u001b[0m\n\u001b[1;32m   4289\u001b[0m         versionadded=''))\n\u001b[1;32m   4290\u001b[0m     \u001b[0;32mdef\u001b[0m \u001b[0maggregate\u001b[0m\u001b[0;34m(\u001b[0m\u001b[0mself\u001b[0m\u001b[0;34m,\u001b[0m \u001b[0marg\u001b[0m\u001b[0;34m,\u001b[0m \u001b[0;34m*\u001b[0m\u001b[0margs\u001b[0m\u001b[0;34m,\u001b[0m \u001b[0;34m**\u001b[0m\u001b[0mkwargs\u001b[0m\u001b[0;34m)\u001b[0m\u001b[0;34m:\u001b[0m\u001b[0;34m\u001b[0m\u001b[0m\n\u001b[0;32m-> 4291\u001b[0;31m         \u001b[0;32mreturn\u001b[0m \u001b[0msuper\u001b[0m\u001b[0;34m(\u001b[0m\u001b[0mDataFrameGroupBy\u001b[0m\u001b[0;34m,\u001b[0m \u001b[0mself\u001b[0m\u001b[0;34m)\u001b[0m\u001b[0;34m.\u001b[0m\u001b[0maggregate\u001b[0m\u001b[0;34m(\u001b[0m\u001b[0marg\u001b[0m\u001b[0;34m,\u001b[0m \u001b[0;34m*\u001b[0m\u001b[0margs\u001b[0m\u001b[0;34m,\u001b[0m \u001b[0;34m**\u001b[0m\u001b[0mkwargs\u001b[0m\u001b[0;34m)\u001b[0m\u001b[0;34m\u001b[0m\u001b[0m\n\u001b[0m\u001b[1;32m   4292\u001b[0m \u001b[0;34m\u001b[0m\u001b[0m\n\u001b[1;32m   4293\u001b[0m     \u001b[0magg\u001b[0m \u001b[0;34m=\u001b[0m \u001b[0maggregate\u001b[0m\u001b[0;34m\u001b[0m\u001b[0m\n",
      "\u001b[0;32m/usr/local/lib/python3.6/site-packages/pandas/core/groupby.py\u001b[0m in \u001b[0;36maggregate\u001b[0;34m(self, arg, *args, **kwargs)\u001b[0m\n\u001b[1;32m   3730\u001b[0m             \u001b[0;31m# grouper specific aggregations\u001b[0m\u001b[0;34m\u001b[0m\u001b[0;34m\u001b[0m\u001b[0m\n\u001b[1;32m   3731\u001b[0m             \u001b[0;32mif\u001b[0m \u001b[0mself\u001b[0m\u001b[0;34m.\u001b[0m\u001b[0mgrouper\u001b[0m\u001b[0;34m.\u001b[0m\u001b[0mnkeys\u001b[0m \u001b[0;34m>\u001b[0m \u001b[0;36m1\u001b[0m\u001b[0;34m:\u001b[0m\u001b[0;34m\u001b[0m\u001b[0m\n\u001b[0;32m-> 3732\u001b[0;31m                 \u001b[0;32mreturn\u001b[0m \u001b[0mself\u001b[0m\u001b[0;34m.\u001b[0m\u001b[0m_python_agg_general\u001b[0m\u001b[0;34m(\u001b[0m\u001b[0marg\u001b[0m\u001b[0;34m,\u001b[0m \u001b[0;34m*\u001b[0m\u001b[0margs\u001b[0m\u001b[0;34m,\u001b[0m \u001b[0;34m**\u001b[0m\u001b[0mkwargs\u001b[0m\u001b[0;34m)\u001b[0m\u001b[0;34m\u001b[0m\u001b[0m\n\u001b[0m\u001b[1;32m   3733\u001b[0m             \u001b[0;32melse\u001b[0m\u001b[0;34m:\u001b[0m\u001b[0;34m\u001b[0m\u001b[0m\n\u001b[1;32m   3734\u001b[0m \u001b[0;34m\u001b[0m\u001b[0m\n",
      "\u001b[0;32m/usr/local/lib/python3.6/site-packages/pandas/core/groupby.py\u001b[0m in \u001b[0;36m_python_agg_general\u001b[0;34m(self, func, *args, **kwargs)\u001b[0m\n\u001b[1;32m    943\u001b[0m \u001b[0;34m\u001b[0m\u001b[0m\n\u001b[1;32m    944\u001b[0m         \u001b[0;32mif\u001b[0m \u001b[0mlen\u001b[0m\u001b[0;34m(\u001b[0m\u001b[0moutput\u001b[0m\u001b[0;34m)\u001b[0m \u001b[0;34m==\u001b[0m \u001b[0;36m0\u001b[0m\u001b[0;34m:\u001b[0m\u001b[0;34m\u001b[0m\u001b[0m\n\u001b[0;32m--> 945\u001b[0;31m             \u001b[0;32mreturn\u001b[0m \u001b[0mself\u001b[0m\u001b[0;34m.\u001b[0m\u001b[0m_python_apply_general\u001b[0m\u001b[0;34m(\u001b[0m\u001b[0mf\u001b[0m\u001b[0;34m)\u001b[0m\u001b[0;34m\u001b[0m\u001b[0m\n\u001b[0m\u001b[1;32m    946\u001b[0m \u001b[0;34m\u001b[0m\u001b[0m\n\u001b[1;32m    947\u001b[0m         \u001b[0;32mif\u001b[0m \u001b[0mself\u001b[0m\u001b[0;34m.\u001b[0m\u001b[0mgrouper\u001b[0m\u001b[0;34m.\u001b[0m\u001b[0m_filter_empty_groups\u001b[0m\u001b[0;34m:\u001b[0m\u001b[0;34m\u001b[0m\u001b[0m\n",
      "\u001b[0;32m/usr/local/lib/python3.6/site-packages/pandas/core/groupby.py\u001b[0m in \u001b[0;36m_python_apply_general\u001b[0;34m(self, f)\u001b[0m\n\u001b[1;32m    807\u001b[0m     \u001b[0;32mdef\u001b[0m \u001b[0m_python_apply_general\u001b[0m\u001b[0;34m(\u001b[0m\u001b[0mself\u001b[0m\u001b[0;34m,\u001b[0m \u001b[0mf\u001b[0m\u001b[0;34m)\u001b[0m\u001b[0;34m:\u001b[0m\u001b[0;34m\u001b[0m\u001b[0m\n\u001b[1;32m    808\u001b[0m         keys, values, mutated = self.grouper.apply(f, self._selected_obj,\n\u001b[0;32m--> 809\u001b[0;31m                                                    self.axis)\n\u001b[0m\u001b[1;32m    810\u001b[0m \u001b[0;34m\u001b[0m\u001b[0m\n\u001b[1;32m    811\u001b[0m         return self._wrap_applied_output(\n",
      "\u001b[0;32m/usr/local/lib/python3.6/site-packages/pandas/core/groupby.py\u001b[0m in \u001b[0;36mapply\u001b[0;34m(self, f, data, axis)\u001b[0m\n\u001b[1;32m   1943\u001b[0m     \u001b[0;32mdef\u001b[0m \u001b[0mapply\u001b[0m\u001b[0;34m(\u001b[0m\u001b[0mself\u001b[0m\u001b[0;34m,\u001b[0m \u001b[0mf\u001b[0m\u001b[0;34m,\u001b[0m \u001b[0mdata\u001b[0m\u001b[0;34m,\u001b[0m \u001b[0maxis\u001b[0m\u001b[0;34m=\u001b[0m\u001b[0;36m0\u001b[0m\u001b[0;34m)\u001b[0m\u001b[0;34m:\u001b[0m\u001b[0;34m\u001b[0m\u001b[0m\n\u001b[1;32m   1944\u001b[0m         \u001b[0mmutated\u001b[0m \u001b[0;34m=\u001b[0m \u001b[0mself\u001b[0m\u001b[0;34m.\u001b[0m\u001b[0mmutated\u001b[0m\u001b[0;34m\u001b[0m\u001b[0m\n\u001b[0;32m-> 1945\u001b[0;31m         \u001b[0msplitter\u001b[0m \u001b[0;34m=\u001b[0m \u001b[0mself\u001b[0m\u001b[0;34m.\u001b[0m\u001b[0m_get_splitter\u001b[0m\u001b[0;34m(\u001b[0m\u001b[0mdata\u001b[0m\u001b[0;34m,\u001b[0m \u001b[0maxis\u001b[0m\u001b[0;34m=\u001b[0m\u001b[0maxis\u001b[0m\u001b[0;34m)\u001b[0m\u001b[0;34m\u001b[0m\u001b[0m\n\u001b[0m\u001b[1;32m   1946\u001b[0m         \u001b[0mgroup_keys\u001b[0m \u001b[0;34m=\u001b[0m \u001b[0mself\u001b[0m\u001b[0;34m.\u001b[0m\u001b[0m_get_group_keys\u001b[0m\u001b[0;34m(\u001b[0m\u001b[0;34m)\u001b[0m\u001b[0;34m\u001b[0m\u001b[0m\n\u001b[1;32m   1947\u001b[0m \u001b[0;34m\u001b[0m\u001b[0m\n",
      "\u001b[0;32m/usr/local/lib/python3.6/site-packages/pandas/core/groupby.py\u001b[0m in \u001b[0;36m_get_splitter\u001b[0;34m(self, data, axis)\u001b[0m\n\u001b[1;32m   1926\u001b[0m \u001b[0;34m\u001b[0m\u001b[0m\n\u001b[1;32m   1927\u001b[0m     \u001b[0;32mdef\u001b[0m \u001b[0m_get_splitter\u001b[0m\u001b[0;34m(\u001b[0m\u001b[0mself\u001b[0m\u001b[0;34m,\u001b[0m \u001b[0mdata\u001b[0m\u001b[0;34m,\u001b[0m \u001b[0maxis\u001b[0m\u001b[0;34m=\u001b[0m\u001b[0;36m0\u001b[0m\u001b[0;34m)\u001b[0m\u001b[0;34m:\u001b[0m\u001b[0;34m\u001b[0m\u001b[0m\n\u001b[0;32m-> 1928\u001b[0;31m         \u001b[0mcomp_ids\u001b[0m\u001b[0;34m,\u001b[0m \u001b[0m_\u001b[0m\u001b[0;34m,\u001b[0m \u001b[0mngroups\u001b[0m \u001b[0;34m=\u001b[0m \u001b[0mself\u001b[0m\u001b[0;34m.\u001b[0m\u001b[0mgroup_info\u001b[0m\u001b[0;34m\u001b[0m\u001b[0m\n\u001b[0m\u001b[1;32m   1929\u001b[0m         \u001b[0;32mreturn\u001b[0m \u001b[0mget_splitter\u001b[0m\u001b[0;34m(\u001b[0m\u001b[0mdata\u001b[0m\u001b[0;34m,\u001b[0m \u001b[0mcomp_ids\u001b[0m\u001b[0;34m,\u001b[0m \u001b[0mngroups\u001b[0m\u001b[0;34m,\u001b[0m \u001b[0maxis\u001b[0m\u001b[0;34m=\u001b[0m\u001b[0maxis\u001b[0m\u001b[0;34m)\u001b[0m\u001b[0;34m\u001b[0m\u001b[0m\n\u001b[1;32m   1930\u001b[0m \u001b[0;34m\u001b[0m\u001b[0m\n",
      "\u001b[0;32mpandas/_libs/properties.pyx\u001b[0m in \u001b[0;36mpandas._libs.properties.cache_readonly.__get__\u001b[0;34m()\u001b[0m\n",
      "\u001b[0;32m/usr/local/lib/python3.6/site-packages/pandas/core/groupby.py\u001b[0m in \u001b[0;36mgroup_info\u001b[0;34m(self)\u001b[0m\n\u001b[1;32m   2038\u001b[0m     \u001b[0;34m@\u001b[0m\u001b[0mcache_readonly\u001b[0m\u001b[0;34m\u001b[0m\u001b[0m\n\u001b[1;32m   2039\u001b[0m     \u001b[0;32mdef\u001b[0m \u001b[0mgroup_info\u001b[0m\u001b[0;34m(\u001b[0m\u001b[0mself\u001b[0m\u001b[0;34m)\u001b[0m\u001b[0;34m:\u001b[0m\u001b[0;34m\u001b[0m\u001b[0m\n\u001b[0;32m-> 2040\u001b[0;31m         \u001b[0mcomp_ids\u001b[0m\u001b[0;34m,\u001b[0m \u001b[0mobs_group_ids\u001b[0m \u001b[0;34m=\u001b[0m \u001b[0mself\u001b[0m\u001b[0;34m.\u001b[0m\u001b[0m_get_compressed_labels\u001b[0m\u001b[0;34m(\u001b[0m\u001b[0;34m)\u001b[0m\u001b[0;34m\u001b[0m\u001b[0m\n\u001b[0m\u001b[1;32m   2041\u001b[0m \u001b[0;34m\u001b[0m\u001b[0m\n\u001b[1;32m   2042\u001b[0m         \u001b[0mngroups\u001b[0m \u001b[0;34m=\u001b[0m \u001b[0mlen\u001b[0m\u001b[0;34m(\u001b[0m\u001b[0mobs_group_ids\u001b[0m\u001b[0;34m)\u001b[0m\u001b[0;34m\u001b[0m\u001b[0m\n",
      "\u001b[0;32m/usr/local/lib/python3.6/site-packages/pandas/core/groupby.py\u001b[0m in \u001b[0;36m_get_compressed_labels\u001b[0;34m(self)\u001b[0m\n\u001b[1;32m   2054\u001b[0m \u001b[0;34m\u001b[0m\u001b[0m\n\u001b[1;32m   2055\u001b[0m     \u001b[0;32mdef\u001b[0m \u001b[0m_get_compressed_labels\u001b[0m\u001b[0;34m(\u001b[0m\u001b[0mself\u001b[0m\u001b[0;34m)\u001b[0m\u001b[0;34m:\u001b[0m\u001b[0;34m\u001b[0m\u001b[0m\n\u001b[0;32m-> 2056\u001b[0;31m         \u001b[0mall_labels\u001b[0m \u001b[0;34m=\u001b[0m \u001b[0;34m[\u001b[0m\u001b[0mping\u001b[0m\u001b[0;34m.\u001b[0m\u001b[0mlabels\u001b[0m \u001b[0;32mfor\u001b[0m \u001b[0mping\u001b[0m \u001b[0;32min\u001b[0m \u001b[0mself\u001b[0m\u001b[0;34m.\u001b[0m\u001b[0mgroupings\u001b[0m\u001b[0;34m]\u001b[0m\u001b[0;34m\u001b[0m\u001b[0m\n\u001b[0m\u001b[1;32m   2057\u001b[0m         \u001b[0;32mif\u001b[0m \u001b[0mlen\u001b[0m\u001b[0;34m(\u001b[0m\u001b[0mall_labels\u001b[0m\u001b[0;34m)\u001b[0m \u001b[0;34m>\u001b[0m \u001b[0;36m1\u001b[0m\u001b[0;34m:\u001b[0m\u001b[0;34m\u001b[0m\u001b[0m\n\u001b[1;32m   2058\u001b[0m             group_index = get_group_index(all_labels, self.shape,\n",
      "\u001b[0;32m/usr/local/lib/python3.6/site-packages/pandas/core/groupby.py\u001b[0m in \u001b[0;36m<listcomp>\u001b[0;34m(.0)\u001b[0m\n\u001b[1;32m   2054\u001b[0m \u001b[0;34m\u001b[0m\u001b[0m\n\u001b[1;32m   2055\u001b[0m     \u001b[0;32mdef\u001b[0m \u001b[0m_get_compressed_labels\u001b[0m\u001b[0;34m(\u001b[0m\u001b[0mself\u001b[0m\u001b[0;34m)\u001b[0m\u001b[0;34m:\u001b[0m\u001b[0;34m\u001b[0m\u001b[0m\n\u001b[0;32m-> 2056\u001b[0;31m         \u001b[0mall_labels\u001b[0m \u001b[0;34m=\u001b[0m \u001b[0;34m[\u001b[0m\u001b[0mping\u001b[0m\u001b[0;34m.\u001b[0m\u001b[0mlabels\u001b[0m \u001b[0;32mfor\u001b[0m \u001b[0mping\u001b[0m \u001b[0;32min\u001b[0m \u001b[0mself\u001b[0m\u001b[0;34m.\u001b[0m\u001b[0mgroupings\u001b[0m\u001b[0;34m]\u001b[0m\u001b[0;34m\u001b[0m\u001b[0m\n\u001b[0m\u001b[1;32m   2057\u001b[0m         \u001b[0;32mif\u001b[0m \u001b[0mlen\u001b[0m\u001b[0;34m(\u001b[0m\u001b[0mall_labels\u001b[0m\u001b[0;34m)\u001b[0m \u001b[0;34m>\u001b[0m \u001b[0;36m1\u001b[0m\u001b[0;34m:\u001b[0m\u001b[0;34m\u001b[0m\u001b[0m\n\u001b[1;32m   2058\u001b[0m             group_index = get_group_index(all_labels, self.shape,\n",
      "\u001b[0;32m/usr/local/lib/python3.6/site-packages/pandas/core/groupby.py\u001b[0m in \u001b[0;36mlabels\u001b[0;34m(self)\u001b[0m\n\u001b[1;32m   2748\u001b[0m     \u001b[0;32mdef\u001b[0m \u001b[0mlabels\u001b[0m\u001b[0;34m(\u001b[0m\u001b[0mself\u001b[0m\u001b[0;34m)\u001b[0m\u001b[0;34m:\u001b[0m\u001b[0;34m\u001b[0m\u001b[0m\n\u001b[1;32m   2749\u001b[0m         \u001b[0;32mif\u001b[0m \u001b[0mself\u001b[0m\u001b[0;34m.\u001b[0m\u001b[0m_labels\u001b[0m \u001b[0;32mis\u001b[0m \u001b[0;32mNone\u001b[0m\u001b[0;34m:\u001b[0m\u001b[0;34m\u001b[0m\u001b[0m\n\u001b[0;32m-> 2750\u001b[0;31m             \u001b[0mself\u001b[0m\u001b[0;34m.\u001b[0m\u001b[0m_make_labels\u001b[0m\u001b[0;34m(\u001b[0m\u001b[0;34m)\u001b[0m\u001b[0;34m\u001b[0m\u001b[0m\n\u001b[0m\u001b[1;32m   2751\u001b[0m         \u001b[0;32mreturn\u001b[0m \u001b[0mself\u001b[0m\u001b[0;34m.\u001b[0m\u001b[0m_labels\u001b[0m\u001b[0;34m\u001b[0m\u001b[0m\n\u001b[1;32m   2752\u001b[0m \u001b[0;34m\u001b[0m\u001b[0m\n",
      "\u001b[0;32m/usr/local/lib/python3.6/site-packages/pandas/core/groupby.py\u001b[0m in \u001b[0;36m_make_labels\u001b[0;34m(self)\u001b[0m\n\u001b[1;32m   2765\u001b[0m             \u001b[0;32melse\u001b[0m\u001b[0;34m:\u001b[0m\u001b[0;34m\u001b[0m\u001b[0m\n\u001b[1;32m   2766\u001b[0m                 labels, uniques = algorithms.factorize(\n\u001b[0;32m-> 2767\u001b[0;31m                     self.grouper, sort=self.sort)\n\u001b[0m\u001b[1;32m   2768\u001b[0m                 \u001b[0muniques\u001b[0m \u001b[0;34m=\u001b[0m \u001b[0mIndex\u001b[0m\u001b[0;34m(\u001b[0m\u001b[0muniques\u001b[0m\u001b[0;34m,\u001b[0m \u001b[0mname\u001b[0m\u001b[0;34m=\u001b[0m\u001b[0mself\u001b[0m\u001b[0;34m.\u001b[0m\u001b[0mname\u001b[0m\u001b[0;34m)\u001b[0m\u001b[0;34m\u001b[0m\u001b[0m\n\u001b[1;32m   2769\u001b[0m             \u001b[0mself\u001b[0m\u001b[0;34m.\u001b[0m\u001b[0m_labels\u001b[0m \u001b[0;34m=\u001b[0m \u001b[0mlabels\u001b[0m\u001b[0;34m\u001b[0m\u001b[0m\n",
      "\u001b[0;32m/usr/local/lib/python3.6/site-packages/pandas/core/algorithms.py\u001b[0m in \u001b[0;36mfactorize\u001b[0;34m(values, sort, order, na_sentinel, size_hint)\u001b[0m\n\u001b[1;32m    469\u001b[0m     \u001b[0muniques\u001b[0m \u001b[0;34m=\u001b[0m \u001b[0mvec_klass\u001b[0m\u001b[0;34m(\u001b[0m\u001b[0;34m)\u001b[0m\u001b[0;34m\u001b[0m\u001b[0m\n\u001b[1;32m    470\u001b[0m     \u001b[0mcheck_nulls\u001b[0m \u001b[0;34m=\u001b[0m \u001b[0;32mnot\u001b[0m \u001b[0mis_integer_dtype\u001b[0m\u001b[0;34m(\u001b[0m\u001b[0moriginal\u001b[0m\u001b[0;34m)\u001b[0m\u001b[0;34m\u001b[0m\u001b[0m\n\u001b[0;32m--> 471\u001b[0;31m     \u001b[0mlabels\u001b[0m \u001b[0;34m=\u001b[0m \u001b[0mtable\u001b[0m\u001b[0;34m.\u001b[0m\u001b[0mget_labels\u001b[0m\u001b[0;34m(\u001b[0m\u001b[0mvalues\u001b[0m\u001b[0;34m,\u001b[0m \u001b[0muniques\u001b[0m\u001b[0;34m,\u001b[0m \u001b[0;36m0\u001b[0m\u001b[0;34m,\u001b[0m \u001b[0mna_sentinel\u001b[0m\u001b[0;34m,\u001b[0m \u001b[0mcheck_nulls\u001b[0m\u001b[0;34m)\u001b[0m\u001b[0;34m\u001b[0m\u001b[0m\n\u001b[0m\u001b[1;32m    472\u001b[0m \u001b[0;34m\u001b[0m\u001b[0m\n\u001b[1;32m    473\u001b[0m     \u001b[0mlabels\u001b[0m \u001b[0;34m=\u001b[0m \u001b[0m_ensure_platform_int\u001b[0m\u001b[0;34m(\u001b[0m\u001b[0mlabels\u001b[0m\u001b[0;34m)\u001b[0m\u001b[0;34m\u001b[0m\u001b[0m\n",
      "\u001b[0;32mpandas/_libs/hashtable_class_helper.pxi\u001b[0m in \u001b[0;36mpandas._libs.hashtable.PyObjectHashTable.get_labels\u001b[0;34m()\u001b[0m\n",
      "\u001b[0;31mTypeError\u001b[0m: unhashable type: 'dict'"
     ]
    }
   ],
   "source": [
    "all_crews = []\n",
    "for crews in movies.crew:\n",
    "    for crew in crews:\n",
    "        all_crews.append(crew)\n",
    "crews = pd.Series(all_crews)\n",
    "unique_crews_count = pd.crosstab(crews, columns='count')\n",
    "\n",
    "unique_crews_count \\\n",
    "    .sort_values(by='count', ascending=False).head(12)"
   ]
  },
  {
   "cell_type": "code",
   "execution_count": 74,
   "metadata": {},
   "outputs": [
    {
     "ename": "NameError",
     "evalue": "name 'unique_crew_count' is not defined",
     "output_type": "error",
     "traceback": [
      "\u001b[0;31m---------------------------------------------------------------------------\u001b[0m",
      "\u001b[0;31mNameError\u001b[0m                                 Traceback (most recent call last)",
      "\u001b[0;32m<ipython-input-74-67404659156d>\u001b[0m in \u001b[0;36m<module>\u001b[0;34m()\u001b[0m\n\u001b[1;32m      1\u001b[0m \u001b[0mcrew_string_id_by_id\u001b[0m \u001b[0;34m=\u001b[0m \u001b[0;34m{\u001b[0m\u001b[0;34m}\u001b[0m\u001b[0;34m\u001b[0m\u001b[0m\n\u001b[1;32m      2\u001b[0m \u001b[0mcrew_counts_by_string_id\u001b[0m \u001b[0;34m=\u001b[0m \u001b[0;34m{\u001b[0m\u001b[0;34m}\u001b[0m\u001b[0;34m\u001b[0m\u001b[0m\n\u001b[0;32m----> 3\u001b[0;31m \u001b[0munique_crew_count_dict\u001b[0m \u001b[0;34m=\u001b[0m \u001b[0munique_crew_count\u001b[0m\u001b[0;34m.\u001b[0m\u001b[0mto_dict\u001b[0m\u001b[0;34m(\u001b[0m\u001b[0;34m)\u001b[0m\u001b[0;34m[\u001b[0m\u001b[0;34m'count'\u001b[0m\u001b[0;34m]\u001b[0m\u001b[0;34m\u001b[0m\u001b[0m\n\u001b[0m\u001b[1;32m      4\u001b[0m \u001b[0;34m\u001b[0m\u001b[0m\n\u001b[1;32m      5\u001b[0m \u001b[0;32mdef\u001b[0m \u001b[0mcrew_has_more_than_x_movies\u001b[0m\u001b[0;34m(\u001b[0m\u001b[0mcrew\u001b[0m\u001b[0;34m,\u001b[0m \u001b[0mnumber_of_movies\u001b[0m \u001b[0;34m=\u001b[0m \u001b[0;36m3\u001b[0m\u001b[0;34m)\u001b[0m\u001b[0;34m:\u001b[0m\u001b[0;34m\u001b[0m\u001b[0m\n",
      "\u001b[0;31mNameError\u001b[0m: name 'unique_crew_count' is not defined"
     ]
    }
   ],
   "source": [
    "crew_string_id_by_id = {}\n",
    "crew_counts_by_string_id = {}\n",
    "unique_crew_count_dict = unique_crew_count.to_dict()['count']\n",
    "\n",
    "def crew_has_more_than_x_movies(crew, number_of_movies = 3):\n",
    "    string_id = str(crew['id'])\n",
    "\n",
    "    # First, get the unique id created for the crew\n",
    "    crew_string_id = ''\n",
    "    if string_id in crew_string_id_by_id:\n",
    "        crew_string_id = crew_string_id_by_id[string_id]\n",
    "    else:\n",
    "        crew_string_id = crew_to_id_string(crew)\n",
    "        crew_string_id_by_id[string_id] = crew_string_id\n",
    "    \n",
    "    # Now let's see how many movies this crew has played in\n",
    "    crew_count = unique_crew_count_dict[crew_string_id]\n",
    "    return crew_count > number_of_movies"
   ]
  },
  {
   "cell_type": "markdown",
   "metadata": {},
   "source": [
    "### label records as having Any Star (top 5 high performers)"
   ]
  },
  {
   "cell_type": "code",
   "execution_count": 27,
   "metadata": {},
   "outputs": [
    {
     "data": {
      "text/plain": [
       "257"
      ]
     },
     "execution_count": 27,
     "metadata": {},
     "output_type": "execute_result"
    }
   ],
   "source": [
    "stars = [\n",
    "    '2231', # Samuel L. Jackson\n",
    "    '380',  # Robert De Niro\n",
    "    '62',   # Bruce Willis\n",
    "    '1892', # Matt Damon\n",
    "    '192',  # Morgan Freeman\n",
    "]\n",
    "movies['stars'] = actor_vector_works[stars].any(axis='columns')\n",
    "movies_with_stars = movies[movies.stars == True]\n",
    "len(movies_with_stars)"
   ]
  },
  {
   "cell_type": "markdown",
   "metadata": {},
   "source": [
    "### label records as having Samuel L. Jackson"
   ]
  },
  {
   "cell_type": "code",
   "execution_count": 28,
   "metadata": {},
   "outputs": [],
   "source": [
    "movies['samuel'] = actor_vector_works['2231'] == 1"
   ]
  },
  {
   "cell_type": "code",
   "execution_count": 29,
   "metadata": {},
   "outputs": [
    {
     "data": {
      "text/plain": [
       "(4803, 5321)"
      ]
     },
     "execution_count": 29,
     "metadata": {},
     "output_type": "execute_result"
    }
   ],
   "source": [
    "actor_vector_works.shape"
   ]
  },
  {
   "cell_type": "code",
   "execution_count": 30,
   "metadata": {},
   "outputs": [],
   "source": [
    "movies_with_samuel = movies[movies.samuel == True]"
   ]
  },
  {
   "cell_type": "markdown",
   "metadata": {},
   "source": [
    "#### There should be 67 movies with Samuel L Jackson"
   ]
  },
  {
   "cell_type": "code",
   "execution_count": 31,
   "metadata": {},
   "outputs": [
    {
     "data": {
      "text/plain": [
       "67"
      ]
     },
     "execution_count": 31,
     "metadata": {},
     "output_type": "execute_result"
    }
   ],
   "source": [
    "len(movies_with_samuel)"
   ]
  },
  {
   "cell_type": "code",
   "execution_count": 32,
   "metadata": {},
   "outputs": [
    {
     "data": {
      "text/plain": [
       "0.94649177597335"
      ]
     },
     "execution_count": 32,
     "metadata": {},
     "output_type": "execute_result"
    }
   ],
   "source": [
    "baseline_prediction = len(movies_with_stars) / len(movies)\n",
    "1 - baseline_prediction"
   ]
  },
  {
   "cell_type": "markdown",
   "metadata": {},
   "source": [
    "# Genres"
   ]
  },
  {
   "cell_type": "code",
   "execution_count": 33,
   "metadata": {},
   "outputs": [
    {
     "data": {
      "text/plain": [
       "0    [{'id': 28, 'name': 'Action'}, {'id': 12, 'nam...\n",
       "1    [{'id': 12, 'name': 'Adventure'}, {'id': 14, '...\n",
       "2    [{'id': 28, 'name': 'Action'}, {'id': 12, 'nam...\n",
       "3    [{'id': 28, 'name': 'Action'}, {'id': 80, 'nam...\n",
       "4    [{'id': 28, 'name': 'Action'}, {'id': 12, 'nam...\n",
       "Name: genres, dtype: object"
      ]
     },
     "execution_count": 33,
     "metadata": {},
     "output_type": "execute_result"
    }
   ],
   "source": [
    "movies.genres.head()"
   ]
  },
  {
   "cell_type": "code",
   "execution_count": 34,
   "metadata": {},
   "outputs": [
    {
     "data": {
      "text/plain": [
       "{'id': 28, 'name': 'Action'}"
      ]
     },
     "execution_count": 34,
     "metadata": {},
     "output_type": "execute_result"
    }
   ],
   "source": [
    "movies.genres[0][0]"
   ]
  },
  {
   "cell_type": "code",
   "execution_count": 35,
   "metadata": {},
   "outputs": [],
   "source": [
    "def unique_genres(movies_genres):\n",
    "    genre_map = {}\n",
    "    for genres in movies_genres:\n",
    "        for genre in genres:\n",
    "            name = genre['name']\n",
    "            if not name in genre_map:\n",
    "                genre_map[name] = 0\n",
    "            genre_map[name]+=1\n",
    "    return pd.Series(genre_map).sort_values(ascending=False)"
   ]
  },
  {
   "cell_type": "markdown",
   "metadata": {},
   "source": [
    "### All Unique Genres"
   ]
  },
  {
   "cell_type": "code",
   "execution_count": 36,
   "metadata": {},
   "outputs": [
    {
     "data": {
      "text/plain": [
       "Drama              2297\n",
       "Comedy             1722\n",
       "Thriller           1274\n",
       "Action             1154\n",
       "Romance             894\n",
       "Adventure           790\n",
       "Crime               696\n",
       "Science Fiction     535\n",
       "Horror              519\n",
       "Family              513\n",
       "Fantasy             424\n",
       "Mystery             348\n",
       "Animation           234\n",
       "History             197\n",
       "Music               185\n",
       "War                 144\n",
       "Documentary         110\n",
       "Western              82\n",
       "Foreign              34\n",
       "TV Movie              8\n",
       "dtype: int64"
      ]
     },
     "execution_count": 36,
     "metadata": {},
     "output_type": "execute_result"
    }
   ],
   "source": [
    "unique_genres(movies.genres)"
   ]
  },
  {
   "cell_type": "markdown",
   "metadata": {},
   "source": [
    "### Genres which Samuel is in"
   ]
  },
  {
   "cell_type": "code",
   "execution_count": 37,
   "metadata": {},
   "outputs": [
    {
     "data": {
      "text/plain": [
       "Action             35\n",
       "Crime              25\n",
       "Thriller           25\n",
       "Drama              25\n",
       "Adventure          20\n",
       "Science Fiction    17\n",
       "Comedy             13\n",
       "Mystery             8\n",
       "Romance             7\n",
       "Animation           4\n",
       "Family              4\n",
       "Western             2\n",
       "Documentary         2\n",
       "Horror              2\n",
       "Music               2\n",
       "Fantasy             2\n",
       "War                 1\n",
       "dtype: int64"
      ]
     },
     "execution_count": 37,
     "metadata": {},
     "output_type": "execute_result"
    }
   ],
   "source": [
    "movies_merge = pd.merge(left=movies, right=actor_vector_works, left_on='id', right_on='id')\n",
    "movies_with_samuel = movies_merge[movies_merge['2231'] == 1]\n",
    "unique_genres(movies_with_samuel['genres'])"
   ]
  },
  {
   "cell_type": "markdown",
   "metadata": {},
   "source": [
    "### Genres which Stars are in"
   ]
  },
  {
   "cell_type": "code",
   "execution_count": 38,
   "metadata": {},
   "outputs": [
    {
     "data": {
      "text/plain": [
       "Drama              116\n",
       "Thriller           103\n",
       "Action              96\n",
       "Crime               85\n",
       "Comedy              74\n",
       "Adventure           52\n",
       "Science Fiction     38\n",
       "Mystery             27\n",
       "Romance             26\n",
       "Family              22\n",
       "Animation           15\n",
       "Fantasy             14\n",
       "War                  9\n",
       "Horror               6\n",
       "Western              6\n",
       "Documentary          5\n",
       "History              5\n",
       "Music                3\n",
       "dtype: int64"
      ]
     },
     "execution_count": 38,
     "metadata": {},
     "output_type": "execute_result"
    }
   ],
   "source": [
    "movies_with_stars = movies_merge[movies_merge[stars].any(axis='columns')]\n",
    "unique_genres(movies_with_stars['genres'])"
   ]
  },
  {
   "cell_type": "markdown",
   "metadata": {},
   "source": [
    "### Number of genres in movie"
   ]
  },
  {
   "cell_type": "code",
   "execution_count": 39,
   "metadata": {},
   "outputs": [
    {
     "data": {
      "image/png": "[encoded data removed]",
      "text/plain": [
       "<Figure size 432x288 with 1 Axes>"
      ]
     },
     "metadata": {},
     "output_type": "display_data"
    }
   ],
   "source": [
    "number_genres = movies.genres.apply(len)\n",
    "number_genres.plot.hist(bins=np.max(number_genres))\n",
    "plt.show()"
   ]
  },
  {
   "cell_type": "markdown",
   "metadata": {},
   "source": [
    "## Genre Vectorization"
   ]
  },
  {
   "cell_type": "code",
   "execution_count": 40,
   "metadata": {},
   "outputs": [],
   "source": [
    "movies_genres_ids = []\n",
    "for genres in movies.genres:\n",
    "    movie_genres_ids = []\n",
    "    for genre in genres:\n",
    "        movie_genres_ids.append(str(genre['id']))\n",
    "    movies_genres_ids.append(' '.join(movie_genres_ids))"
   ]
  },
  {
   "cell_type": "code",
   "execution_count": 41,
   "metadata": {},
   "outputs": [],
   "source": [
    "genre_vectorization = CountVectorizer()\n",
    "\n",
    "movie_vector = genre_vectorization.fit_transform(movies_genres_ids).toarray()\n",
    "genre_feature_names = genre_vectorization.get_feature_names()\n",
    "genre_vector = pd.DataFrame(movie_vector, columns=genre_feature_names)\n",
    "genre_vector['id'] = movies.id"
   ]
  },
  {
   "cell_type": "markdown",
   "metadata": {},
   "source": [
    "### Normalize Movie Features"
   ]
  },
  {
   "cell_type": "code",
   "execution_count": 42,
   "metadata": {},
   "outputs": [],
   "source": [
    "features_to_normalize = [\n",
    "    'budget',\n",
    "    'popularity',\n",
    "    'vote_average',\n",
    "    'vote_count',\n",
    "    'revenue'\n",
    "]"
   ]
  },
  {
   "cell_type": "code",
   "execution_count": 43,
   "metadata": {},
   "outputs": [],
   "source": [
    "for feature in features_to_normalize:\n",
    "    feature_array = movies[feature].values.astype('float64').reshape(1, -1)\n",
    "    #print(len(normalize(feature_array, axis=1)[0]))\n",
    "    movies[feature] = normalize(feature_array, axis=1)[0]"
   ]
  },
  {
   "cell_type": "code",
   "execution_count": 44,
   "metadata": {},
   "outputs": [
    {
     "data": {
      "text/html": [
       "<div>\n",
       "<style scoped>\n",
       "    .dataframe tbody tr th:only-of-type {\n",
       "        vertical-align: middle;\n",
       "    }\n",
       "\n",
       "    .dataframe tbody tr th {\n",
       "        vertical-align: top;\n",
       "    }\n",
       "\n",
       "    .dataframe thead th {\n",
       "        text-align: right;\n",
       "    }\n",
       "</style>\n",
       "<table border=\"1\" class=\"dataframe\">\n",
       "  <thead>\n",
       "    <tr style=\"text-align: right;\">\n",
       "      <th></th>\n",
       "      <th>budget</th>\n",
       "      <th>popularity</th>\n",
       "      <th>vote_average</th>\n",
       "      <th>vote_count</th>\n",
       "      <th>revenue</th>\n",
       "    </tr>\n",
       "  </thead>\n",
       "  <tbody>\n",
       "    <tr>\n",
       "      <th>0</th>\n",
       "      <td>0.068373</td>\n",
       "      <td>0.056539</td>\n",
       "      <td>0.016734</td>\n",
       "      <td>0.120387</td>\n",
       "      <td>0.220503</td>\n",
       "    </tr>\n",
       "  </tbody>\n",
       "</table>\n",
       "</div>"
      ],
      "text/plain": [
       "     budget  popularity  vote_average  vote_count   revenue\n",
       "0  0.068373    0.056539      0.016734    0.120387  0.220503"
      ]
     },
     "execution_count": 44,
     "metadata": {},
     "output_type": "execute_result"
    }
   ],
   "source": [
    "movies[features_to_normalize].head(n=1)"
   ]
  },
  {
   "cell_type": "markdown",
   "metadata": {},
   "source": [
    "# Create x/y"
   ]
  },
  {
   "cell_type": "code",
   "execution_count": 45,
   "metadata": {},
   "outputs": [
    {
     "data": {
      "text/plain": [
       "5326"
      ]
     },
     "execution_count": 45,
     "metadata": {},
     "output_type": "execute_result"
    }
   ],
   "source": [
    "important_features = features_to_normalize + ['id']\n",
    "\n",
    "movies_with_important_features = movies[important_features]\n",
    "y = movies.stars\n",
    "x = pd.merge(left=movies_with_important_features, right=actor_vector_works, left_on='id', right_on='id')\n",
    "len(x.columns)"
   ]
  },
  {
   "cell_type": "markdown",
   "metadata": {},
   "source": [
    "#### Merge in Genres"
   ]
  },
  {
   "cell_type": "code",
   "execution_count": 46,
   "metadata": {},
   "outputs": [
    {
     "data": {
      "text/plain": [
       "5346"
      ]
     },
     "execution_count": 46,
     "metadata": {},
     "output_type": "execute_result"
    }
   ],
   "source": [
    "x = pd.merge(left=x, right=genre_vector, left_on='id', right_on='id')\n",
    "len(x.columns)"
   ]
  },
  {
   "cell_type": "markdown",
   "metadata": {},
   "source": [
    "### Remove id as a feature"
   ]
  },
  {
   "cell_type": "code",
   "execution_count": 47,
   "metadata": {},
   "outputs": [
    {
     "data": {
      "text/plain": [
       "5345"
      ]
     },
     "execution_count": 47,
     "metadata": {},
     "output_type": "execute_result"
    }
   ],
   "source": [
    "x = x[x.columns.difference(['id'])]\n",
    "len(x.columns)"
   ]
  },
  {
   "cell_type": "markdown",
   "metadata": {},
   "source": [
    "### Remove \"Stars\" from actors"
   ]
  },
  {
   "cell_type": "code",
   "execution_count": 48,
   "metadata": {},
   "outputs": [
    {
     "data": {
      "text/plain": [
       "5340"
      ]
     },
     "execution_count": 48,
     "metadata": {},
     "output_type": "execute_result"
    }
   ],
   "source": [
    "def remove_samuel(x):\n",
    "    return x[x.columns.difference(stars)]\n",
    "x = remove_samuel(x)\n",
    "len(x.columns)"
   ]
  },
  {
   "cell_type": "markdown",
   "metadata": {},
   "source": [
    "### Create Cross-validation (20% holdout)"
   ]
  },
  {
   "cell_type": "code",
   "execution_count": 49,
   "metadata": {},
   "outputs": [],
   "source": [
    "X_train, X_test, y_train, y_test = train_test_split(x, y, test_size=.2, random_state=3)"
   ]
  },
  {
   "cell_type": "code",
   "execution_count": 50,
   "metadata": {},
   "outputs": [
    {
     "data": {
      "text/plain": [
       "((3842, 5340), (3842,))"
      ]
     },
     "execution_count": 50,
     "metadata": {},
     "output_type": "execute_result"
    }
   ],
   "source": [
    "X_train.shape, y_train.shape"
   ]
  },
  {
   "cell_type": "markdown",
   "metadata": {},
   "source": [
    "## Get Accuracy"
   ]
  },
  {
   "cell_type": "code",
   "execution_count": 51,
   "metadata": {},
   "outputs": [],
   "source": [
    "from sklearn.metrics import confusion_matrix\n",
    "from sklearn.metrics import accuracy_score\n",
    "import itertools"
   ]
  },
  {
   "cell_type": "code",
   "execution_count": 52,
   "metadata": {},
   "outputs": [],
   "source": [
    "def show_confusion_matrix(y, predict_true, x):\n",
    "    cm = confusion_matrix(y, predict_true)\n",
    "    cm = pd.DataFrame(cm)\n",
    "    cm.columns = ['Negative', 'Positive']\n",
    "    cm.index = ['Negative', 'Positive']\n",
    "    print(cm)\n",
    "    \n",
    "    return\n",
    "    cmap=plt.cm.Blues\n",
    "    classes = x.columns\n",
    "    tick_marks = np.arange(len(classes))\n",
    "    title = 'Confusion Matrix'\n",
    "\n",
    "    plt.imshow(cm, interpolation='nearest', cmap=cmap)\n",
    "    plt.title(title)\n",
    "    plt.colorbar()\n",
    "    tick_marks = np.arange(len(classes))\n",
    "    plt.xticks(tick_marks, classes, rotation=45)\n",
    "    plt.yticks(tick_marks, classes)\n",
    "    \n",
    "    fmt = '.2f'\n",
    "    thresh = cm.max() / 2.\n",
    "    for i, j in itertools.product(range(cm.shape[0]), range(cm.shape[1])):\n",
    "        plt.text(j, i, format(cm[i, j], fmt),\n",
    "                 horizontalalignment=\"center\",\n",
    "                 color=\"white\" if cm[i, j] > thresh else \"black\")\n",
    "\n",
    "    plt.tight_layout()\n",
    "    plt.ylabel('True label')\n",
    "    plt.xlabel('Predicted label')\n",
    "    plt.show()"
   ]
  },
  {
   "cell_type": "code",
   "execution_count": 53,
   "metadata": {},
   "outputs": [],
   "source": [
    "def get_accuracy(model, x, y):\n",
    "    predict_true = np.zeros(len(y))\n",
    "    if hasattr(model, 'predict'):\n",
    "        predict_true = model.predict(x)\n",
    "    else:\n",
    "        predict_true = model.fit_predict(x)\n",
    "    print('Number of positive predictions {}'.format(len(predict_true[predict_true == True])))\n",
    "    print('')\n",
    "    print('Accuracy {}'.format(accuracy_score(y, predict_true)))\n",
    "    print('')\n",
    "    show_confusion_matrix(y, predict_true, x)"
   ]
  },
  {
   "cell_type": "markdown",
   "metadata": {},
   "source": [
    "# Naive Bayes Classifications"
   ]
  },
  {
   "cell_type": "code",
   "execution_count": 54,
   "metadata": {},
   "outputs": [
    {
     "data": {
      "text/plain": [
       "MultinomialNB(alpha=1.0, class_prior=None, fit_prior=True)"
      ]
     },
     "execution_count": 54,
     "metadata": {},
     "output_type": "execute_result"
    }
   ],
   "source": [
    "bayes_model = MultinomialNB()\n",
    "bayes_model.fit(X_train, y_train)"
   ]
  },
  {
   "cell_type": "code",
   "execution_count": 55,
   "metadata": {},
   "outputs": [
    {
     "name": "stdout",
     "output_type": "stream",
     "text": [
      "Accuracy of Training Data\n",
      "Number of positive predictions 172\n",
      "\n",
      "Accuracy 0.9765747006767309\n",
      "\n",
      "          Negative  Positive\n",
      "Negative      3610        30\n",
      "Positive        60       142\n"
     ]
    }
   ],
   "source": [
    "print('Accuracy of Training Data')\n",
    "get_accuracy(bayes_model, X_train, y_train)"
   ]
  },
  {
   "cell_type": "code",
   "execution_count": 56,
   "metadata": {},
   "outputs": [
    {
     "name": "stdout",
     "output_type": "stream",
     "text": [
      "Accuracy of Test Data\n",
      "Number of positive predictions 39\n",
      "\n",
      "Accuracy 0.9167533818938606\n",
      "\n",
      "          Negative  Positive\n",
      "Negative       874        32\n",
      "Positive        48         7\n"
     ]
    }
   ],
   "source": [
    "print('Accuracy of Test Data')\n",
    "get_accuracy(bayes_model, X_test, y_test)"
   ]
  },
  {
   "cell_type": "markdown",
   "metadata": {},
   "source": [
    "# Deep Learning (Dense Layers)"
   ]
  },
  {
   "cell_type": "code",
   "execution_count": 57,
   "metadata": {},
   "outputs": [
    {
     "name": "stderr",
     "output_type": "stream",
     "text": [
      "/usr/local/lib/python3.6/site-packages/h5py/__init__.py:36: FutureWarning: Conversion of the second argument of issubdtype from `float` to `np.floating` is deprecated. In future, it will be treated as `np.float64 == np.dtype(float).type`.\n",
      "  from ._conv import register_converters as _register_converters\n",
      "Using TensorFlow backend.\n"
     ]
    }
   ],
   "source": [
    "from keras import models, layers"
   ]
  },
  {
   "cell_type": "code",
   "execution_count": 58,
   "metadata": {},
   "outputs": [],
   "source": [
    "model = models.Sequential()\n",
    "model.add(layers.Dense(8, activation='relu', input_shape=(X_train.shape[1],)))\n",
    "model.add(layers.Dense(8, activation='relu', input_shape=(X_train.shape[1],)))\n",
    "model.add(layers.Dense(16, activation='relu', input_shape=(X_train.shape[1],)))\n",
    "model.add(layers.Dense(32, activation='relu', input_shape=(X_train.shape[1],)))\n",
    "model.add(layers.Dense(32, activation='relu', input_shape=(X_train.shape[1],)))\n",
    "model.add(layers.Dense(64, activation='relu', input_shape=(X_train.shape[1],)))\n",
    "model.add(layers.Dense(1, activation='sigmoid'))\n",
    "\n",
    "model.compile(optimizer='rmsprop', loss='binary_crossentropy', metrics=['acc'])"
   ]
  },
  {
   "cell_type": "code",
   "execution_count": 59,
   "metadata": {},
   "outputs": [
    {
     "name": "stdout",
     "output_type": "stream",
     "text": [
      "Epoch 1/10\n",
      "3842/3842 [==============================] - 1s 261us/step - loss: 0.3412 - acc: 0.9373\n",
      "Epoch 2/10\n",
      "3842/3842 [==============================] - 0s 118us/step - loss: 0.1998 - acc: 0.9474\n",
      "Epoch 3/10\n",
      "3842/3842 [==============================] - 0s 119us/step - loss: 0.1775 - acc: 0.9474\n",
      "Epoch 4/10\n",
      "3842/3842 [==============================] - 0s 118us/step - loss: 0.1467 - acc: 0.9474\n",
      "Epoch 5/10\n",
      "3842/3842 [==============================] - 0s 118us/step - loss: 0.1170 - acc: 0.9529\n",
      "Epoch 6/10\n",
      "3842/3842 [==============================] - 0s 118us/step - loss: 0.0876 - acc: 0.9716\n",
      "Epoch 7/10\n",
      "3842/3842 [==============================] - 0s 119us/step - loss: 0.0643 - acc: 0.9794\n",
      "Epoch 8/10\n",
      "3842/3842 [==============================] - 0s 118us/step - loss: 0.0423 - acc: 0.9883\n",
      "Epoch 9/10\n",
      "3842/3842 [==============================] - 0s 119us/step - loss: 0.0281 - acc: 0.9932\n",
      "Epoch 10/10\n",
      "3842/3842 [==============================] - 0s 118us/step - loss: 0.0186 - acc: 0.9953\n"
     ]
    },
    {
     "data": {
      "text/plain": [
       "<keras.callbacks.History at 0x12d9666a0>"
      ]
     },
     "execution_count": 59,
     "metadata": {},
     "output_type": "execute_result"
    }
   ],
   "source": [
    "model.fit(X_train, y_train, epochs=10, batch_size=64)"
   ]
  },
  {
   "cell_type": "code",
   "execution_count": 60,
   "metadata": {},
   "outputs": [
    {
     "name": "stdout",
     "output_type": "stream",
     "text": [
      "961/961 [==============================] - 0s 121us/step\n"
     ]
    },
    {
     "data": {
      "text/plain": [
       "[0.6307771016613936, 0.9396462018730489]"
      ]
     },
     "execution_count": 60,
     "metadata": {},
     "output_type": "execute_result"
    }
   ],
   "source": [
    "model.evaluate(X_test, y_test)"
   ]
  },
  {
   "cell_type": "code",
   "execution_count": 61,
   "metadata": {},
   "outputs": [
    {
     "name": "stdout",
     "output_type": "stream",
     "text": [
      "[[900   6]\n",
      " [ 52   3]]\n"
     ]
    }
   ],
   "source": [
    "print(confusion_matrix(y_test, model.predict_classes(X_test) == 1))"
   ]
  },
  {
   "cell_type": "markdown",
   "metadata": {},
   "source": [
    "### Hierarchical Clustering"
   ]
  },
  {
   "cell_type": "code",
   "execution_count": 62,
   "metadata": {},
   "outputs": [],
   "source": [
    "# from sklearn.cluster import AgglomerativeClustering\n",
    "# cluster_model = AgglomerativeClustering(n_clusters=2, affinity='cosine', linkage='complete')\n",
    "# cluster_model.fit(X_train, y_train)"
   ]
  },
  {
   "cell_type": "code",
   "execution_count": 63,
   "metadata": {},
   "outputs": [],
   "source": [
    "# print('Accuracy of Training Data')\n",
    "# get_accuracy(cluster_model, X_train, y_train)"
   ]
  },
  {
   "cell_type": "code",
   "execution_count": 64,
   "metadata": {},
   "outputs": [],
   "source": [
    "# print('Accuracy of Test Data')\n",
    "# get_accuracy(cluster_model, X_test, y_test)"
   ]
  },
  {
   "cell_type": "markdown",
   "metadata": {},
   "source": [
    "# TODO"
   ]
  },
  {
   "cell_type": "markdown",
   "metadata": {},
   "source": [
    "Perform deap learning prediction https://www.kaggle.com/liwste/simple-deep-mlp-with-keras"
   ]
  }
 ],
 "metadata": {
  "kernelspec": {
   "display_name": "Python 3",
   "language": "python",
   "name": "python3"
  },
  "language_info": {
   "codemirror_mode": {
    "name": "ipython",
    "version": 3
   },
   "file_extension": ".py",
   "mimetype": "text/x-python",
   "name": "python",
   "nbconvert_exporter": "python",
   "pygments_lexer": "ipython3",
   "version": "3.6.5"
  }
 },
 "nbformat": 4,
 "nbformat_minor": 2
}
