{
 "cells": [
  {
   "cell_type": "markdown",
   "metadata": {},
   "source": [
    "### Load Movies DataSet"
   ]
  },
  {
   "cell_type": "code",
   "execution_count": 2,
   "metadata": {
    "collapsed": true
   },
   "outputs": [],
   "source": [
    "# %load load-movies.py\n",
    "import pandas as pd\n",
    "\n",
    "movies = pd.read_csv('./data/tmdb_5000_movies.csv')\n",
    "credits = pd.read_csv('./data/tmdb_5000_credits.csv')"
   ]
  },
  {
   "cell_type": "markdown",
   "metadata": {},
   "source": [
    "### Clean Data"
   ]
  },
  {
   "cell_type": "code",
   "execution_count": 3,
   "metadata": {
    "collapsed": false
   },
   "outputs": [],
   "source": [
    "# %load clean-movies.py\n",
    "import pandas as pd\n",
    "import numpy as np\n",
    "import sklearn as sk\n",
    "import json\n",
    "\n",
    "from sklearn.feature_extraction.text import CountVectorizer\n",
    "from sklearn.preprocessing import normalize\n",
    "\n",
    "# merge two datasets\n",
    "movies = pd.merge(left=movies, right=credits, left_on='id', right_on='movie_id')\n",
    "\n",
    "# turn json into python objects\n",
    "json_columns = ['genres', 'keywords', 'production_countries', 'spoken_languages', 'cast', 'crew']\n",
    "for column in json_columns:\n",
    "  movies[column] = movies[column].apply(json.loads, encoding=\"utf-8\")\n",
    "\n",
    "\n",
    "\n",
    "######## Actors ########\n",
    "\n",
    "# create functions that will help with extracting actor information\n",
    "def actor_to_id_string(actor):\n",
    "  return '{} - {}'.format(actor['name'], actor['id'])\n",
    "\n",
    "def cast_to_actors(cast):\n",
    "  actors = []\n",
    "  for person in cast:\n",
    "    actors.append(actor_to_id_string(person))\n",
    "  return actors\n",
    "\n",
    "# Create a new column (array) from cast\n",
    "movies.actors = movies.cast.apply(cast_to_actors)\n",
    "\n",
    "# Create a list of all actors\n",
    "all_actors = []\n",
    "for actors in movies.actors:\n",
    "  for actor in actors:\n",
    "    all_actors.append(actor)\n",
    "actors = pd.Series(all_actors)\n",
    "unique_actors_count = pd.crosstab(actors, columns='count')\n",
    "\n",
    "# Create function to determine if actor has been in more than 3 films\n",
    "actors_string_id_by_id = {}\n",
    "actor_counts_by_string_id = {}\n",
    "unique_actors_count_dict = unique_actors_count.to_dict()['count']\n",
    "\n",
    "def actor_has_more_than_x_movies(actor, number_of_movies = 3):\n",
    "    string_id = str(actor['id'])\n",
    "\n",
    "    # First, get the unique id created for the actor\n",
    "    actor_string_id = ''\n",
    "    if string_id in actors_string_id_by_id:\n",
    "        actor_string_id = actors_string_id_by_id[string_id]\n",
    "    else:\n",
    "        actor_string_id = actor_to_id_string(actor)\n",
    "        actors_string_id_by_id[string_id] = actor_string_id\n",
    "    \n",
    "    # Now let's see how many movies this actor has played in\n",
    "    actor_count = unique_actors_count_dict[actor_string_id]\n",
    "    return actor_count > number_of_movies\n",
    "\n",
    "# Create a list of all actors that have been in more than 3 movies\n",
    "movies_actors_ids = []\n",
    "for actors in movies.cast:\n",
    "  movie_actors_ids = []\n",
    "  for actor in actors:\n",
    "    if (not actor_has_more_than_x_movies(actor, 3)):\n",
    "      continue\n",
    "    movie_actors_ids.append(str(actor['id']))\n",
    "  movies_actors_ids.append(' '.join(movie_actors_ids))\n",
    "\n",
    "# Vectorize the list of actors\n",
    "def get_actor_feature_name(id):\n",
    "  return actors_string_id_by_id[id] + ' (actor)'\n",
    "vectorizer = CountVectorizer()\n",
    "movie_vector = vectorizer.fit_transform(movies_actors_ids).toarray()\n",
    "\n",
    "actor_feature_ids = vectorizer.get_feature_names()\n",
    "actor_feature_names = []\n",
    "for id in actor_feature_ids:\n",
    "  actor_name = get_actor_feature_name(id)\n",
    "  actor_feature_names.append(actor_name)\n",
    "\n",
    "actor_vector_works = pd.DataFrame(movie_vector, columns=actor_feature_names)\n",
    "actor_vector_works['id'] = movies.id\n",
    "\n",
    "# Create the label for whether Samuel L Jackson was in the film (samuel)\n",
    "movies['samuel'] = actor_vector_works[get_actor_feature_name('2231')] == 1\n",
    "\n",
    "\n",
    "\n",
    "\n",
    "\n",
    "######## GENRES ########\n",
    "\n",
    "def unique_genres(movies_genres):\n",
    "  genre_map = {}\n",
    "  for genres in movies_genres:\n",
    "    for genre in genres:\n",
    "      name = genre['name']\n",
    "      if not name in genre_map:\n",
    "        genre_map[name] = 0\n",
    "      genre_map[name]+=1\n",
    "  return pd.Series(genre_map).sort_values(ascending=False)\n",
    "\n",
    "def get_genres_feature_name(genre):\n",
    "  return genre['name'] + ' (genre)'\n",
    "\n",
    "movies_genres_ids = []\n",
    "movie_genres_names_by_id = {}\n",
    "for genres in movies.genres:\n",
    "  movie_genres_ids = []\n",
    "  for genre in genres:\n",
    "    genre_feature_name = get_genres_feature_name(genre)\n",
    "    movie_genres_ids.append(str(genre['id']))\n",
    "    movie_genres_names_by_id[str(genre['id'])] = genre_feature_name\n",
    "  movies_genres_ids.append(' '.join(movie_genres_ids))\n",
    "\n",
    "genre_vectorization = CountVectorizer()\n",
    "\n",
    "movie_vector = genre_vectorization.fit_transform(movies_genres_ids).toarray()\n",
    "genre_feature_ids = genre_vectorization.get_feature_names()\n",
    "\n",
    "def get_feature_names_by_ids(ids):\n",
    "  genre_feature_names = []\n",
    "\n",
    "  for id in ids:\n",
    "    genre_feature_names.append(movie_genres_names_by_id[id])\n",
    "  return genre_feature_names\n",
    "\n",
    "genre_feature_names = get_feature_names_by_ids(genre_feature_ids)\n",
    "\n",
    "genre_vector = pd.DataFrame(movie_vector, columns=genre_feature_names)\n",
    "genre_vector['id'] = movies.id\n",
    "\n",
    "features_to_normalize = [\n",
    "  'budget',\n",
    "  'popularity',\n",
    "  'vote_average',\n",
    "  'vote_count',\n",
    "  'revenue'\n",
    "]\n",
    "\n",
    "for feature in features_to_normalize:\n",
    "  feature_array = movies[feature].values.astype('float64').reshape(1, -1)\n",
    "  movies[feature + '_original'] =     movies[feature]\n",
    "  movies[feature] = normalize(feature_array, axis=1, norm='max')[0]\n",
    "\n",
    "\n"
   ]
  },
  {
   "cell_type": "markdown",
   "metadata": {},
   "source": [
    "### Read Posters Directory"
   ]
  },
  {
   "cell_type": "code",
   "execution_count": 4,
   "metadata": {
    "collapsed": false
   },
   "outputs": [],
   "source": [
    "posters_test_dir = 'data/posters_test'\n",
    "posters_train_dir = 'data/posters_train'\n",
    "poster_test_filenames = os.listdir(posters_test_dir)\n",
    "poster_train_filenames = os.listdir(posters_train_dir)"
   ]
  },
  {
   "cell_type": "code",
   "execution_count": 5,
   "metadata": {
    "collapsed": false
   },
   "outputs": [
    {
     "data": {
      "text/plain": [
       "1438"
      ]
     },
     "execution_count": 5,
     "metadata": {},
     "output_type": "execute_result"
    }
   ],
   "source": [
    "len(poster_test_filenames)"
   ]
  },
  {
   "cell_type": "code",
   "execution_count": 6,
   "metadata": {
    "collapsed": false
   },
   "outputs": [
    {
     "data": {
      "text/plain": [
       "3355"
      ]
     },
     "execution_count": 6,
     "metadata": {},
     "output_type": "execute_result"
    }
   ],
   "source": [
    "len(poster_train_filenames)"
   ]
  },
  {
   "cell_type": "markdown",
   "metadata": {},
   "source": [
    "### Create Series Of Movie Ids from Files"
   ]
  },
  {
   "cell_type": "code",
   "execution_count": 7,
   "metadata": {
    "collapsed": true
   },
   "outputs": [],
   "source": [
    "def get_movie_id_from_filename(filename):\n",
    "    movie_id = filename.split('.')[0]\n",
    "    return movie_id"
   ]
  },
  {
   "cell_type": "code",
   "execution_count": 8,
   "metadata": {
    "collapsed": false
   },
   "outputs": [],
   "source": [
    "def get_movie_ids_from_filenames(filenames):\n",
    "    file_movie_ids = []\n",
    "\n",
    "    for filename in filenames:\n",
    "        movie_id = get_movie_id_from_filename(filename)\n",
    "        file_movie_ids.append(movie_id)\n",
    "    return file_movie_ids"
   ]
  },
  {
   "cell_type": "code",
   "execution_count": 9,
   "metadata": {
    "collapsed": false
   },
   "outputs": [],
   "source": [
    "test_movie_ids = get_movie_ids_from_filenames(poster_test_filenames)\n",
    "train_movie_ids = get_movie_ids_from_filenames(poster_train_filenames)"
   ]
  },
  {
   "cell_type": "markdown",
   "metadata": {},
   "source": [
    "### Load a few images"
   ]
  },
  {
   "cell_type": "code",
   "execution_count": 10,
   "metadata": {
    "collapsed": false
   },
   "outputs": [
    {
     "name": "stdout",
     "output_type": "stream",
     "text": [
      "CPU times: user 23.1 ms, sys: 10.8 ms, total: 33.9 ms\n",
      "Wall time: 52.2 ms\n"
     ]
    }
   ],
   "source": [
    "posters_by_movie_id = {}\n",
    "LIMIT = 10\n",
    "\n",
    "def load_images():\n",
    "    i = 0\n",
    "    for filename in poster_test_filenames:\n",
    "        i += 1\n",
    "        if i is LIMIT:\n",
    "            break\n",
    "        movie_id = get_movie_id_from_filename(filename)\n",
    "        img_path = os.path.join(posters_test_dir, filename)\n",
    "\n",
    "        posters_by_movie_id[movie_id] = image.load_img(img_path)\n",
    "%time load_images()"
   ]
  },
  {
   "cell_type": "code",
   "execution_count": 11,
   "metadata": {
    "collapsed": false
   },
   "outputs": [
    {
     "data": {
      "text/plain": [
       "9"
      ]
     },
     "execution_count": 11,
     "metadata": {},
     "output_type": "execute_result"
    }
   ],
   "source": [
    "len(posters_by_movie_id)"
   ]
  },
  {
   "cell_type": "code",
   "execution_count": 12,
   "metadata": {
    "collapsed": false
   },
   "outputs": [
    {
     "data": {
      "text/plain": [
       "'44770'"
      ]
     },
     "execution_count": 12,
     "metadata": {},
     "output_type": "execute_result"
    }
   ],
   "source": [
    "list(posters_by_movie_id.items())[0][0]"
   ]
  },
  {
   "cell_type": "code",
   "execution_count": 13,
   "metadata": {
    "collapsed": false
   },
   "outputs": [
    {
     "data": {
      "image/png": "[encoded data removed]",
      "text/plain": [
       "<matplotlib.figure.Figure at 0x13e10f630>"
      ]
     },
     "metadata": {},
     "output_type": "display_data"
    }
   ],
   "source": [
    "a_key_from_dict = list(posters_by_movie_id.items())[0][0]\n",
    "plt.imshow(posters_by_movie_id[a_key_from_dict])\n",
    "plt.show()"
   ]
  },
  {
   "cell_type": "markdown",
   "metadata": {},
   "source": [
    "### Verify dimensions of all images\n",
    "\n",
    "Only necessary for sanity check - about 10% of images do not have 600 pixels height but are all very close (farthest I could tell is around 560px)"
   ]
  },
  {
   "cell_type": "code",
   "execution_count": 14,
   "metadata": {
    "collapsed": true
   },
   "outputs": [],
   "source": [
    "EXPECTED_DIMENSION = '400x600'\n",
    "def check_dimension(dimension):\n",
    "    return dimension == EXPECTED_DIMENSION\n",
    "\n",
    "def check_incorrect_dimensions():\n",
    "    incorrect_dimensions = []\n",
    "\n",
    "    for filename in poster_filenames:\n",
    "        img_path = os.path.join(posters_dir, filename)\n",
    "        output = subprocess.check_output([\"file\", img_path]).decode('utf-8')\n",
    "        dimension = re.search('\\d{3,4}x\\d{3,4}', output)[0]\n",
    "        if check_dimension(dimension) is False:\n",
    "            incorrect_dimensions.append({ filename: dimension })\n",
    "    return pd.Series(incorrect_dimensions)\n",
    "\n",
    "# print(check_incorrect_dimensions())"
   ]
  },
  {
   "cell_type": "markdown",
   "metadata": {},
   "source": [
    "### Check movies with missing posters"
   ]
  },
  {
   "cell_type": "code",
   "execution_count": 15,
   "metadata": {
    "collapsed": false
   },
   "outputs": [
    {
     "data": {
      "text/html": [
       "<div>\n",
       "<table border=\"1\" class=\"dataframe\">\n",
       "  <thead>\n",
       "    <tr style=\"text-align: right;\">\n",
       "      <th></th>\n",
       "      <th>budget</th>\n",
       "      <th>genres</th>\n",
       "      <th>homepage</th>\n",
       "      <th>id</th>\n",
       "      <th>keywords</th>\n",
       "      <th>original_language</th>\n",
       "      <th>original_title</th>\n",
       "      <th>overview</th>\n",
       "      <th>popularity</th>\n",
       "      <th>production_companies</th>\n",
       "      <th>...</th>\n",
       "      <th>movie_id</th>\n",
       "      <th>title_y</th>\n",
       "      <th>cast</th>\n",
       "      <th>crew</th>\n",
       "      <th>samuel</th>\n",
       "      <th>budget_original</th>\n",
       "      <th>popularity_original</th>\n",
       "      <th>vote_average_original</th>\n",
       "      <th>vote_count_original</th>\n",
       "      <th>revenue_original</th>\n",
       "    </tr>\n",
       "  </thead>\n",
       "  <tbody>\n",
       "    <tr>\n",
       "      <th>2631</th>\n",
       "      <td>0.0</td>\n",
       "      <td>[{'id': 18, 'name': 'Drama'}]</td>\n",
       "      <td>NaN</td>\n",
       "      <td>112430</td>\n",
       "      <td>[{'id': 11162, 'name': 'miniseries'}]</td>\n",
       "      <td>en</td>\n",
       "      <td>The Company</td>\n",
       "      <td>Real-life figures from the Cold War era mix wi...</td>\n",
       "      <td>0.001696</td>\n",
       "      <td>[]</td>\n",
       "      <td>...</td>\n",
       "      <td>112430</td>\n",
       "      <td>The Company</td>\n",
       "      <td>[{'cast_id': 1, 'character': 'Jack McAuliffe',...</td>\n",
       "      <td>[{'credit_id': '5322a7959251411f770044a3', 'de...</td>\n",
       "      <td>False</td>\n",
       "      <td>0</td>\n",
       "      <td>1.485324</td>\n",
       "      <td>7.0</td>\n",
       "      <td>12</td>\n",
       "      <td>0</td>\n",
       "    </tr>\n",
       "    <tr>\n",
       "      <th>3285</th>\n",
       "      <td>0.0</td>\n",
       "      <td>[{'id': 10770, 'name': 'TV Movie'}, {'id': 107...</td>\n",
       "      <td>NaN</td>\n",
       "      <td>153397</td>\n",
       "      <td>[{'id': 470, 'name': 'spy'}, {'id': 6091, 'nam...</td>\n",
       "      <td>en</td>\n",
       "      <td>Restless</td>\n",
       "      <td>A young woman finds out that her mother worked...</td>\n",
       "      <td>0.000928</td>\n",
       "      <td>[{\"name\": \"British Broadcasting Corporation (B...</td>\n",
       "      <td>...</td>\n",
       "      <td>153397</td>\n",
       "      <td>Restless</td>\n",
       "      <td>[{'cast_id': 3, 'character': 'Eva Delectorskay...</td>\n",
       "      <td>[{'credit_id': '52fe4b429251416c910d4bb7', 'de...</td>\n",
       "      <td>False</td>\n",
       "      <td>0</td>\n",
       "      <td>0.812776</td>\n",
       "      <td>4.9</td>\n",
       "      <td>8</td>\n",
       "      <td>0</td>\n",
       "    </tr>\n",
       "    <tr>\n",
       "      <th>3292</th>\n",
       "      <td>0.0</td>\n",
       "      <td>[{'id': 18, 'name': 'Drama'}]</td>\n",
       "      <td>http://www.pbs.org/wgbh/masterpiece/wutheringh...</td>\n",
       "      <td>36597</td>\n",
       "      <td>[{'id': 187056, 'name': 'woman director'}]</td>\n",
       "      <td>en</td>\n",
       "      <td>Wuthering Heights</td>\n",
       "      <td>Foundling Heathcliff is raised by the wealthy ...</td>\n",
       "      <td>0.005036</td>\n",
       "      <td>[]</td>\n",
       "      <td>...</td>\n",
       "      <td>36597</td>\n",
       "      <td>Wuthering Heights</td>\n",
       "      <td>[{'cast_id': 4, 'character': 'Heathcliff', 'cr...</td>\n",
       "      <td>[{'credit_id': '52fe45f79251416c910448eb', 'de...</td>\n",
       "      <td>False</td>\n",
       "      <td>0</td>\n",
       "      <td>4.409263</td>\n",
       "      <td>6.9</td>\n",
       "      <td>37</td>\n",
       "      <td>0</td>\n",
       "    </tr>\n",
       "    <tr>\n",
       "      <th>3510</th>\n",
       "      <td>0.0</td>\n",
       "      <td>[{'id': 10749, 'name': 'Romance'}, {'id': 35, ...</td>\n",
       "      <td>NaN</td>\n",
       "      <td>183894</td>\n",
       "      <td>[]</td>\n",
       "      <td>en</td>\n",
       "      <td>Emma</td>\n",
       "      <td>Emma Woodhouse seems to be perfectly content, ...</td>\n",
       "      <td>0.002439</td>\n",
       "      <td>[]</td>\n",
       "      <td>...</td>\n",
       "      <td>183894</td>\n",
       "      <td>Emma</td>\n",
       "      <td>[{'cast_id': 3, 'character': 'Emma', 'credit_i...</td>\n",
       "      <td>[{'credit_id': '52fe4caf9251416c7512245b', 'de...</td>\n",
       "      <td>False</td>\n",
       "      <td>0</td>\n",
       "      <td>2.135689</td>\n",
       "      <td>7.6</td>\n",
       "      <td>38</td>\n",
       "      <td>0</td>\n",
       "    </tr>\n",
       "    <tr>\n",
       "      <th>3852</th>\n",
       "      <td>0.0</td>\n",
       "      <td>[{'id': 18, 'name': 'Drama'}]</td>\n",
       "      <td>NaN</td>\n",
       "      <td>395766</td>\n",
       "      <td>[{'id': 11162, 'name': 'miniseries'}]</td>\n",
       "      <td>en</td>\n",
       "      <td>The Secret</td>\n",
       "      <td>The Secret is the story of a real-life double ...</td>\n",
       "      <td>0.000048</td>\n",
       "      <td>[]</td>\n",
       "      <td>...</td>\n",
       "      <td>395766</td>\n",
       "      <td>The Secret</td>\n",
       "      <td>[{'cast_id': 0, 'character': '', 'credit_id': ...</td>\n",
       "      <td>[{'credit_id': '586756379251413e4c006618', 'de...</td>\n",
       "      <td>False</td>\n",
       "      <td>0</td>\n",
       "      <td>0.042346</td>\n",
       "      <td>0.0</td>\n",
       "      <td>0</td>\n",
       "      <td>0</td>\n",
       "    </tr>\n",
       "    <tr>\n",
       "      <th>3948</th>\n",
       "      <td>0.0</td>\n",
       "      <td>[{'id': 27, 'name': 'Horror'}, {'id': 878, 'na...</td>\n",
       "      <td>NaN</td>\n",
       "      <td>50942</td>\n",
       "      <td>[]</td>\n",
       "      <td>en</td>\n",
       "      <td>Creature</td>\n",
       "      <td>An amphibious shark-like monster terrorizes an...</td>\n",
       "      <td>0.003264</td>\n",
       "      <td>[{\"name\": \"MGM Television\", \"id\": 2230}, {\"nam...</td>\n",
       "      <td>...</td>\n",
       "      <td>50942</td>\n",
       "      <td>Creature</td>\n",
       "      <td>[{'cast_id': 1, 'character': 'Dr Simon Chase',...</td>\n",
       "      <td>[{'credit_id': '52fe47dcc3a36847f814c3d3', 'de...</td>\n",
       "      <td>False</td>\n",
       "      <td>0</td>\n",
       "      <td>2.857848</td>\n",
       "      <td>4.0</td>\n",
       "      <td>21</td>\n",
       "      <td>0</td>\n",
       "    </tr>\n",
       "    <tr>\n",
       "      <th>4118</th>\n",
       "      <td>0.0</td>\n",
       "      <td>[]</td>\n",
       "      <td>NaN</td>\n",
       "      <td>325140</td>\n",
       "      <td>[]</td>\n",
       "      <td>en</td>\n",
       "      <td>Hum To Mohabbat Karega</td>\n",
       "      <td>Raju, a waiter, is in love with the famous TV ...</td>\n",
       "      <td>0.000001</td>\n",
       "      <td>[]</td>\n",
       "      <td>...</td>\n",
       "      <td>325140</td>\n",
       "      <td>Hum To Mohabbat Karega</td>\n",
       "      <td>[]</td>\n",
       "      <td>[]</td>\n",
       "      <td>False</td>\n",
       "      <td>0</td>\n",
       "      <td>0.001186</td>\n",
       "      <td>0.0</td>\n",
       "      <td>0</td>\n",
       "      <td>0</td>\n",
       "    </tr>\n",
       "    <tr>\n",
       "      <th>4553</th>\n",
       "      <td>0.0</td>\n",
       "      <td>[]</td>\n",
       "      <td>NaN</td>\n",
       "      <td>380097</td>\n",
       "      <td>[]</td>\n",
       "      <td>en</td>\n",
       "      <td>America Is Still the Place</td>\n",
       "      <td>1971 post civil rights San Francisco seemed li...</td>\n",
       "      <td>0.000000</td>\n",
       "      <td>[]</td>\n",
       "      <td>...</td>\n",
       "      <td>380097</td>\n",
       "      <td>America Is Still the Place</td>\n",
       "      <td>[]</td>\n",
       "      <td>[]</td>\n",
       "      <td>False</td>\n",
       "      <td>0</td>\n",
       "      <td>0.000000</td>\n",
       "      <td>0.0</td>\n",
       "      <td>0</td>\n",
       "      <td>0</td>\n",
       "    </tr>\n",
       "    <tr>\n",
       "      <th>4633</th>\n",
       "      <td>0.0</td>\n",
       "      <td>[]</td>\n",
       "      <td>NaN</td>\n",
       "      <td>300327</td>\n",
       "      <td>[]</td>\n",
       "      <td>en</td>\n",
       "      <td>Death Calls</td>\n",
       "      <td>An action-packed love story on the Mexican bor...</td>\n",
       "      <td>0.000007</td>\n",
       "      <td>[]</td>\n",
       "      <td>...</td>\n",
       "      <td>300327</td>\n",
       "      <td>Death Calls</td>\n",
       "      <td>[]</td>\n",
       "      <td>[]</td>\n",
       "      <td>False</td>\n",
       "      <td>0</td>\n",
       "      <td>0.005883</td>\n",
       "      <td>0.0</td>\n",
       "      <td>0</td>\n",
       "      <td>0</td>\n",
       "    </tr>\n",
       "    <tr>\n",
       "      <th>4657</th>\n",
       "      <td>0.0</td>\n",
       "      <td>[]</td>\n",
       "      <td>NaN</td>\n",
       "      <td>320435</td>\n",
       "      <td>[]</td>\n",
       "      <td>en</td>\n",
       "      <td>UnDivided</td>\n",
       "      <td>UnDivided documents the true story of how a su...</td>\n",
       "      <td>0.000012</td>\n",
       "      <td>[]</td>\n",
       "      <td>...</td>\n",
       "      <td>320435</td>\n",
       "      <td>UnDivided</td>\n",
       "      <td>[]</td>\n",
       "      <td>[]</td>\n",
       "      <td>False</td>\n",
       "      <td>0</td>\n",
       "      <td>0.010607</td>\n",
       "      <td>0.0</td>\n",
       "      <td>0</td>\n",
       "      <td>0</td>\n",
       "    </tr>\n",
       "  </tbody>\n",
       "</table>\n",
       "<p>10 rows × 30 columns</p>\n",
       "</div>"
      ],
      "text/plain": [
       "      budget                                             genres  \\\n",
       "2631     0.0                      [{'id': 18, 'name': 'Drama'}]   \n",
       "3285     0.0  [{'id': 10770, 'name': 'TV Movie'}, {'id': 107...   \n",
       "3292     0.0                      [{'id': 18, 'name': 'Drama'}]   \n",
       "3510     0.0  [{'id': 10749, 'name': 'Romance'}, {'id': 35, ...   \n",
       "3852     0.0                      [{'id': 18, 'name': 'Drama'}]   \n",
       "3948     0.0  [{'id': 27, 'name': 'Horror'}, {'id': 878, 'na...   \n",
       "4118     0.0                                                 []   \n",
       "4553     0.0                                                 []   \n",
       "4633     0.0                                                 []   \n",
       "4657     0.0                                                 []   \n",
       "\n",
       "                                               homepage      id  \\\n",
       "2631                                                NaN  112430   \n",
       "3285                                                NaN  153397   \n",
       "3292  http://www.pbs.org/wgbh/masterpiece/wutheringh...   36597   \n",
       "3510                                                NaN  183894   \n",
       "3852                                                NaN  395766   \n",
       "3948                                                NaN   50942   \n",
       "4118                                                NaN  325140   \n",
       "4553                                                NaN  380097   \n",
       "4633                                                NaN  300327   \n",
       "4657                                                NaN  320435   \n",
       "\n",
       "                                               keywords original_language  \\\n",
       "2631              [{'id': 11162, 'name': 'miniseries'}]                en   \n",
       "3285  [{'id': 470, 'name': 'spy'}, {'id': 6091, 'nam...                en   \n",
       "3292         [{'id': 187056, 'name': 'woman director'}]                en   \n",
       "3510                                                 []                en   \n",
       "3852              [{'id': 11162, 'name': 'miniseries'}]                en   \n",
       "3948                                                 []                en   \n",
       "4118                                                 []                en   \n",
       "4553                                                 []                en   \n",
       "4633                                                 []                en   \n",
       "4657                                                 []                en   \n",
       "\n",
       "                  original_title  \\\n",
       "2631                 The Company   \n",
       "3285                    Restless   \n",
       "3292           Wuthering Heights   \n",
       "3510                        Emma   \n",
       "3852                  The Secret   \n",
       "3948                    Creature   \n",
       "4118      Hum To Mohabbat Karega   \n",
       "4553  America Is Still the Place   \n",
       "4633                 Death Calls   \n",
       "4657                   UnDivided   \n",
       "\n",
       "                                               overview  popularity  \\\n",
       "2631  Real-life figures from the Cold War era mix wi...    0.001696   \n",
       "3285  A young woman finds out that her mother worked...    0.000928   \n",
       "3292  Foundling Heathcliff is raised by the wealthy ...    0.005036   \n",
       "3510  Emma Woodhouse seems to be perfectly content, ...    0.002439   \n",
       "3852  The Secret is the story of a real-life double ...    0.000048   \n",
       "3948  An amphibious shark-like monster terrorizes an...    0.003264   \n",
       "4118  Raju, a waiter, is in love with the famous TV ...    0.000001   \n",
       "4553  1971 post civil rights San Francisco seemed li...    0.000000   \n",
       "4633  An action-packed love story on the Mexican bor...    0.000007   \n",
       "4657  UnDivided documents the true story of how a su...    0.000012   \n",
       "\n",
       "                                   production_companies        ...         \\\n",
       "2631                                                 []        ...          \n",
       "3285  [{\"name\": \"British Broadcasting Corporation (B...        ...          \n",
       "3292                                                 []        ...          \n",
       "3510                                                 []        ...          \n",
       "3852                                                 []        ...          \n",
       "3948  [{\"name\": \"MGM Television\", \"id\": 2230}, {\"nam...        ...          \n",
       "4118                                                 []        ...          \n",
       "4553                                                 []        ...          \n",
       "4633                                                 []        ...          \n",
       "4657                                                 []        ...          \n",
       "\n",
       "     movie_id                     title_y  \\\n",
       "2631   112430                 The Company   \n",
       "3285   153397                    Restless   \n",
       "3292    36597           Wuthering Heights   \n",
       "3510   183894                        Emma   \n",
       "3852   395766                  The Secret   \n",
       "3948    50942                    Creature   \n",
       "4118   325140      Hum To Mohabbat Karega   \n",
       "4553   380097  America Is Still the Place   \n",
       "4633   300327                 Death Calls   \n",
       "4657   320435                   UnDivided   \n",
       "\n",
       "                                                   cast  \\\n",
       "2631  [{'cast_id': 1, 'character': 'Jack McAuliffe',...   \n",
       "3285  [{'cast_id': 3, 'character': 'Eva Delectorskay...   \n",
       "3292  [{'cast_id': 4, 'character': 'Heathcliff', 'cr...   \n",
       "3510  [{'cast_id': 3, 'character': 'Emma', 'credit_i...   \n",
       "3852  [{'cast_id': 0, 'character': '', 'credit_id': ...   \n",
       "3948  [{'cast_id': 1, 'character': 'Dr Simon Chase',...   \n",
       "4118                                                 []   \n",
       "4553                                                 []   \n",
       "4633                                                 []   \n",
       "4657                                                 []   \n",
       "\n",
       "                                                   crew samuel  \\\n",
       "2631  [{'credit_id': '5322a7959251411f770044a3', 'de...  False   \n",
       "3285  [{'credit_id': '52fe4b429251416c910d4bb7', 'de...  False   \n",
       "3292  [{'credit_id': '52fe45f79251416c910448eb', 'de...  False   \n",
       "3510  [{'credit_id': '52fe4caf9251416c7512245b', 'de...  False   \n",
       "3852  [{'credit_id': '586756379251413e4c006618', 'de...  False   \n",
       "3948  [{'credit_id': '52fe47dcc3a36847f814c3d3', 'de...  False   \n",
       "4118                                                 []  False   \n",
       "4553                                                 []  False   \n",
       "4633                                                 []  False   \n",
       "4657                                                 []  False   \n",
       "\n",
       "     budget_original popularity_original vote_average_original  \\\n",
       "2631               0            1.485324                   7.0   \n",
       "3285               0            0.812776                   4.9   \n",
       "3292               0            4.409263                   6.9   \n",
       "3510               0            2.135689                   7.6   \n",
       "3852               0            0.042346                   0.0   \n",
       "3948               0            2.857848                   4.0   \n",
       "4118               0            0.001186                   0.0   \n",
       "4553               0            0.000000                   0.0   \n",
       "4633               0            0.005883                   0.0   \n",
       "4657               0            0.010607                   0.0   \n",
       "\n",
       "      vote_count_original  revenue_original  \n",
       "2631                   12                 0  \n",
       "3285                    8                 0  \n",
       "3292                   37                 0  \n",
       "3510                   38                 0  \n",
       "3852                    0                 0  \n",
       "3948                   21                 0  \n",
       "4118                    0                 0  \n",
       "4553                    0                 0  \n",
       "4633                    0                 0  \n",
       "4657                    0                 0  \n",
       "\n",
       "[10 rows x 30 columns]"
      ]
     },
     "execution_count": 15,
     "metadata": {},
     "output_type": "execute_result"
    }
   ],
   "source": [
    "ids = movies.id.tolist()\n",
    "missing_movies = []\n",
    "for id in ids:\n",
    "    if not str(id) in (test_movie_ids + train_movie_ids):\n",
    "        missing_movies.append(id)\n",
    "movies[movies.id.isin(missing_movies)]"
   ]
  },
  {
   "cell_type": "code",
   "execution_count": null,
   "metadata": {
    "collapsed": true
   },
   "outputs": [],
   "source": []
  }
 ],
 "metadata": {
  "kernelspec": {
   "display_name": "Python [default]",
   "language": "python",
   "name": "python3"
  },
  "language_info": {
   "codemirror_mode": {
    "name": "ipython",
    "version": 3
   },
   "file_extension": ".py",
   "mimetype": "text/x-python",
   "name": "python",
   "nbconvert_exporter": "python",
   "pygments_lexer": "ipython3",
   "version": "3.6.0"
  }
 },
 "nbformat": 4,
 "nbformat_minor": 2
}
