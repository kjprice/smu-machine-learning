{
 "cells": [
  {
   "cell_type": "code",
   "execution_count": 35,
   "metadata": {},
   "outputs": [],
   "source": [
    "import os\n",
    "\n",
    "from keras import layers\n",
    "from keras import models\n",
    "from keras.preprocessing import image\n",
    "import matplotlib.pyplot as plt\n",
    "import time"
   ]
  },
  {
   "cell_type": "code",
   "execution_count": 124,
   "metadata": {},
   "outputs": [],
   "source": [
    "samuel_images_validation_dir = 'data/samuel_images_validation'\n",
    "samuel_images_train_dir = 'data/samuel_images_train'"
   ]
  },
  {
   "cell_type": "code",
   "execution_count": 3,
   "metadata": {},
   "outputs": [],
   "source": [
    "model = models.Sequential()\n",
    "model.add(layers.SeparableConv2D(32, (3, 3), activation='relu',\n",
    "                        input_shape=(400, 600, 3)))\n",
    "model.add(layers.MaxPooling2D((2, 2)))\n",
    "\n",
    "model.add(layers.SeparableConv2D(64, (3, 3), activation='relu'))\n",
    "model.add(layers.MaxPooling2D((2, 2)))\n",
    "\n",
    "model.add(layers.SeparableConv2D(128, (3, 3), activation='relu'))\n",
    "model.add(layers.MaxPooling2D((2, 2)))\n",
    "\n",
    "model.add(layers.SeparableConv2D(128, (3, 3), activation='relu'))\n",
    "model.add(layers.MaxPooling2D((2, 2)))\n",
    "\n",
    "model.add(layers.Flatten())\n",
    "model.add(layers.Dropout(0.5))\n",
    "model.add(layers.Dense(512, activation='relu'))\n",
    "model.add(layers.Dense(1, activation='sigmoid'))"
   ]
  },
  {
   "cell_type": "code",
   "execution_count": 4,
   "metadata": {},
   "outputs": [
    {
     "name": "stdout",
     "output_type": "stream",
     "text": [
      "_________________________________________________________________\n",
      "Layer (type)                 Output Shape              Param #   \n",
      "=================================================================\n",
      "separable_conv2d_1 (Separabl (None, 398, 598, 32)      155       \n",
      "_________________________________________________________________\n",
      "max_pooling2d_1 (MaxPooling2 (None, 199, 299, 32)      0         \n",
      "_________________________________________________________________\n",
      "separable_conv2d_2 (Separabl (None, 197, 297, 64)      2400      \n",
      "_________________________________________________________________\n",
      "max_pooling2d_2 (MaxPooling2 (None, 98, 148, 64)       0         \n",
      "_________________________________________________________________\n",
      "separable_conv2d_3 (Separabl (None, 96, 146, 128)      8896      \n",
      "_________________________________________________________________\n",
      "max_pooling2d_3 (MaxPooling2 (None, 48, 73, 128)       0         \n",
      "_________________________________________________________________\n",
      "separable_conv2d_4 (Separabl (None, 46, 71, 128)       17664     \n",
      "_________________________________________________________________\n",
      "max_pooling2d_4 (MaxPooling2 (None, 23, 35, 128)       0         \n",
      "_________________________________________________________________\n",
      "flatten_1 (Flatten)          (None, 103040)            0         \n",
      "_________________________________________________________________\n",
      "dropout_1 (Dropout)          (None, 103040)            0         \n",
      "_________________________________________________________________\n",
      "dense_1 (Dense)              (None, 512)               52756992  \n",
      "_________________________________________________________________\n",
      "dense_2 (Dense)              (None, 1)                 513       \n",
      "=================================================================\n",
      "Total params: 52,786,620\n",
      "Trainable params: 52,786,620\n",
      "Non-trainable params: 0\n",
      "_________________________________________________________________\n"
     ]
    }
   ],
   "source": [
    "model.summary()"
   ]
  },
  {
   "cell_type": "code",
   "execution_count": 5,
   "metadata": {},
   "outputs": [],
   "source": [
    "from keras import optimizers\n",
    "\n",
    "model.compile(loss='binary_crossentropy',\n",
    "              optimizer=optimizers.RMSprop(lr=1e-4),\n",
    "              metrics=['acc'])"
   ]
  },
  {
   "cell_type": "code",
   "execution_count": 125,
   "metadata": {},
   "outputs": [
    {
     "name": "stdout",
     "output_type": "stream",
     "text": [
      "Found 896 images belonging to 2 classes.\n",
      "Found 383 images belonging to 2 classes.\n"
     ]
    }
   ],
   "source": [
    "from keras.preprocessing.image import ImageDataGenerator\n",
    "\n",
    "# All images will be rescaled by 1./255\n",
    "train_datagen = ImageDataGenerator(\n",
    "    rescale=1./255,\n",
    "    rotation_range=40,\n",
    "    width_shift_range=0.2,\n",
    "    height_shift_range=0.2,\n",
    "    shear_range=0.2,\n",
    "    zoom_range=0.2,\n",
    "    horizontal_flip=True,)\n",
    "\n",
    "validation_datagen = ImageDataGenerator(rescale=1./255)\n",
    "\n",
    "train_generator = train_datagen.flow_from_directory(\n",
    "        # This is the target directory\n",
    "        samuel_images_train_dir,\n",
    "        target_size=(400, 600),\n",
    "        batch_size=20,\n",
    "        # Since we use binary_crossentropy loss, we need binary labels\n",
    "        class_mode='binary')\n",
    "\n",
    "validation_generator = validation_datagen.flow_from_directory(\n",
    "        samuel_images_validation_dir,\n",
    "        target_size=(400, 600),\n",
    "        batch_size=20,\n",
    "        class_mode='binary')"
   ]
  },
  {
   "cell_type": "code",
   "execution_count": 7,
   "metadata": {},
   "outputs": [
    {
     "name": "stdout",
     "output_type": "stream",
     "text": [
      "Epoch 1/30\n",
      " 13/100 [==>...........................] - ETA: 6:57 - loss: 0.6882 - acc: 0.5423"
     ]
    },
    {
     "name": "stderr",
     "output_type": "stream",
     "text": [
      "/usr/local/lib/python3.6/site-packages/PIL/Image.py:918: UserWarning: Palette images with Transparency   expressed in bytes should be converted to RGBA images\n",
      "  'to RGBA images')\n"
     ]
    },
    {
     "name": "stdout",
     "output_type": "stream",
     "text": [
      "100/100 [==============================] - 505s 5s/step - loss: 0.6815 - acc: 0.5704 - val_loss: 0.6732 - val_acc: 0.5756\n",
      "Epoch 2/30\n",
      "100/100 [==============================] - 498s 5s/step - loss: 0.6734 - acc: 0.5770 - val_loss: 0.6494 - val_acc: 0.5952\n",
      "Epoch 3/30\n",
      "100/100 [==============================] - 497s 5s/step - loss: 0.6605 - acc: 0.6031 - val_loss: 0.6328 - val_acc: 0.6418\n",
      "Epoch 4/30\n",
      "100/100 [==============================] - 496s 5s/step - loss: 0.6470 - acc: 0.6148 - val_loss: 0.6190 - val_acc: 0.6387\n",
      "Epoch 5/30\n",
      "100/100 [==============================] - 503s 5s/step - loss: 0.6389 - acc: 0.6309 - val_loss: 0.5949 - val_acc: 0.7236\n",
      "Epoch 6/30\n",
      "100/100 [==============================] - 511s 5s/step - loss: 0.6216 - acc: 0.6556 - val_loss: 0.5652 - val_acc: 0.7443\n",
      "Epoch 7/30\n",
      "100/100 [==============================] - 496s 5s/step - loss: 0.6118 - acc: 0.6659 - val_loss: 0.5732 - val_acc: 0.6760\n",
      "Epoch 8/30\n",
      "100/100 [==============================] - 499s 5s/step - loss: 0.6138 - acc: 0.6649 - val_loss: 0.5247 - val_acc: 0.7433\n",
      "Epoch 9/30\n",
      "100/100 [==============================] - 500s 5s/step - loss: 0.5979 - acc: 0.6838 - val_loss: 0.5077 - val_acc: 0.7505\n",
      "Epoch 10/30\n",
      "100/100 [==============================] - 498s 5s/step - loss: 0.5984 - acc: 0.6692 - val_loss: 0.5365 - val_acc: 0.7588\n",
      "Epoch 11/30\n",
      "100/100 [==============================] - 496s 5s/step - loss: 0.5822 - acc: 0.7002 - val_loss: 0.4921 - val_acc: 0.7702\n",
      "Epoch 12/30\n",
      "100/100 [==============================] - 498s 5s/step - loss: 0.5873 - acc: 0.6774 - val_loss: 0.5163 - val_acc: 0.7360\n",
      "Epoch 13/30\n",
      "100/100 [==============================] - 520s 5s/step - loss: 0.5833 - acc: 0.6934 - val_loss: 0.5169 - val_acc: 0.7319\n",
      "Epoch 14/30\n",
      "100/100 [==============================] - 517s 5s/step - loss: 0.5794 - acc: 0.6920 - val_loss: 0.4926 - val_acc: 0.7733\n",
      "Epoch 15/30\n",
      "100/100 [==============================] - 513s 5s/step - loss: 0.5768 - acc: 0.7023 - val_loss: 0.4805 - val_acc: 0.7816\n",
      "Epoch 16/30\n",
      "100/100 [==============================] - 518s 5s/step - loss: 0.5765 - acc: 0.7056 - val_loss: 0.4835 - val_acc: 0.7785\n",
      "Epoch 17/30\n",
      "100/100 [==============================] - 529s 5s/step - loss: 0.5599 - acc: 0.7181 - val_loss: 0.4667 - val_acc: 0.7878\n",
      "Epoch 18/30\n",
      "100/100 [==============================] - 541s 5s/step - loss: 0.5698 - acc: 0.7048 - val_loss: 0.4669 - val_acc: 0.7785\n",
      "Epoch 19/30\n",
      "100/100 [==============================] - 522s 5s/step - loss: 0.5623 - acc: 0.7039 - val_loss: 0.5103 - val_acc: 0.7205\n",
      "Epoch 20/30\n",
      "100/100 [==============================] - 511s 5s/step - loss: 0.5510 - acc: 0.7163 - val_loss: 0.4498 - val_acc: 0.7981\n",
      "Epoch 21/30\n",
      "100/100 [==============================] - 549s 5s/step - loss: 0.5586 - acc: 0.7145 - val_loss: 0.4555 - val_acc: 0.7867\n",
      "Epoch 22/30\n",
      "100/100 [==============================] - 511s 5s/step - loss: 0.5542 - acc: 0.7110 - val_loss: 0.4437 - val_acc: 0.7950\n",
      "Epoch 23/30\n",
      "100/100 [==============================] - 528s 5s/step - loss: 0.5577 - acc: 0.7146 - val_loss: 0.5149 - val_acc: 0.7153\n",
      "Epoch 24/30\n",
      "100/100 [==============================] - 501s 5s/step - loss: 0.5468 - acc: 0.7246 - val_loss: 0.4630 - val_acc: 0.7743\n",
      "Epoch 25/30\n",
      "100/100 [==============================] - 501s 5s/step - loss: 0.5468 - acc: 0.7281 - val_loss: 0.4454 - val_acc: 0.7981\n",
      "Epoch 26/30\n",
      "100/100 [==============================] - 501s 5s/step - loss: 0.5446 - acc: 0.7300 - val_loss: 0.4273 - val_acc: 0.8116\n",
      "Epoch 27/30\n",
      "100/100 [==============================] - 505s 5s/step - loss: 0.5411 - acc: 0.7292 - val_loss: 0.4427 - val_acc: 0.7950\n",
      "Epoch 28/30\n",
      "100/100 [==============================] - 504s 5s/step - loss: 0.5486 - acc: 0.7184 - val_loss: 0.4337 - val_acc: 0.8302\n",
      "Epoch 29/30\n",
      "100/100 [==============================] - 498s 5s/step - loss: 0.5324 - acc: 0.7186 - val_loss: 0.4291 - val_acc: 0.8064\n",
      "Epoch 30/30\n",
      "100/100 [==============================] - 509s 5s/step - loss: 0.5393 - acc: 0.7250 - val_loss: 0.4406 - val_acc: 0.8240\n"
     ]
    }
   ],
   "source": [
    "history = model.fit_generator(\n",
    "      train_generator,\n",
    "      steps_per_epoch=100,\n",
    "      epochs=30,\n",
    "      validation_data=validation_generator,\n",
    "      validation_steps=50)"
   ]
  },
  {
   "cell_type": "markdown",
   "metadata": {},
   "source": [
    "### Save Model"
   ]
  },
  {
   "cell_type": "code",
   "execution_count": 10,
   "metadata": {},
   "outputs": [],
   "source": [
    "model.save('data/samuel_images_model_{}.h5'.format(time.time()))"
   ]
  },
  {
   "cell_type": "markdown",
   "metadata": {},
   "source": [
    "### Plot The ROC"
   ]
  },
  {
   "cell_type": "code",
   "execution_count": 11,
   "metadata": {},
   "outputs": [
    {
     "data": {
      "image/png": "[encoded data removed]",
      "text/plain": [
       "<Figure size 432x288 with 1 Axes>"
      ]
     },
     "metadata": {},
     "output_type": "display_data"
    },
    {
     "data": {
      "image/png": "[encoded data removed]",
      "text/plain": [
       "<Figure size 432x288 with 1 Axes>"
      ]
     },
     "metadata": {},
     "output_type": "display_data"
    }
   ],
   "source": [
    "acc = history.history['acc']\n",
    "val_acc = history.history['val_acc']\n",
    "loss = history.history['loss']\n",
    "val_loss = history.history['val_loss']\n",
    "\n",
    "epochs = range(len(acc))\n",
    "\n",
    "plt.plot(epochs, acc, 'bo', label='Training acc')\n",
    "plt.plot(epochs, val_acc, 'b', label='Validation acc')\n",
    "plt.title('Training and validation accuracy')\n",
    "plt.legend()\n",
    "\n",
    "plt.figure()\n",
    "\n",
    "plt.plot(epochs, loss, 'bo', label='Training loss')\n",
    "plt.plot(epochs, val_loss, 'b', label='Validation loss')\n",
    "plt.title('Training and validation loss')\n",
    "plt.legend()\n",
    "\n",
    "plt.show()"
   ]
  },
  {
   "cell_type": "markdown",
   "metadata": {},
   "source": [
    "### Validate model"
   ]
  },
  {
   "cell_type": "code",
   "execution_count": 139,
   "metadata": {},
   "outputs": [],
   "source": [
    "samuel_images_test_dir = 'data/samuel_images_test'"
   ]
  },
  {
   "cell_type": "code",
   "execution_count": 140,
   "metadata": {},
   "outputs": [
    {
     "name": "stdout",
     "output_type": "stream",
     "text": [
      "Found 46 images belonging to 2 classes.\n"
     ]
    }
   ],
   "source": [
    "test_datagen = ImageDataGenerator(rescale=1./255)\n",
    "\n",
    "test_generator = test_datagen.flow_from_directory(\n",
    "        samuel_images_test_dir,\n",
    "        target_size=(400, 600),\n",
    "        batch_size=20,\n",
    "        class_mode='binary')"
   ]
  },
  {
   "cell_type": "code",
   "execution_count": null,
   "metadata": {},
   "outputs": [],
   "source": [
    "loss, acc = model.evaluate_generator(test_generator)\n",
    "print('loss={}, acc={}'.format(loss, acc))"
   ]
  },
  {
   "cell_type": "code",
   "execution_count": null,
   "metadata": {},
   "outputs": [],
   "source": []
  }
 ],
 "metadata": {
  "kernelspec": {
   "display_name": "Python 3",
   "language": "python",
   "name": "python3"
  },
  "language_info": {
   "codemirror_mode": {
    "name": "ipython",
    "version": 3
   },
   "file_extension": ".py",
   "mimetype": "text/x-python",
   "name": "python",
   "nbconvert_exporter": "python",
   "pygments_lexer": "ipython3",
   "version": "3.6.5"
  }
 },
 "nbformat": 4,
 "nbformat_minor": 2
}
