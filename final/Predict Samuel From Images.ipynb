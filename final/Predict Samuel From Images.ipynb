{
 "cells": [
  {
   "cell_type": "code",
   "execution_count": 15,
   "metadata": {},
   "outputs": [],
   "source": [
    "import os\n",
    "from keras import layers\n",
    "from keras import models\n",
    "import matplotlib.pyplot as plt"
   ]
  },
  {
   "cell_type": "code",
   "execution_count": 2,
   "metadata": {},
   "outputs": [],
   "source": [
    "samuel_images_test_dir = 'data/samuel_images_test'\n",
    "samuel_images_train_dir = 'data/samuel_images_train'"
   ]
  },
  {
   "cell_type": "code",
   "execution_count": 3,
   "metadata": {},
   "outputs": [],
   "source": [
    "model = models.Sequential()\n",
    "model.add(layers.SeparableConv2D(32, (3, 3), activation='relu',\n",
    "                        input_shape=(400, 600, 3)))\n",
    "model.add(layers.MaxPooling2D((2, 2)))\n",
    "\n",
    "model.add(layers.SeparableConv2D(64, (3, 3), activation='relu'))\n",
    "model.add(layers.MaxPooling2D((2, 2)))\n",
    "\n",
    "model.add(layers.SeparableConv2D(128, (3, 3), activation='relu'))\n",
    "model.add(layers.MaxPooling2D((2, 2)))\n",
    "\n",
    "model.add(layers.SeparableConv2D(128, (3, 3), activation='relu'))\n",
    "model.add(layers.MaxPooling2D((2, 2)))\n",
    "\n",
    "model.add(layers.Flatten())\n",
    "model.add(layers.Dropout(0.5))\n",
    "model.add(layers.Dense(512, activation='relu'))\n",
    "model.add(layers.Dense(1, activation='sigmoid'))"
   ]
  },
  {
   "cell_type": "code",
   "execution_count": 14,
   "metadata": {},
   "outputs": [
    {
     "name": "stdout",
     "output_type": "stream",
     "text": [
      "_________________________________________________________________\n",
      "Layer (type)                 Output Shape              Param #   \n",
      "=================================================================\n",
      "separable_conv2d_1 (Separabl (None, 398, 598, 32)      155       \n",
      "_________________________________________________________________\n",
      "max_pooling2d_1 (MaxPooling2 (None, 199, 299, 32)      0         \n",
      "_________________________________________________________________\n",
      "separable_conv2d_2 (Separabl (None, 197, 297, 64)      2400      \n",
      "_________________________________________________________________\n",
      "max_pooling2d_2 (MaxPooling2 (None, 98, 148, 64)       0         \n",
      "_________________________________________________________________\n",
      "separable_conv2d_3 (Separabl (None, 96, 146, 128)      8896      \n",
      "_________________________________________________________________\n",
      "max_pooling2d_3 (MaxPooling2 (None, 48, 73, 128)       0         \n",
      "_________________________________________________________________\n",
      "separable_conv2d_4 (Separabl (None, 46, 71, 128)       17664     \n",
      "_________________________________________________________________\n",
      "max_pooling2d_4 (MaxPooling2 (None, 23, 35, 128)       0         \n",
      "_________________________________________________________________\n",
      "flatten_1 (Flatten)          (None, 103040)            0         \n",
      "_________________________________________________________________\n",
      "dropout_1 (Dropout)          (None, 103040)            0         \n",
      "_________________________________________________________________\n",
      "dense_1 (Dense)              (None, 512)               52756992  \n",
      "_________________________________________________________________\n",
      "dense_2 (Dense)              (None, 1)                 513       \n",
      "=================================================================\n",
      "Total params: 52,786,620\n",
      "Trainable params: 52,786,620\n",
      "Non-trainable params: 0\n",
      "_________________________________________________________________\n"
     ]
    }
   ],
   "source": [
    "model.summary()"
   ]
  },
  {
   "cell_type": "code",
   "execution_count": 4,
   "metadata": {},
   "outputs": [],
   "source": [
    "from keras import optimizers\n",
    "\n",
    "model.compile(loss='binary_crossentropy',\n",
    "              optimizer=optimizers.RMSprop(lr=1e-4),\n",
    "              metrics=['acc'])"
   ]
  },
  {
   "cell_type": "code",
   "execution_count": 5,
   "metadata": {},
   "outputs": [
    {
     "name": "stdout",
     "output_type": "stream",
     "text": [
      "Found 896 images belonging to 2 classes.\n",
      "Found 383 images belonging to 2 classes.\n"
     ]
    }
   ],
   "source": [
    "from keras.preprocessing.image import ImageDataGenerator\n",
    "\n",
    "# All images will be rescaled by 1./255\n",
    "train_datagen = ImageDataGenerator(rescale=1./255)\n",
    "test_datagen = ImageDataGenerator(rescale=1./255)\n",
    "\n",
    "train_generator = train_datagen.flow_from_directory(\n",
    "        # This is the target directory\n",
    "        samuel_images_train_dir,\n",
    "        target_size=(400, 600),\n",
    "        batch_size=20,\n",
    "        # Since we use binary_crossentropy loss, we need binary labels\n",
    "        class_mode='binary')\n",
    "\n",
    "validation_generator = test_datagen.flow_from_directory(\n",
    "        samuel_images_test_dir,\n",
    "        target_size=(400, 600),\n",
    "        batch_size=20,\n",
    "        class_mode='binary')"
   ]
  },
  {
   "cell_type": "code",
   "execution_count": 6,
   "metadata": {},
   "outputs": [
    {
     "name": "stdout",
     "output_type": "stream",
     "text": [
      "Epoch 1/30\n",
      " 27/100 [=======>......................] - ETA: 5:33 - loss: 0.6781 - acc: 0.5981"
     ]
    },
    {
     "name": "stderr",
     "output_type": "stream",
     "text": [
      "/usr/local/lib/python3.6/site-packages/PIL/Image.py:918: UserWarning: Palette images with Transparency   expressed in bytes should be converted to RGBA images\n",
      "  'to RGBA images')\n"
     ]
    },
    {
     "name": "stdout",
     "output_type": "stream",
     "text": [
      "100/100 [==============================] - 507s 5s/step - loss: 0.6846 - acc: 0.5705 - val_loss: 0.6824 - val_acc: 0.5694\n",
      "Epoch 2/30\n",
      "100/100 [==============================] - 499s 5s/step - loss: 0.6732 - acc: 0.5852 - val_loss: 0.6646 - val_acc: 0.5704\n",
      "Epoch 3/30\n",
      "100/100 [==============================] - 496s 5s/step - loss: 0.6674 - acc: 0.5800 - val_loss: 0.6416 - val_acc: 0.6449\n",
      "Epoch 4/30\n",
      "100/100 [==============================] - 499s 5s/step - loss: 0.6384 - acc: 0.6326 - val_loss: 0.6161 - val_acc: 0.7340\n",
      "Epoch 5/30\n",
      "100/100 [==============================] - 495s 5s/step - loss: 0.6179 - acc: 0.6580 - val_loss: 0.5616 - val_acc: 0.7702\n",
      "Epoch 6/30\n",
      "100/100 [==============================] - 493s 5s/step - loss: 0.5988 - acc: 0.6809 - val_loss: 0.5252 - val_acc: 0.7319\n",
      "Epoch 7/30\n",
      "100/100 [==============================] - 492s 5s/step - loss: 0.5674 - acc: 0.7100 - val_loss: 0.4887 - val_acc: 0.7712\n",
      "Epoch 8/30\n",
      "100/100 [==============================] - 497s 5s/step - loss: 0.5460 - acc: 0.7345 - val_loss: 0.4649 - val_acc: 0.7857\n",
      "Epoch 9/30\n",
      "100/100 [==============================] - 504s 5s/step - loss: 0.5321 - acc: 0.7268 - val_loss: 0.4533 - val_acc: 0.7857\n",
      "Epoch 10/30\n",
      "100/100 [==============================] - 493s 5s/step - loss: 0.5079 - acc: 0.7569 - val_loss: 0.4400 - val_acc: 0.7919\n",
      "Epoch 11/30\n",
      "100/100 [==============================] - 496s 5s/step - loss: 0.5076 - acc: 0.7561 - val_loss: 0.4397 - val_acc: 0.7867\n",
      "Epoch 12/30\n",
      "100/100 [==============================] - 498s 5s/step - loss: 0.4881 - acc: 0.7745 - val_loss: 0.4884 - val_acc: 0.7505\n",
      "Epoch 13/30\n",
      "100/100 [==============================] - 499s 5s/step - loss: 0.4838 - acc: 0.7656 - val_loss: 0.4746 - val_acc: 0.7805\n",
      "Epoch 14/30\n",
      "100/100 [==============================] - 502s 5s/step - loss: 0.4740 - acc: 0.7785 - val_loss: 0.4271 - val_acc: 0.7899\n",
      "Epoch 15/30\n",
      "100/100 [==============================] - 494s 5s/step - loss: 0.4582 - acc: 0.7856 - val_loss: 0.4645 - val_acc: 0.7867\n",
      "Epoch 16/30\n",
      "100/100 [==============================] - 496s 5s/step - loss: 0.4548 - acc: 0.7890 - val_loss: 0.4682 - val_acc: 0.7867\n",
      "Epoch 17/30\n",
      "100/100 [==============================] - 495s 5s/step - loss: 0.4370 - acc: 0.7997 - val_loss: 0.4307 - val_acc: 0.7847\n",
      "Epoch 18/30\n",
      "100/100 [==============================] - 493s 5s/step - loss: 0.4278 - acc: 0.7970 - val_loss: 0.4374 - val_acc: 0.8085\n",
      "Epoch 19/30\n",
      "100/100 [==============================] - 494s 5s/step - loss: 0.4143 - acc: 0.8084 - val_loss: 0.6184 - val_acc: 0.7360\n",
      "Epoch 20/30\n",
      "100/100 [==============================] - 493s 5s/step - loss: 0.4036 - acc: 0.8207 - val_loss: 0.4736 - val_acc: 0.7847\n",
      "Epoch 21/30\n",
      "100/100 [==============================] - 494s 5s/step - loss: 0.3934 - acc: 0.8174 - val_loss: 0.4625 - val_acc: 0.7723\n",
      "Epoch 22/30\n",
      "100/100 [==============================] - 495s 5s/step - loss: 0.3772 - acc: 0.8411 - val_loss: 0.4548 - val_acc: 0.7992\n",
      "Epoch 23/30\n",
      "100/100 [==============================] - 495s 5s/step - loss: 0.3663 - acc: 0.8365 - val_loss: 0.4407 - val_acc: 0.7867\n",
      "Epoch 24/30\n",
      "100/100 [==============================] - 494s 5s/step - loss: 0.3517 - acc: 0.8521 - val_loss: 0.4943 - val_acc: 0.7805\n",
      "Epoch 25/30\n",
      "100/100 [==============================] - 494s 5s/step - loss: 0.3349 - acc: 0.8623 - val_loss: 0.4620 - val_acc: 0.7836\n",
      "Epoch 26/30\n",
      "100/100 [==============================] - 495s 5s/step - loss: 0.3199 - acc: 0.8666 - val_loss: 0.4900 - val_acc: 0.7930\n",
      "Epoch 27/30\n",
      "100/100 [==============================] - 494s 5s/step - loss: 0.3094 - acc: 0.8669 - val_loss: 0.4782 - val_acc: 0.7712\n",
      "Epoch 28/30\n",
      "100/100 [==============================] - 497s 5s/step - loss: 0.2952 - acc: 0.8801 - val_loss: 0.4649 - val_acc: 0.7857\n",
      "Epoch 29/30\n",
      "100/100 [==============================] - 499s 5s/step - loss: 0.2746 - acc: 0.8901 - val_loss: 0.5011 - val_acc: 0.7640\n",
      "Epoch 30/30\n",
      "100/100 [==============================] - 499s 5s/step - loss: 0.2599 - acc: 0.9010 - val_loss: 0.4729 - val_acc: 0.7909\n"
     ]
    }
   ],
   "source": [
    "history = model.fit_generator(\n",
    "      train_generator,\n",
    "      steps_per_epoch=100,\n",
    "      epochs=30,\n",
    "      validation_data=validation_generator,\n",
    "      validation_steps=50)"
   ]
  },
  {
   "cell_type": "markdown",
   "metadata": {},
   "source": [
    "### Save Model"
   ]
  },
  {
   "cell_type": "code",
   "execution_count": 13,
   "metadata": {},
   "outputs": [],
   "source": [
    "model.save('data/samuel_images_model_{}.h5'.format(time.time()))"
   ]
  },
  {
   "cell_type": "markdown",
   "metadata": {},
   "source": [
    "### Plot The ROC"
   ]
  },
  {
   "cell_type": "code",
   "execution_count": 16,
   "metadata": {},
   "outputs": [
    {
     "data": {
      "image/png": "[encoded data removed]",
      "text/plain": [
       "<Figure size 432x288 with 1 Axes>"
      ]
     },
     "metadata": {},
     "output_type": "display_data"
    },
    {
     "data": {
      "image/png": "[encoded data removed]",
      "text/plain": [
       "<Figure size 432x288 with 1 Axes>"
      ]
     },
     "metadata": {},
     "output_type": "display_data"
    }
   ],
   "source": [
    "acc = history.history['acc']\n",
    "val_acc = history.history['val_acc']\n",
    "loss = history.history['loss']\n",
    "val_loss = history.history['val_loss']\n",
    "\n",
    "epochs = range(len(acc))\n",
    "\n",
    "plt.plot(epochs, acc, 'bo', label='Training acc')\n",
    "plt.plot(epochs, val_acc, 'b', label='Validation acc')\n",
    "plt.title('Training and validation accuracy')\n",
    "plt.legend()\n",
    "\n",
    "plt.figure()\n",
    "\n",
    "plt.plot(epochs, loss, 'bo', label='Training loss')\n",
    "plt.plot(epochs, val_loss, 'b', label='Validation loss')\n",
    "plt.title('Training and validation loss')\n",
    "plt.legend()\n",
    "\n",
    "plt.show()"
   ]
  }
 ],
 "metadata": {
  "kernelspec": {
   "display_name": "Python 3",
   "language": "python",
   "name": "python3"
  },
  "language_info": {
   "codemirror_mode": {
    "name": "ipython",
    "version": 3
   },
   "file_extension": ".py",
   "mimetype": "text/x-python",
   "name": "python",
   "nbconvert_exporter": "python",
   "pygments_lexer": "ipython3",
   "version": "3.6.5"
  }
 },
 "nbformat": 4,
 "nbformat_minor": 2
}
