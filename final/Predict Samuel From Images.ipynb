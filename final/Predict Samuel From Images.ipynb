{
 "cells": [
  {
   "cell_type": "code",
   "execution_count": 1,
   "metadata": {},
   "outputs": [],
   "source": [
    "import os"
   ]
  },
  {
   "cell_type": "code",
   "execution_count": 2,
   "metadata": {},
   "outputs": [],
   "source": [
    "samuel_images_test_dir = 'data/samuel_images_test'\n",
    "samuel_images_train_dir = 'data/samuel_images_train'"
   ]
  },
  {
   "cell_type": "code",
   "execution_count": 3,
   "metadata": {},
   "outputs": [
    {
     "name": "stderr",
     "output_type": "stream",
     "text": [
      "/usr/local/lib/python3.6/site-packages/h5py/__init__.py:36: FutureWarning: Conversion of the second argument of issubdtype from `float` to `np.floating` is deprecated. In future, it will be treated as `np.float64 == np.dtype(float).type`.\n",
      "  from ._conv import register_converters as _register_converters\n",
      "Using TensorFlow backend.\n"
     ]
    }
   ],
   "source": [
    "from keras import layers\n",
    "from keras import models\n",
    "\n",
    "model = models.Sequential()\n",
    "model.add(layers.Conv2D(32, (3, 3), activation='relu',\n",
    "                        input_shape=(400, 600, 3)))\n",
    "model.add(layers.MaxPooling2D((2, 2)))\n",
    "model.add(layers.Conv2D(64, (3, 3), activation='relu'))\n",
    "model.add(layers.MaxPooling2D((2, 2)))\n",
    "model.add(layers.Conv2D(128, (3, 3), activation='relu'))\n",
    "model.add(layers.MaxPooling2D((2, 2)))\n",
    "model.add(layers.Conv2D(128, (3, 3), activation='relu'))\n",
    "model.add(layers.MaxPooling2D((2, 2)))\n",
    "model.add(layers.Flatten())\n",
    "model.add(layers.Dropout(0.5))\n",
    "model.add(layers.Dense(512, activation='relu'))\n",
    "model.add(layers.Dense(1, activation='sigmoid'))"
   ]
  },
  {
   "cell_type": "code",
   "execution_count": 4,
   "metadata": {},
   "outputs": [],
   "source": [
    "from keras import optimizers\n",
    "\n",
    "model.compile(loss='binary_crossentropy',\n",
    "              optimizer=optimizers.RMSprop(lr=1e-4),\n",
    "              metrics=['acc'])"
   ]
  },
  {
   "cell_type": "code",
   "execution_count": 5,
   "metadata": {},
   "outputs": [
    {
     "name": "stdout",
     "output_type": "stream",
     "text": [
      "Found 896 images belonging to 2 classes.\n",
      "Found 383 images belonging to 2 classes.\n"
     ]
    }
   ],
   "source": [
    "from keras.preprocessing.image import ImageDataGenerator\n",
    "\n",
    "# All images will be rescaled by 1./255\n",
    "train_datagen = ImageDataGenerator(rescale=1./255)\n",
    "test_datagen = ImageDataGenerator(rescale=1./255)\n",
    "\n",
    "train_generator = train_datagen.flow_from_directory(\n",
    "        # This is the target directory\n",
    "        samuel_images_train_dir,\n",
    "        target_size=(400, 600),\n",
    "        batch_size=20,\n",
    "        # Since we use binary_crossentropy loss, we need binary labels\n",
    "        class_mode='binary')\n",
    "\n",
    "validation_generator = test_datagen.flow_from_directory(\n",
    "        samuel_images_test_dir,\n",
    "        target_size=(400, 600),\n",
    "        batch_size=20,\n",
    "        class_mode='binary')"
   ]
  },
  {
   "cell_type": "code",
   "execution_count": null,
   "metadata": {},
   "outputs": [
    {
     "name": "stdout",
     "output_type": "stream",
     "text": [
      "Epoch 1/30\n",
      " 23/100 [=====>........................] - ETA: 8:05 - loss: 0.6678 - acc: 0.6217"
     ]
    },
    {
     "name": "stderr",
     "output_type": "stream",
     "text": [
      "/usr/local/lib/python3.6/site-packages/PIL/Image.py:918: UserWarning: Palette images with Transparency   expressed in bytes should be converted to RGBA images\n",
      "  'to RGBA images')\n"
     ]
    },
    {
     "name": "stdout",
     "output_type": "stream",
     "text": [
      "100/100 [==============================] - 715s 7s/step - loss: 0.6411 - acc: 0.6186 - val_loss: 0.5457 - val_acc: 0.7795\n",
      "Epoch 2/30\n",
      "100/100 [==============================] - 723s 7s/step - loss: 0.5034 - acc: 0.7592 - val_loss: 0.6946 - val_acc: 0.6812\n",
      "Epoch 3/30\n",
      "100/100 [==============================] - 712s 7s/step - loss: 0.3833 - acc: 0.8430 - val_loss: 0.4439 - val_acc: 0.7867\n",
      "Epoch 4/30\n",
      "100/100 [==============================] - 710s 7s/step - loss: 0.2660 - acc: 0.8994 - val_loss: 0.4762 - val_acc: 0.7712\n",
      "Epoch 5/30\n",
      "100/100 [==============================] - 707s 7s/step - loss: 0.1716 - acc: 0.9433 - val_loss: 0.5768 - val_acc: 0.7536\n",
      "Epoch 6/30\n",
      "100/100 [==============================] - 709s 7s/step - loss: 0.1039 - acc: 0.9670 - val_loss: 0.6372 - val_acc: 0.7464\n",
      "Epoch 7/30\n",
      "100/100 [==============================] - 710s 7s/step - loss: 0.0600 - acc: 0.9845 - val_loss: 1.4419 - val_acc: 0.7091\n",
      "Epoch 8/30\n",
      "100/100 [==============================] - 712s 7s/step - loss: 0.0546 - acc: 0.9818 - val_loss: 0.8228 - val_acc: 0.7557\n",
      "Epoch 9/30\n",
      "100/100 [==============================] - 714s 7s/step - loss: 0.0357 - acc: 0.9900 - val_loss: 0.9192 - val_acc: 0.7340\n",
      "Epoch 10/30\n",
      "100/100 [==============================] - 711s 7s/step - loss: 0.0084 - acc: 0.9985 - val_loss: 1.2021 - val_acc: 0.7681\n",
      "Epoch 11/30\n",
      "100/100 [==============================] - 715s 7s/step - loss: 0.0482 - acc: 0.9860 - val_loss: 1.0872 - val_acc: 0.7505\n",
      "Epoch 12/30\n",
      "100/100 [==============================] - 712s 7s/step - loss: 0.0199 - acc: 0.9928 - val_loss: 1.1521 - val_acc: 0.7629\n",
      "Epoch 13/30\n",
      "100/100 [==============================] - 709s 7s/step - loss: 0.0324 - acc: 0.9955 - val_loss: 1.2574 - val_acc: 0.7619\n",
      "Epoch 14/30\n",
      "100/100 [==============================] - 711s 7s/step - loss: 0.0082 - acc: 0.9970 - val_loss: 1.2709 - val_acc: 0.7474\n",
      "Epoch 15/30\n",
      "100/100 [==============================] - 715s 7s/step - loss: 0.0332 - acc: 0.9955 - val_loss: 1.2490 - val_acc: 0.7453\n",
      "Epoch 16/30\n",
      "100/100 [==============================] - 713s 7s/step - loss: 0.0258 - acc: 0.9935 - val_loss: 1.2998 - val_acc: 0.7588\n",
      "Epoch 17/30\n",
      "100/100 [==============================] - 710s 7s/step - loss: 0.0324 - acc: 0.9935 - val_loss: 1.5102 - val_acc: 0.7329\n",
      "Epoch 18/30\n",
      "100/100 [==============================] - 717s 7s/step - loss: 3.3966e-04 - acc: 1.0000 - val_loss: 1.6409 - val_acc: 0.7640\n",
      "Epoch 19/30\n",
      " 90/100 [==========================>...] - ETA: 1:02 - loss: 0.0056 - acc: 0.9978"
     ]
    }
   ],
   "source": [
    "history = model.fit_generator(\n",
    "      train_generator,\n",
    "      steps_per_epoch=100,\n",
    "      epochs=30,\n",
    "      validation_data=validation_generator,\n",
    "      validation_steps=50)"
   ]
  },
  {
   "cell_type": "code",
   "execution_count": null,
   "metadata": {},
   "outputs": [],
   "source": [
    "model.save('data/samuel_images_model.h5')"
   ]
  }
 ],
 "metadata": {
  "kernelspec": {
   "display_name": "Python 3",
   "language": "python",
   "name": "python3"
  },
  "language_info": {
   "codemirror_mode": {
    "name": "ipython",
    "version": 3
   },
   "file_extension": ".py",
   "mimetype": "text/x-python",
   "name": "python",
   "nbconvert_exporter": "python",
   "pygments_lexer": "ipython3",
   "version": "3.6.5"
  }
 },
 "nbformat": 4,
 "nbformat_minor": 2
}
