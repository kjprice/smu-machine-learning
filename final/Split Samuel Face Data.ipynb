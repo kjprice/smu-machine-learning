{
 "cells": [
  {
   "cell_type": "code",
   "execution_count": 1,
   "metadata": {},
   "outputs": [],
   "source": [
    "import pandas as pd\n",
    "import numpy as np\n",
    "import sklearn as sk\n",
    "import os, shutil\n",
    "\n",
    "from sklearn.model_selection import train_test_split"
   ]
  },
  {
   "cell_type": "markdown",
   "metadata": {},
   "source": [
    "### Load Images"
   ]
  },
  {
   "cell_type": "code",
   "execution_count": 4,
   "metadata": {},
   "outputs": [],
   "source": [
    "posters_dir = 'data/samuel_images'\n",
    "poster_filenames = os.listdir(posters_dir)"
   ]
  },
  {
   "cell_type": "markdown",
   "metadata": {},
   "source": [
    "### Define features and labels"
   ]
  },
  {
   "cell_type": "code",
   "execution_count": 11,
   "metadata": {},
   "outputs": [
    {
     "data": {
      "text/plain": [
       "153376"
      ]
     },
     "execution_count": 11,
     "metadata": {},
     "output_type": "execute_result"
    }
   ],
   "source": [
    "movies_poster_merge.size"
   ]
  },
  {
   "cell_type": "code",
   "execution_count": 12,
   "metadata": {},
   "outputs": [],
   "source": [
    "y = movies_poster_merge.samuel\n",
    "X = movies_poster_merge[['filenames', 'samuel']]"
   ]
  },
  {
   "cell_type": "markdown",
   "metadata": {},
   "source": [
    "### Create stratified Cross Validation"
   ]
  },
  {
   "cell_type": "code",
   "execution_count": 13,
   "metadata": {},
   "outputs": [],
   "source": [
    "X_train, X_test, y_train, y_test = train_test_split(X, y, test_size=.3, stratify=y, random_state=42)"
   ]
  },
  {
   "cell_type": "code",
   "execution_count": 14,
   "metadata": {},
   "outputs": [
    {
     "data": {
      "text/plain": [
       "6710"
      ]
     },
     "execution_count": 14,
     "metadata": {},
     "output_type": "execute_result"
    }
   ],
   "source": [
    "X_train.size"
   ]
  },
  {
   "cell_type": "code",
   "execution_count": 15,
   "metadata": {},
   "outputs": [
    {
     "data": {
      "text/plain": [
       "2876"
      ]
     },
     "execution_count": 15,
     "metadata": {},
     "output_type": "execute_result"
    }
   ],
   "source": [
    "X_test.size"
   ]
  },
  {
   "cell_type": "code",
   "execution_count": 16,
   "metadata": {},
   "outputs": [
    {
     "data": {
      "text/plain": [
       "47"
      ]
     },
     "execution_count": 16,
     "metadata": {},
     "output_type": "execute_result"
    }
   ],
   "source": [
    "y_train[y_train].size"
   ]
  },
  {
   "cell_type": "code",
   "execution_count": 17,
   "metadata": {},
   "outputs": [
    {
     "data": {
      "text/plain": [
       "20"
      ]
     },
     "execution_count": 17,
     "metadata": {},
     "output_type": "execute_result"
    }
   ],
   "source": [
    "y_test[y_test].size"
   ]
  },
  {
   "cell_type": "markdown",
   "metadata": {},
   "source": [
    "### Create Directories"
   ]
  },
  {
   "cell_type": "code",
   "execution_count": 18,
   "metadata": {},
   "outputs": [],
   "source": [
    "posters_test_dir = 'data/posters_test'\n",
    "posters_train_dir = 'data/posters_train'\n",
    "posters_sam_train_dir = os.path.join(posters_train_dir, 'sam')\n",
    "posters_not_sam_train_dir = os.path.join(posters_train_dir, 'not_sam')\n",
    "posters_sam_test_dir = os.path.join(posters_test_dir, 'sam')\n",
    "posters_not_sam_test_dir = os.path.join(posters_test_dir, 'not_sam')\n",
    "\n",
    "directories_to_create = [\n",
    "    posters_test_dir,\n",
    "    posters_train_dir,\n",
    "    posters_sam_train_dir,\n",
    "    posters_not_sam_train_dir,\n",
    "    posters_sam_test_dir,\n",
    "    posters_not_sam_test_dir,\n",
    "]"
   ]
  },
  {
   "cell_type": "code",
   "execution_count": 19,
   "metadata": {},
   "outputs": [],
   "source": [
    "for directory in directories_to_create:\n",
    "    try:\n",
    "        os.mkdir(directory)\n",
    "    except:\n",
    "        print('{} already exists'.format([directory]))"
   ]
  },
  {
   "cell_type": "markdown",
   "metadata": {},
   "source": [
    "### Copy Files over to new directories"
   ]
  },
  {
   "cell_type": "code",
   "execution_count": 20,
   "metadata": {},
   "outputs": [],
   "source": [
    "train_filenames = X_train"
   ]
  },
  {
   "cell_type": "code",
   "execution_count": 21,
   "metadata": {},
   "outputs": [],
   "source": [
    "train_filenames = X_train\n",
    "for index, row in train_filenames.iterrows():\n",
    "    filename = row.filenames\n",
    "    file_from = os.path.join(posters_dir, filename)\n",
    "    file_to = ''\n",
    "    if row.samuel:\n",
    "        file_to = os.path.join(posters_sam_train_dir, filename)\n",
    "    else:\n",
    "        file_to = os.path.join(posters_not_sam_train_dir, filename)        \n",
    "    shutil.copyfile(file_from, file_to)\n",
    "    \n",
    "test_filenames = X_test\n",
    "for index, row in test_filenames.iterrows():\n",
    "    filename = row.filenames\n",
    "    file_from = os.path.join(posters_dir, filename)\n",
    "    file_to = ''\n",
    "    if row.samuel:\n",
    "        file_to = os.path.join(posters_sam_test_dir, filename)\n",
    "    else:\n",
    "        file_to = os.path.join(posters_not_sam_test_dir, filename)        \n",
    "    shutil.copyfile(file_from, file_to)"
   ]
  },
  {
   "cell_type": "code",
   "execution_count": null,
   "metadata": {},
   "outputs": [],
   "source": []
  }
 ],
 "metadata": {
  "kernelspec": {
   "display_name": "Python 3",
   "language": "python",
   "name": "python3"
  },
  "language_info": {
   "codemirror_mode": {
    "name": "ipython",
    "version": 3
   },
   "file_extension": ".py",
   "mimetype": "text/x-python",
   "name": "python",
   "nbconvert_exporter": "python",
   "pygments_lexer": "ipython3",
   "version": "3.6.5"
  }
 },
 "nbformat": 4,
 "nbformat_minor": 2
}
