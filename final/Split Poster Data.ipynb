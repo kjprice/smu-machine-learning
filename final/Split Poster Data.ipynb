{
 "cells": [
  {
   "cell_type": "code",
   "execution_count": 1,
   "metadata": {},
   "outputs": [],
   "source": [
    "import pandas as pd\n",
    "import numpy as np\n",
    "import sklearn as sk\n",
    "import os, shutil\n",
    "\n",
    "from sklearn.model_selection import train_test_split"
   ]
  },
  {
   "cell_type": "markdown",
   "metadata": {},
   "source": [
    "### Load Movies"
   ]
  },
  {
   "cell_type": "code",
   "execution_count": 2,
   "metadata": {},
   "outputs": [],
   "source": [
    "# %load load-movies.py\n",
    "import pandas as pd\n",
    "\n",
    "movies = pd.read_csv('./data/tmdb_5000_movies.csv')\n",
    "credits = pd.read_csv('./data/tmdb_5000_credits.csv')"
   ]
  },
  {
   "cell_type": "code",
   "execution_count": 3,
   "metadata": {},
   "outputs": [
    {
     "name": "stderr",
     "output_type": "stream",
     "text": [
      "/usr/local/lib/python3.6/site-packages/ipykernel_launcher.py:33: UserWarning: Pandas doesn't allow columns to be created via a new attribute name - see https://pandas.pydata.org/pandas-docs/stable/indexing.html#attribute-access\n"
     ]
    }
   ],
   "source": [
    "# %load clean-movies.py\n",
    "import pandas as pd\n",
    "import numpy as np\n",
    "import sklearn as sk\n",
    "import json\n",
    "\n",
    "from sklearn.feature_extraction.text import CountVectorizer\n",
    "from sklearn.preprocessing import normalize\n",
    "\n",
    "# merge two datasets\n",
    "movies = pd.merge(left=movies, right=credits, left_on='id', right_on='movie_id')\n",
    "\n",
    "# turn json into python objects\n",
    "json_columns = ['genres', 'keywords', 'production_countries', 'spoken_languages', 'cast', 'crew']\n",
    "for column in json_columns:\n",
    "  movies[column] = movies[column].apply(json.loads, encoding=\"utf-8\")\n",
    "\n",
    "\n",
    "\n",
    "######## Actors ########\n",
    "\n",
    "# create functions that will help with extracting actor information\n",
    "def actor_to_id_string(actor):\n",
    "  return '{} - {}'.format(actor['name'], actor['id'])\n",
    "\n",
    "def cast_to_actors(cast):\n",
    "  actors = []\n",
    "  for person in cast:\n",
    "    actors.append(actor_to_id_string(person))\n",
    "  return actors\n",
    "\n",
    "# Create a new column (array) from cast\n",
    "movies.actors = movies.cast.apply(cast_to_actors)\n",
    "\n",
    "# Create a list of all actors\n",
    "all_actors = []\n",
    "for actors in movies.actors:\n",
    "  for actor in actors:\n",
    "    all_actors.append(actor)\n",
    "actors = pd.Series(all_actors)\n",
    "unique_actors_count = pd.crosstab(actors, columns='count')\n",
    "\n",
    "# Create function to determine if actor has been in more than 3 films\n",
    "actors_string_id_by_id = {}\n",
    "actor_counts_by_string_id = {}\n",
    "unique_actors_count_dict = unique_actors_count.to_dict()['count']\n",
    "\n",
    "def actor_has_more_than_x_movies(actor, number_of_movies = 3):\n",
    "    string_id = str(actor['id'])\n",
    "\n",
    "    # First, get the unique id created for the actor\n",
    "    actor_string_id = ''\n",
    "    if string_id in actors_string_id_by_id:\n",
    "        actor_string_id = actors_string_id_by_id[string_id]\n",
    "    else:\n",
    "        actor_string_id = actor_to_id_string(actor)\n",
    "        actors_string_id_by_id[string_id] = actor_string_id\n",
    "    \n",
    "    # Now let's see how many movies this actor has played in\n",
    "    actor_count = unique_actors_count_dict[actor_string_id]\n",
    "    return actor_count > number_of_movies\n",
    "\n",
    "# Create a list of all actors that have been in more than 3 movies\n",
    "movies_actors_ids = []\n",
    "for actors in movies.cast:\n",
    "  movie_actors_ids = []\n",
    "  for actor in actors:\n",
    "    if (not actor_has_more_than_x_movies(actor, 3)):\n",
    "      continue\n",
    "    movie_actors_ids.append(str(actor['id']))\n",
    "  movies_actors_ids.append(' '.join(movie_actors_ids))\n",
    "\n",
    "# Vectorize the list of actors\n",
    "def get_actor_feature_name(id):\n",
    "  return actors_string_id_by_id[id] + ' (actor)'\n",
    "vectorizer = CountVectorizer()\n",
    "movie_vector = vectorizer.fit_transform(movies_actors_ids).toarray()\n",
    "\n",
    "actor_feature_ids = vectorizer.get_feature_names()\n",
    "actor_feature_names = []\n",
    "for id in actor_feature_ids:\n",
    "  actor_name = get_actor_feature_name(id)\n",
    "  actor_feature_names.append(actor_name)\n",
    "\n",
    "actor_vector_works = pd.DataFrame(movie_vector, columns=actor_feature_names)\n",
    "actor_vector_works['id'] = movies.id\n",
    "\n",
    "# Create the label for whether Samuel L Jackson was in the film (samuel)\n",
    "movies['samuel'] = actor_vector_works[get_actor_feature_name('2231')] == 1\n",
    "\n",
    "\n",
    "\n",
    "\n",
    "\n",
    "######## GENRES ########\n",
    "\n",
    "def unique_genres(movies_genres):\n",
    "  genre_map = {}\n",
    "  for genres in movies_genres:\n",
    "    for genre in genres:\n",
    "      name = genre['name']\n",
    "      if not name in genre_map:\n",
    "        genre_map[name] = 0\n",
    "      genre_map[name]+=1\n",
    "  return pd.Series(genre_map).sort_values(ascending=False)\n",
    "\n",
    "def get_genres_feature_name(genre):\n",
    "  return genre['name'] + ' (genre)'\n",
    "\n",
    "movies_genres_ids = []\n",
    "movie_genres_names_by_id = {}\n",
    "for genres in movies.genres:\n",
    "  movie_genres_ids = []\n",
    "  for genre in genres:\n",
    "    genre_feature_name = get_genres_feature_name(genre)\n",
    "    movie_genres_ids.append(str(genre['id']))\n",
    "    movie_genres_names_by_id[str(genre['id'])] = genre_feature_name\n",
    "  movies_genres_ids.append(' '.join(movie_genres_ids))\n",
    "\n",
    "genre_vectorization = CountVectorizer()\n",
    "\n",
    "movie_vector = genre_vectorization.fit_transform(movies_genres_ids).toarray()\n",
    "genre_feature_ids = genre_vectorization.get_feature_names()\n",
    "\n",
    "def get_feature_names_by_ids(ids):\n",
    "  genre_feature_names = []\n",
    "\n",
    "  for id in ids:\n",
    "    genre_feature_names.append(movie_genres_names_by_id[id])\n",
    "  return genre_feature_names\n",
    "\n",
    "genre_feature_names = get_feature_names_by_ids(genre_feature_ids)\n",
    "\n",
    "genre_vector = pd.DataFrame(movie_vector, columns=genre_feature_names)\n",
    "genre_vector['id'] = movies.id\n",
    "\n",
    "features_to_normalize = [\n",
    "  'budget',\n",
    "  'popularity',\n",
    "  'vote_average',\n",
    "  'vote_count',\n",
    "  'revenue'\n",
    "]\n",
    "\n",
    "for feature in features_to_normalize:\n",
    "  feature_array = movies[feature].values.astype('float64').reshape(1, -1)\n",
    "  movies[feature + '_original'] =     movies[feature]\n",
    "  movies[feature] = normalize(feature_array, axis=1, norm='max')[0]\n",
    "\n",
    "\n"
   ]
  },
  {
   "cell_type": "markdown",
   "metadata": {},
   "source": [
    "### Load Images"
   ]
  },
  {
   "cell_type": "code",
   "execution_count": 4,
   "metadata": {},
   "outputs": [],
   "source": [
    "posters_dir = 'data/posters'\n",
    "poster_filenames = os.listdir(posters_dir)"
   ]
  },
  {
   "cell_type": "markdown",
   "metadata": {},
   "source": [
    "### Create DataFrame from filenames and movie ids"
   ]
  },
  {
   "cell_type": "code",
   "execution_count": 5,
   "metadata": {},
   "outputs": [],
   "source": [
    "def get_movie_id_from_filename(filename):\n",
    "    movie_id = filename.split('.')[0]\n",
    "    return movie_id\n",
    "\n",
    "file_movie_ids = []\n",
    "\n",
    "for filename in poster_filenames:\n",
    "    movie_id = get_movie_id_from_filename(filename)\n",
    "    file_movie_ids.append(movie_id)"
   ]
  },
  {
   "cell_type": "code",
   "execution_count": 6,
   "metadata": {},
   "outputs": [],
   "source": [
    "poster_df = pd.DataFrame({\n",
    "    'movie_id': pd.Series(file_movie_ids).astype('int64'),\n",
    "    'filenames': poster_filenames\n",
    "})"
   ]
  },
  {
   "cell_type": "code",
   "execution_count": 7,
   "metadata": {},
   "outputs": [
    {
     "data": {
      "text/plain": [
       "str"
      ]
     },
     "execution_count": 7,
     "metadata": {},
     "output_type": "execute_result"
    }
   ],
   "source": [
    "type(file_movie_ids[0])"
   ]
  },
  {
   "cell_type": "code",
   "execution_count": 8,
   "metadata": {},
   "outputs": [
    {
     "data": {
      "text/plain": [
       "numpy.int64"
      ]
     },
     "execution_count": 8,
     "metadata": {},
     "output_type": "execute_result"
    }
   ],
   "source": [
    "type(movies.id[0])"
   ]
  },
  {
   "cell_type": "code",
   "execution_count": 9,
   "metadata": {},
   "outputs": [],
   "source": [
    "movies_poster_merge = pd.merge(left=movies, right=poster_df, left_on='id', right_on='movie_id')"
   ]
  },
  {
   "cell_type": "code",
   "execution_count": 10,
   "metadata": {},
   "outputs": [
    {
     "data": {
      "text/html": [
       "<div>\n",
       "<style scoped>\n",
       "    .dataframe tbody tr th:only-of-type {\n",
       "        vertical-align: middle;\n",
       "    }\n",
       "\n",
       "    .dataframe tbody tr th {\n",
       "        vertical-align: top;\n",
       "    }\n",
       "\n",
       "    .dataframe thead th {\n",
       "        text-align: right;\n",
       "    }\n",
       "</style>\n",
       "<table border=\"1\" class=\"dataframe\">\n",
       "  <thead>\n",
       "    <tr style=\"text-align: right;\">\n",
       "      <th></th>\n",
       "      <th>budget</th>\n",
       "      <th>genres</th>\n",
       "      <th>homepage</th>\n",
       "      <th>id</th>\n",
       "      <th>keywords</th>\n",
       "      <th>original_language</th>\n",
       "      <th>original_title</th>\n",
       "      <th>overview</th>\n",
       "      <th>popularity</th>\n",
       "      <th>production_companies</th>\n",
       "      <th>...</th>\n",
       "      <th>cast</th>\n",
       "      <th>crew</th>\n",
       "      <th>samuel</th>\n",
       "      <th>budget_original</th>\n",
       "      <th>popularity_original</th>\n",
       "      <th>vote_average_original</th>\n",
       "      <th>vote_count_original</th>\n",
       "      <th>revenue_original</th>\n",
       "      <th>filenames</th>\n",
       "      <th>movie_id_y</th>\n",
       "    </tr>\n",
       "  </thead>\n",
       "  <tbody>\n",
       "    <tr>\n",
       "      <th>0</th>\n",
       "      <td>0.623684</td>\n",
       "      <td>[{'id': 28, 'name': 'Action'}, {'id': 12, 'nam...</td>\n",
       "      <td>http://www.avatarmovie.com/</td>\n",
       "      <td>19995</td>\n",
       "      <td>[{'id': 1463, 'name': 'culture clash'}, {'id':...</td>\n",
       "      <td>en</td>\n",
       "      <td>Avatar</td>\n",
       "      <td>In the 22nd century, a paraplegic Marine is di...</td>\n",
       "      <td>0.171815</td>\n",
       "      <td>[{\"name\": \"Ingenious Film Partners\", \"id\": 289...</td>\n",
       "      <td>...</td>\n",
       "      <td>[{'cast_id': 242, 'character': 'Jake Sully', '...</td>\n",
       "      <td>[{'credit_id': '52fe48009251416c750aca23', 'de...</td>\n",
       "      <td>False</td>\n",
       "      <td>237000000</td>\n",
       "      <td>150.437577</td>\n",
       "      <td>7.2</td>\n",
       "      <td>11800</td>\n",
       "      <td>2787965087</td>\n",
       "      <td>19995.jpg</td>\n",
       "      <td>19995</td>\n",
       "    </tr>\n",
       "    <tr>\n",
       "      <th>1</th>\n",
       "      <td>0.789474</td>\n",
       "      <td>[{'id': 12, 'name': 'Adventure'}, {'id': 14, '...</td>\n",
       "      <td>http://disney.go.com/disneypictures/pirates/</td>\n",
       "      <td>285</td>\n",
       "      <td>[{'id': 270, 'name': 'ocean'}, {'id': 726, 'na...</td>\n",
       "      <td>en</td>\n",
       "      <td>Pirates of the Caribbean: At World's End</td>\n",
       "      <td>Captain Barbossa, long believed to be dead, ha...</td>\n",
       "      <td>0.158846</td>\n",
       "      <td>[{\"name\": \"Walt Disney Pictures\", \"id\": 2}, {\"...</td>\n",
       "      <td>...</td>\n",
       "      <td>[{'cast_id': 4, 'character': 'Captain Jack Spa...</td>\n",
       "      <td>[{'credit_id': '52fe4232c3a36847f800b579', 'de...</td>\n",
       "      <td>False</td>\n",
       "      <td>300000000</td>\n",
       "      <td>139.082615</td>\n",
       "      <td>6.9</td>\n",
       "      <td>4500</td>\n",
       "      <td>961000000</td>\n",
       "      <td>285.jpg</td>\n",
       "      <td>285</td>\n",
       "    </tr>\n",
       "    <tr>\n",
       "      <th>2</th>\n",
       "      <td>0.644737</td>\n",
       "      <td>[{'id': 28, 'name': 'Action'}, {'id': 12, 'nam...</td>\n",
       "      <td>http://www.sonypictures.com/movies/spectre/</td>\n",
       "      <td>206647</td>\n",
       "      <td>[{'id': 470, 'name': 'spy'}, {'id': 818, 'name...</td>\n",
       "      <td>en</td>\n",
       "      <td>Spectre</td>\n",
       "      <td>A cryptic message from Bond’s past sends him o...</td>\n",
       "      <td>0.122635</td>\n",
       "      <td>[{\"name\": \"Columbia Pictures\", \"id\": 5}, {\"nam...</td>\n",
       "      <td>...</td>\n",
       "      <td>[{'cast_id': 1, 'character': 'James Bond', 'cr...</td>\n",
       "      <td>[{'credit_id': '54805967c3a36829b5002c41', 'de...</td>\n",
       "      <td>False</td>\n",
       "      <td>245000000</td>\n",
       "      <td>107.376788</td>\n",
       "      <td>6.3</td>\n",
       "      <td>4466</td>\n",
       "      <td>880674609</td>\n",
       "      <td>206647.jpg</td>\n",
       "      <td>206647</td>\n",
       "    </tr>\n",
       "    <tr>\n",
       "      <th>3</th>\n",
       "      <td>0.657895</td>\n",
       "      <td>[{'id': 28, 'name': 'Action'}, {'id': 80, 'nam...</td>\n",
       "      <td>http://www.thedarkknightrises.com/</td>\n",
       "      <td>49026</td>\n",
       "      <td>[{'id': 849, 'name': 'dc comics'}, {'id': 853,...</td>\n",
       "      <td>en</td>\n",
       "      <td>The Dark Knight Rises</td>\n",
       "      <td>Following the death of District Attorney Harve...</td>\n",
       "      <td>0.128272</td>\n",
       "      <td>[{\"name\": \"Legendary Pictures\", \"id\": 923}, {\"...</td>\n",
       "      <td>...</td>\n",
       "      <td>[{'cast_id': 2, 'character': 'Bruce Wayne / Ba...</td>\n",
       "      <td>[{'credit_id': '52fe4781c3a36847f81398c3', 'de...</td>\n",
       "      <td>False</td>\n",
       "      <td>250000000</td>\n",
       "      <td>112.312950</td>\n",
       "      <td>7.6</td>\n",
       "      <td>9106</td>\n",
       "      <td>1084939099</td>\n",
       "      <td>49026.jpg</td>\n",
       "      <td>49026</td>\n",
       "    </tr>\n",
       "    <tr>\n",
       "      <th>4</th>\n",
       "      <td>0.684211</td>\n",
       "      <td>[{'id': 28, 'name': 'Action'}, {'id': 12, 'nam...</td>\n",
       "      <td>http://movies.disney.com/john-carter</td>\n",
       "      <td>49529</td>\n",
       "      <td>[{'id': 818, 'name': 'based on novel'}, {'id':...</td>\n",
       "      <td>en</td>\n",
       "      <td>John Carter</td>\n",
       "      <td>John Carter is a war-weary, former military ca...</td>\n",
       "      <td>0.050169</td>\n",
       "      <td>[{\"name\": \"Walt Disney Pictures\", \"id\": 2}]</td>\n",
       "      <td>...</td>\n",
       "      <td>[{'cast_id': 5, 'character': 'John Carter', 'c...</td>\n",
       "      <td>[{'credit_id': '52fe479ac3a36847f813eaa3', 'de...</td>\n",
       "      <td>False</td>\n",
       "      <td>260000000</td>\n",
       "      <td>43.926995</td>\n",
       "      <td>6.1</td>\n",
       "      <td>2124</td>\n",
       "      <td>284139100</td>\n",
       "      <td>49529.jpg</td>\n",
       "      <td>49529</td>\n",
       "    </tr>\n",
       "  </tbody>\n",
       "</table>\n",
       "<p>5 rows × 32 columns</p>\n",
       "</div>"
      ],
      "text/plain": [
       "     budget                                             genres  \\\n",
       "0  0.623684  [{'id': 28, 'name': 'Action'}, {'id': 12, 'nam...   \n",
       "1  0.789474  [{'id': 12, 'name': 'Adventure'}, {'id': 14, '...   \n",
       "2  0.644737  [{'id': 28, 'name': 'Action'}, {'id': 12, 'nam...   \n",
       "3  0.657895  [{'id': 28, 'name': 'Action'}, {'id': 80, 'nam...   \n",
       "4  0.684211  [{'id': 28, 'name': 'Action'}, {'id': 12, 'nam...   \n",
       "\n",
       "                                       homepage      id  \\\n",
       "0                   http://www.avatarmovie.com/   19995   \n",
       "1  http://disney.go.com/disneypictures/pirates/     285   \n",
       "2   http://www.sonypictures.com/movies/spectre/  206647   \n",
       "3            http://www.thedarkknightrises.com/   49026   \n",
       "4          http://movies.disney.com/john-carter   49529   \n",
       "\n",
       "                                            keywords original_language  \\\n",
       "0  [{'id': 1463, 'name': 'culture clash'}, {'id':...                en   \n",
       "1  [{'id': 270, 'name': 'ocean'}, {'id': 726, 'na...                en   \n",
       "2  [{'id': 470, 'name': 'spy'}, {'id': 818, 'name...                en   \n",
       "3  [{'id': 849, 'name': 'dc comics'}, {'id': 853,...                en   \n",
       "4  [{'id': 818, 'name': 'based on novel'}, {'id':...                en   \n",
       "\n",
       "                             original_title  \\\n",
       "0                                    Avatar   \n",
       "1  Pirates of the Caribbean: At World's End   \n",
       "2                                   Spectre   \n",
       "3                     The Dark Knight Rises   \n",
       "4                               John Carter   \n",
       "\n",
       "                                            overview  popularity  \\\n",
       "0  In the 22nd century, a paraplegic Marine is di...    0.171815   \n",
       "1  Captain Barbossa, long believed to be dead, ha...    0.158846   \n",
       "2  A cryptic message from Bond’s past sends him o...    0.122635   \n",
       "3  Following the death of District Attorney Harve...    0.128272   \n",
       "4  John Carter is a war-weary, former military ca...    0.050169   \n",
       "\n",
       "                                production_companies     ...      \\\n",
       "0  [{\"name\": \"Ingenious Film Partners\", \"id\": 289...     ...       \n",
       "1  [{\"name\": \"Walt Disney Pictures\", \"id\": 2}, {\"...     ...       \n",
       "2  [{\"name\": \"Columbia Pictures\", \"id\": 5}, {\"nam...     ...       \n",
       "3  [{\"name\": \"Legendary Pictures\", \"id\": 923}, {\"...     ...       \n",
       "4        [{\"name\": \"Walt Disney Pictures\", \"id\": 2}]     ...       \n",
       "\n",
       "                                                cast  \\\n",
       "0  [{'cast_id': 242, 'character': 'Jake Sully', '...   \n",
       "1  [{'cast_id': 4, 'character': 'Captain Jack Spa...   \n",
       "2  [{'cast_id': 1, 'character': 'James Bond', 'cr...   \n",
       "3  [{'cast_id': 2, 'character': 'Bruce Wayne / Ba...   \n",
       "4  [{'cast_id': 5, 'character': 'John Carter', 'c...   \n",
       "\n",
       "                                                crew  samuel  budget_original  \\\n",
       "0  [{'credit_id': '52fe48009251416c750aca23', 'de...   False        237000000   \n",
       "1  [{'credit_id': '52fe4232c3a36847f800b579', 'de...   False        300000000   \n",
       "2  [{'credit_id': '54805967c3a36829b5002c41', 'de...   False        245000000   \n",
       "3  [{'credit_id': '52fe4781c3a36847f81398c3', 'de...   False        250000000   \n",
       "4  [{'credit_id': '52fe479ac3a36847f813eaa3', 'de...   False        260000000   \n",
       "\n",
       "  popularity_original vote_average_original vote_count_original  \\\n",
       "0          150.437577                   7.2               11800   \n",
       "1          139.082615                   6.9                4500   \n",
       "2          107.376788                   6.3                4466   \n",
       "3          112.312950                   7.6                9106   \n",
       "4           43.926995                   6.1                2124   \n",
       "\n",
       "  revenue_original   filenames  movie_id_y  \n",
       "0       2787965087   19995.jpg       19995  \n",
       "1        961000000     285.jpg         285  \n",
       "2        880674609  206647.jpg      206647  \n",
       "3       1084939099   49026.jpg       49026  \n",
       "4        284139100   49529.jpg       49529  \n",
       "\n",
       "[5 rows x 32 columns]"
      ]
     },
     "execution_count": 10,
     "metadata": {},
     "output_type": "execute_result"
    }
   ],
   "source": [
    "movies_poster_merge.head()"
   ]
  },
  {
   "cell_type": "markdown",
   "metadata": {},
   "source": [
    "### Define features and labels"
   ]
  },
  {
   "cell_type": "code",
   "execution_count": 11,
   "metadata": {},
   "outputs": [
    {
     "data": {
      "text/plain": [
       "153376"
      ]
     },
     "execution_count": 11,
     "metadata": {},
     "output_type": "execute_result"
    }
   ],
   "source": [
    "movies_poster_merge.size"
   ]
  },
  {
   "cell_type": "code",
   "execution_count": 12,
   "metadata": {},
   "outputs": [],
   "source": [
    "y = movies_poster_merge.samuel\n",
    "X = movies_poster_merge[['filenames', 'samuel']]"
   ]
  },
  {
   "cell_type": "markdown",
   "metadata": {},
   "source": [
    "### Create stratified Cross Validation"
   ]
  },
  {
   "cell_type": "code",
   "execution_count": 13,
   "metadata": {},
   "outputs": [],
   "source": [
    "X_train, X_test, y_train, y_test = train_test_split(X, y, test_size=.3, stratify=y, random_state=42)"
   ]
  },
  {
   "cell_type": "code",
   "execution_count": 14,
   "metadata": {},
   "outputs": [
    {
     "data": {
      "text/plain": [
       "6710"
      ]
     },
     "execution_count": 14,
     "metadata": {},
     "output_type": "execute_result"
    }
   ],
   "source": [
    "X_train.size"
   ]
  },
  {
   "cell_type": "code",
   "execution_count": 15,
   "metadata": {},
   "outputs": [
    {
     "data": {
      "text/plain": [
       "2876"
      ]
     },
     "execution_count": 15,
     "metadata": {},
     "output_type": "execute_result"
    }
   ],
   "source": [
    "X_test.size"
   ]
  },
  {
   "cell_type": "code",
   "execution_count": 16,
   "metadata": {},
   "outputs": [
    {
     "data": {
      "text/plain": [
       "47"
      ]
     },
     "execution_count": 16,
     "metadata": {},
     "output_type": "execute_result"
    }
   ],
   "source": [
    "y_train[y_train].size"
   ]
  },
  {
   "cell_type": "code",
   "execution_count": 17,
   "metadata": {},
   "outputs": [
    {
     "data": {
      "text/plain": [
       "20"
      ]
     },
     "execution_count": 17,
     "metadata": {},
     "output_type": "execute_result"
    }
   ],
   "source": [
    "y_test[y_test].size"
   ]
  },
  {
   "cell_type": "markdown",
   "metadata": {},
   "source": [
    "### Create Directories"
   ]
  },
  {
   "cell_type": "code",
   "execution_count": 18,
   "metadata": {},
   "outputs": [],
   "source": [
    "posters_test_dir = 'data/posters_test'\n",
    "posters_train_dir = 'data/posters_train'\n",
    "posters_sam_train_dir = os.path.join(posters_train_dir, 'sam')\n",
    "posters_not_sam_train_dir = os.path.join(posters_train_dir, 'not_sam')\n",
    "posters_sam_test_dir = os.path.join(posters_test_dir, 'sam')\n",
    "posters_not_sam_test_dir = os.path.join(posters_test_dir, 'not_sam')\n",
    "\n",
    "directories_to_create = [\n",
    "    posters_test_dir,\n",
    "    posters_train_dir,\n",
    "    posters_sam_train_dir,\n",
    "    posters_not_sam_train_dir,\n",
    "    posters_sam_test_dir,\n",
    "    posters_not_sam_test_dir,\n",
    "]"
   ]
  },
  {
   "cell_type": "code",
   "execution_count": 19,
   "metadata": {},
   "outputs": [],
   "source": [
    "for directory in directories_to_create:\n",
    "    try:\n",
    "        os.mkdir(directory)\n",
    "    except:\n",
    "        print('{} already exists'.format([directory]))"
   ]
  },
  {
   "cell_type": "markdown",
   "metadata": {},
   "source": [
    "### Copy Files over to new directories"
   ]
  },
  {
   "cell_type": "code",
   "execution_count": 20,
   "metadata": {},
   "outputs": [],
   "source": [
    "train_filenames = X_train"
   ]
  },
  {
   "cell_type": "code",
   "execution_count": 21,
   "metadata": {},
   "outputs": [],
   "source": [
    "train_filenames = X_train\n",
    "for index, row in train_filenames.iterrows():\n",
    "    filename = row.filenames\n",
    "    file_from = os.path.join(posters_dir, filename)\n",
    "    file_to = ''\n",
    "    if row.samuel:\n",
    "        file_to = os.path.join(posters_sam_train_dir, filename)\n",
    "    else:\n",
    "        file_to = os.path.join(posters_not_sam_train_dir, filename)        \n",
    "    shutil.copyfile(file_from, file_to)\n",
    "    \n",
    "test_filenames = X_test\n",
    "for index, row in test_filenames.iterrows():\n",
    "    filename = row.filenames\n",
    "    file_from = os.path.join(posters_dir, filename)\n",
    "    file_to = ''\n",
    "    if row.samuel:\n",
    "        file_to = os.path.join(posters_sam_test_dir, filename)\n",
    "    else:\n",
    "        file_to = os.path.join(posters_not_sam_test_dir, filename)        \n",
    "    shutil.copyfile(file_from, file_to)"
   ]
  },
  {
   "cell_type": "code",
   "execution_count": null,
   "metadata": {},
   "outputs": [],
   "source": []
  }
 ],
 "metadata": {
  "kernelspec": {
   "display_name": "Python 3",
   "language": "python",
   "name": "python3"
  },
  "language_info": {
   "codemirror_mode": {
    "name": "ipython",
    "version": 3
   },
   "file_extension": ".py",
   "mimetype": "text/x-python",
   "name": "python",
   "nbconvert_exporter": "python",
   "pygments_lexer": "ipython3",
   "version": "3.6.5"
  }
 },
 "nbformat": 4,
 "nbformat_minor": 2
}
