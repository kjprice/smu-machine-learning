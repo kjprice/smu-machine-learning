{
 "cells": [
  {
   "cell_type": "code",
   "execution_count": 1,
   "metadata": {},
   "outputs": [
    {
     "name": "stderr",
     "output_type": "stream",
     "text": [
      "/usr/local/lib/python3.6/site-packages/h5py/__init__.py:36: FutureWarning: Conversion of the second argument of issubdtype from `float` to `np.floating` is deprecated. In future, it will be treated as `np.float64 == np.dtype(float).type`.\n",
      "  from ._conv import register_converters as _register_converters\n",
      "Using TensorFlow backend.\n"
     ]
    }
   ],
   "source": [
    "import os\n",
    "\n",
    "import pandas as pd\n",
    "import numpy as np\n",
    "\n",
    "from keras import layers\n",
    "from keras import models\n",
    "from keras.preprocessing import image\n",
    "import matplotlib.pyplot as plt\n",
    "import time"
   ]
  },
  {
   "cell_type": "code",
   "execution_count": 2,
   "metadata": {},
   "outputs": [],
   "source": [
    "samuel_images_validation_dir = 'data/crop_images/samuel_images_validation'\n",
    "samuel_images_train_dir = 'data/crop_images/samuel_images_train'"
   ]
  },
  {
   "cell_type": "code",
   "execution_count": 3,
   "metadata": {},
   "outputs": [],
   "source": [
    "model = models.Sequential()\n",
    "model.add(layers.SeparableConv2D(32, (3, 3), activation='relu',\n",
    "                        input_shape=(224, 224, 3)))\n",
    "model.add(layers.MaxPooling2D((2, 2)))\n",
    "\n",
    "model.add(layers.SeparableConv2D(64, (3, 3), activation='relu'))\n",
    "model.add(layers.MaxPooling2D((2, 2)))\n",
    "\n",
    "model.add(layers.SeparableConv2D(128, (3, 3), activation='relu'))\n",
    "model.add(layers.MaxPooling2D((2, 2)))\n",
    "\n",
    "model.add(layers.SeparableConv2D(128, (3, 3), activation='relu'))\n",
    "model.add(layers.MaxPooling2D((2, 2)))\n",
    "\n",
    "model.add(layers.Flatten())\n",
    "model.add(layers.Dropout(0.5))\n",
    "model.add(layers.Dense(512, activation='relu'))\n",
    "model.add(layers.Dense(1, activation='sigmoid'))"
   ]
  },
  {
   "cell_type": "code",
   "execution_count": 4,
   "metadata": {},
   "outputs": [
    {
     "name": "stdout",
     "output_type": "stream",
     "text": [
      "_________________________________________________________________\n",
      "Layer (type)                 Output Shape              Param #   \n",
      "=================================================================\n",
      "separable_conv2d_1 (Separabl (None, 222, 222, 32)      155       \n",
      "_________________________________________________________________\n",
      "max_pooling2d_1 (MaxPooling2 (None, 111, 111, 32)      0         \n",
      "_________________________________________________________________\n",
      "separable_conv2d_2 (Separabl (None, 109, 109, 64)      2400      \n",
      "_________________________________________________________________\n",
      "max_pooling2d_2 (MaxPooling2 (None, 54, 54, 64)        0         \n",
      "_________________________________________________________________\n",
      "separable_conv2d_3 (Separabl (None, 52, 52, 128)       8896      \n",
      "_________________________________________________________________\n",
      "max_pooling2d_3 (MaxPooling2 (None, 26, 26, 128)       0         \n",
      "_________________________________________________________________\n",
      "separable_conv2d_4 (Separabl (None, 24, 24, 128)       17664     \n",
      "_________________________________________________________________\n",
      "max_pooling2d_4 (MaxPooling2 (None, 12, 12, 128)       0         \n",
      "_________________________________________________________________\n",
      "flatten_1 (Flatten)          (None, 18432)             0         \n",
      "_________________________________________________________________\n",
      "dropout_1 (Dropout)          (None, 18432)             0         \n",
      "_________________________________________________________________\n",
      "dense_1 (Dense)              (None, 512)               9437696   \n",
      "_________________________________________________________________\n",
      "dense_2 (Dense)              (None, 1)                 513       \n",
      "=================================================================\n",
      "Total params: 9,467,324\n",
      "Trainable params: 9,467,324\n",
      "Non-trainable params: 0\n",
      "_________________________________________________________________\n"
     ]
    }
   ],
   "source": [
    "model.summary()"
   ]
  },
  {
   "cell_type": "code",
   "execution_count": 5,
   "metadata": {},
   "outputs": [],
   "source": [
    "from keras import optimizers\n",
    "\n",
    "model.compile(loss='binary_crossentropy',\n",
    "              optimizer=optimizers.RMSprop(lr=1e-4),\n",
    "              metrics=['acc'])"
   ]
  },
  {
   "cell_type": "code",
   "execution_count": 6,
   "metadata": {},
   "outputs": [
    {
     "name": "stdout",
     "output_type": "stream",
     "text": [
      "Found 1421 images belonging to 2 classes.\n",
      "Found 706 images belonging to 2 classes.\n"
     ]
    }
   ],
   "source": [
    "from keras.preprocessing.image import ImageDataGenerator\n",
    "\n",
    "# All images will be rescaled by 1./255\n",
    "train_datagen = ImageDataGenerator(\n",
    "    rescale=1./255,\n",
    "    rotation_range=40,\n",
    "    width_shift_range=0.2,\n",
    "    height_shift_range=0.2,\n",
    "    shear_range=0.2,\n",
    "    zoom_range=0.2,\n",
    "    horizontal_flip=True,)\n",
    "\n",
    "validation_datagen = ImageDataGenerator(rescale=1./255)\n",
    "\n",
    "train_generator = train_datagen.flow_from_directory(\n",
    "        # This is the target directory\n",
    "        samuel_images_train_dir,\n",
    "        target_size=(224, 224),\n",
    "        batch_size=60,\n",
    "        # Since we use binary_crossentropy loss, we need binary labels\n",
    "        class_mode='binary')\n",
    "\n",
    "validation_generator = validation_datagen.flow_from_directory(\n",
    "        samuel_images_validation_dir,\n",
    "        target_size=(224, 224),\n",
    "        batch_size=60,\n",
    "        class_mode='binary')"
   ]
  },
  {
   "cell_type": "code",
   "execution_count": 7,
   "metadata": {},
   "outputs": [
    {
     "name": "stdout",
     "output_type": "stream",
     "text": [
      "Epoch 1/120\n",
      "100/100 [==============================] - 798s 8s/step - loss: 0.6931 - acc: 0.5116 - val_loss: 0.6910 - val_acc: 0.5751\n",
      "Epoch 2/120\n",
      "100/100 [==============================] - 732s 7s/step - loss: 0.6907 - acc: 0.5454 - val_loss: 0.6879 - val_acc: 0.5659\n",
      "Epoch 3/120\n",
      "100/100 [==============================] - 735s 7s/step - loss: 0.6787 - acc: 0.5945 - val_loss: 0.6620 - val_acc: 0.6287\n",
      "Epoch 4/120\n",
      "100/100 [==============================] - 563s 6s/step - loss: 0.6653 - acc: 0.5977 - val_loss: 0.6352 - val_acc: 0.6624\n",
      "Epoch 5/120\n",
      "100/100 [==============================] - 557s 6s/step - loss: 0.6582 - acc: 0.6142 - val_loss: 0.6240 - val_acc: 0.6593\n",
      "Epoch 6/120\n",
      "100/100 [==============================] - 560s 6s/step - loss: 0.6560 - acc: 0.6144 - val_loss: 0.6108 - val_acc: 0.6661\n",
      "Epoch 7/120\n",
      "100/100 [==============================] - 542s 5s/step - loss: 0.6514 - acc: 0.6253 - val_loss: 0.6150 - val_acc: 0.6654\n",
      "Epoch 8/120\n",
      "100/100 [==============================] - 547s 5s/step - loss: 0.6481 - acc: 0.6264 - val_loss: 0.6113 - val_acc: 0.6681\n",
      "Epoch 9/120\n",
      "100/100 [==============================] - 553s 6s/step - loss: 0.6475 - acc: 0.6261 - val_loss: 0.6034 - val_acc: 0.6746\n",
      "Epoch 10/120\n",
      "100/100 [==============================] - 554s 6s/step - loss: 0.6464 - acc: 0.6337 - val_loss: 0.5904 - val_acc: 0.6787\n",
      "Epoch 11/120\n",
      "100/100 [==============================] - 560s 6s/step - loss: 0.6462 - acc: 0.6238 - val_loss: 0.5902 - val_acc: 0.6861\n",
      "Epoch 12/120\n",
      "100/100 [==============================] - 563s 6s/step - loss: 0.6453 - acc: 0.6283 - val_loss: 0.5867 - val_acc: 0.6814\n",
      "Epoch 13/120\n",
      "100/100 [==============================] - 540s 5s/step - loss: 0.6405 - acc: 0.6354 - val_loss: 0.5846 - val_acc: 0.6909\n",
      "Epoch 14/120\n",
      "100/100 [==============================] - 544s 5s/step - loss: 0.6437 - acc: 0.6322 - val_loss: 0.5962 - val_acc: 0.6807\n",
      "Epoch 15/120\n",
      "100/100 [==============================] - 551s 6s/step - loss: 0.6424 - acc: 0.6335 - val_loss: 0.6155 - val_acc: 0.6712\n",
      "Epoch 16/120\n",
      "100/100 [==============================] - 550s 6s/step - loss: 0.6422 - acc: 0.6309 - val_loss: 0.5985 - val_acc: 0.6868\n",
      "Epoch 17/120\n",
      "100/100 [==============================] - 557s 6s/step - loss: 0.6383 - acc: 0.6378 - val_loss: 0.5795 - val_acc: 0.6960\n",
      "Epoch 18/120\n",
      "100/100 [==============================] - 561s 6s/step - loss: 0.6428 - acc: 0.6307 - val_loss: 0.5974 - val_acc: 0.6916\n",
      "Epoch 19/120\n",
      "100/100 [==============================] - 478s 5s/step - loss: 0.6360 - acc: 0.6392 - val_loss: 0.5930 - val_acc: 0.6960\n",
      "Epoch 20/120\n",
      "100/100 [==============================] - 315s 3s/step - loss: 0.6347 - acc: 0.6389 - val_loss: 0.5729 - val_acc: 0.6970\n",
      "Epoch 21/120\n",
      "100/100 [==============================] - 319s 3s/step - loss: 0.6339 - acc: 0.6417 - val_loss: 0.5789 - val_acc: 0.6974\n",
      "Epoch 22/120\n",
      "100/100 [==============================] - 324s 3s/step - loss: 0.6332 - acc: 0.6346 - val_loss: 0.5776 - val_acc: 0.7052\n",
      "Epoch 23/120\n",
      "100/100 [==============================] - 321s 3s/step - loss: 0.6267 - acc: 0.6475 - val_loss: 0.5833 - val_acc: 0.6916\n",
      "Epoch 24/120\n",
      "100/100 [==============================] - 321s 3s/step - loss: 0.6295 - acc: 0.6481 - val_loss: 0.5686 - val_acc: 0.7014\n",
      "Epoch 25/120\n",
      "100/100 [==============================] - 318s 3s/step - loss: 0.6291 - acc: 0.6453 - val_loss: 0.5752 - val_acc: 0.6946\n",
      "Epoch 26/120\n",
      "100/100 [==============================] - 310s 3s/step - loss: 0.6263 - acc: 0.6478 - val_loss: 0.5630 - val_acc: 0.7106\n",
      "Epoch 27/120\n",
      "100/100 [==============================] - 330s 3s/step - loss: 0.6228 - acc: 0.6480 - val_loss: 0.5642 - val_acc: 0.7123\n",
      "Epoch 28/120\n",
      "100/100 [==============================] - 322s 3s/step - loss: 0.6232 - acc: 0.6486 - val_loss: 0.5827 - val_acc: 0.6906\n",
      "Epoch 29/120\n",
      "100/100 [==============================] - 325s 3s/step - loss: 0.6161 - acc: 0.6549 - val_loss: 0.5565 - val_acc: 0.7232\n",
      "Epoch 30/120\n",
      "100/100 [==============================] - 324s 3s/step - loss: 0.6180 - acc: 0.6551 - val_loss: 0.5558 - val_acc: 0.7242\n",
      "Epoch 31/120\n",
      "100/100 [==============================] - 304s 3s/step - loss: 0.6140 - acc: 0.6577 - val_loss: 0.5557 - val_acc: 0.7286\n",
      "Epoch 32/120\n",
      "100/100 [==============================] - 305s 3s/step - loss: 0.6083 - acc: 0.6711 - val_loss: 0.5447 - val_acc: 0.7252\n",
      "Epoch 33/120\n",
      "100/100 [==============================] - 308s 3s/step - loss: 0.6097 - acc: 0.6623 - val_loss: 0.5455 - val_acc: 0.7364\n",
      "Epoch 34/120\n",
      "100/100 [==============================] - 307s 3s/step - loss: 0.6116 - acc: 0.6671 - val_loss: 0.5482 - val_acc: 0.7296\n",
      "Epoch 35/120\n",
      "100/100 [==============================] - 309s 3s/step - loss: 0.5988 - acc: 0.6816 - val_loss: 0.5569 - val_acc: 0.7113\n",
      "Epoch 36/120\n",
      "100/100 [==============================] - 309s 3s/step - loss: 0.6062 - acc: 0.6763 - val_loss: 0.5751 - val_acc: 0.6851\n",
      "Epoch 37/120\n",
      "100/100 [==============================] - 304s 3s/step - loss: 0.6037 - acc: 0.6745 - val_loss: 0.5400 - val_acc: 0.7459\n",
      "Epoch 38/120\n",
      "100/100 [==============================] - 305s 3s/step - loss: 0.5985 - acc: 0.6809 - val_loss: 0.5589 - val_acc: 0.6990\n",
      "Epoch 39/120\n",
      "100/100 [==============================] - 305s 3s/step - loss: 0.6004 - acc: 0.6727 - val_loss: 0.5428 - val_acc: 0.7300\n",
      "Epoch 40/120\n",
      "100/100 [==============================] - 306s 3s/step - loss: 0.5945 - acc: 0.6838 - val_loss: 0.5510 - val_acc: 0.7103\n",
      "Epoch 41/120\n",
      "100/100 [==============================] - 306s 3s/step - loss: 0.5963 - acc: 0.6758 - val_loss: 0.5517 - val_acc: 0.7123\n",
      "Epoch 42/120\n",
      "100/100 [==============================] - 309s 3s/step - loss: 0.5973 - acc: 0.6812 - val_loss: 0.5617 - val_acc: 0.7069\n",
      "Epoch 43/120\n",
      "100/100 [==============================] - 304s 3s/step - loss: 0.5926 - acc: 0.6845 - val_loss: 0.5323 - val_acc: 0.7405\n",
      "Epoch 44/120\n",
      "100/100 [==============================] - 305s 3s/step - loss: 0.5939 - acc: 0.6866 - val_loss: 0.5418 - val_acc: 0.7354\n",
      "Epoch 45/120\n",
      "100/100 [==============================] - 305s 3s/step - loss: 0.5896 - acc: 0.6837 - val_loss: 0.5882 - val_acc: 0.6804\n",
      "Epoch 46/120\n",
      "100/100 [==============================] - 306s 3s/step - loss: 0.5922 - acc: 0.6828 - val_loss: 0.5345 - val_acc: 0.7296\n",
      "Epoch 47/120\n",
      "100/100 [==============================] - 306s 3s/step - loss: 0.5875 - acc: 0.6952 - val_loss: 0.5458 - val_acc: 0.7218\n",
      "Epoch 48/120\n",
      "100/100 [==============================] - 310s 3s/step - loss: 0.5870 - acc: 0.6881 - val_loss: 0.5487 - val_acc: 0.7130\n",
      "Epoch 49/120\n",
      "100/100 [==============================] - 303s 3s/step - loss: 0.5878 - acc: 0.6979 - val_loss: 0.5271 - val_acc: 0.7435\n",
      "Epoch 50/120\n",
      "100/100 [==============================] - 305s 3s/step - loss: 0.5878 - acc: 0.6923 - val_loss: 0.5621 - val_acc: 0.7075\n",
      "Epoch 51/120\n",
      "100/100 [==============================] - 304s 3s/step - loss: 0.5858 - acc: 0.6851 - val_loss: 0.5386 - val_acc: 0.7208\n",
      "Epoch 52/120\n",
      "100/100 [==============================] - 307s 3s/step - loss: 0.5878 - acc: 0.6852 - val_loss: 0.5276 - val_acc: 0.7401\n",
      "Epoch 53/120\n",
      "100/100 [==============================] - 306s 3s/step - loss: 0.5801 - acc: 0.6950 - val_loss: 0.5327 - val_acc: 0.7401\n",
      "Epoch 54/120\n",
      "100/100 [==============================] - 309s 3s/step - loss: 0.5812 - acc: 0.6940 - val_loss: 0.5248 - val_acc: 0.7381\n",
      "Epoch 55/120\n",
      "100/100 [==============================] - 305s 3s/step - loss: 0.5734 - acc: 0.6996 - val_loss: 0.5317 - val_acc: 0.7317\n",
      "Epoch 56/120\n",
      "100/100 [==============================] - 305s 3s/step - loss: 0.5773 - acc: 0.6962 - val_loss: 0.5232 - val_acc: 0.7398\n",
      "Epoch 57/120\n",
      "100/100 [==============================] - 306s 3s/step - loss: 0.5730 - acc: 0.6970 - val_loss: 0.5419 - val_acc: 0.7181\n",
      "Epoch 58/120\n",
      "100/100 [==============================] - 306s 3s/step - loss: 0.5727 - acc: 0.6958 - val_loss: 0.5238 - val_acc: 0.7327\n",
      "Epoch 59/120\n",
      "100/100 [==============================] - 305s 3s/step - loss: 0.5727 - acc: 0.6926 - val_loss: 0.5220 - val_acc: 0.7361\n",
      "Epoch 60/120\n",
      "100/100 [==============================] - 308s 3s/step - loss: 0.5743 - acc: 0.6927 - val_loss: 0.5491 - val_acc: 0.7137\n",
      "Epoch 61/120\n",
      "100/100 [==============================] - 302s 3s/step - loss: 0.5726 - acc: 0.6978 - val_loss: 0.5423 - val_acc: 0.7187\n"
     ]
    },
    {
     "name": "stdout",
     "output_type": "stream",
     "text": [
      "Epoch 62/120\n",
      "100/100 [==============================] - 311s 3s/step - loss: 0.5681 - acc: 0.7012 - val_loss: 0.5598 - val_acc: 0.7055\n",
      "Epoch 63/120\n",
      "100/100 [==============================] - 331s 3s/step - loss: 0.5671 - acc: 0.7100 - val_loss: 0.5639 - val_acc: 0.7021\n",
      "Epoch 64/120\n",
      "100/100 [==============================] - 433s 4s/step - loss: 0.5664 - acc: 0.7046 - val_loss: 0.5550 - val_acc: 0.7075\n",
      "Epoch 65/120\n",
      "100/100 [==============================] - 486s 5s/step - loss: 0.5680 - acc: 0.6986 - val_loss: 0.5317 - val_acc: 0.7293\n",
      "Epoch 66/120\n",
      "100/100 [==============================] - 484s 5s/step - loss: 0.5671 - acc: 0.6996 - val_loss: 0.5359 - val_acc: 0.7242\n",
      "Epoch 67/120\n",
      "100/100 [==============================] - 478s 5s/step - loss: 0.5601 - acc: 0.7160 - val_loss: 0.5481 - val_acc: 0.7123\n",
      "Epoch 68/120\n",
      "100/100 [==============================] - 477s 5s/step - loss: 0.5575 - acc: 0.7165 - val_loss: 0.5283 - val_acc: 0.7276\n",
      "Epoch 69/120\n",
      "100/100 [==============================] - 480s 5s/step - loss: 0.5607 - acc: 0.7105 - val_loss: 0.5363 - val_acc: 0.7167\n",
      "Epoch 70/120\n",
      "100/100 [==============================] - 484s 5s/step - loss: 0.5575 - acc: 0.7124 - val_loss: 0.6709 - val_acc: 0.6257\n",
      "Epoch 71/120\n",
      "100/100 [==============================] - 486s 5s/step - loss: 0.5524 - acc: 0.7229 - val_loss: 0.5577 - val_acc: 0.7120\n",
      "Epoch 72/120\n",
      "100/100 [==============================] - 493s 5s/step - loss: 0.5587 - acc: 0.7127 - val_loss: 0.5240 - val_acc: 0.7225\n",
      "Epoch 73/120\n",
      "100/100 [==============================] - 480s 5s/step - loss: 0.5602 - acc: 0.7079 - val_loss: 0.5408 - val_acc: 0.7204\n",
      "Epoch 74/120\n",
      "100/100 [==============================] - 475s 5s/step - loss: 0.5550 - acc: 0.7213 - val_loss: 0.5797 - val_acc: 0.6766\n",
      "Epoch 75/120\n",
      "100/100 [==============================] - 485s 5s/step - loss: 0.5486 - acc: 0.7213 - val_loss: 0.5394 - val_acc: 0.7249\n",
      "Epoch 76/120\n",
      "100/100 [==============================] - 484s 5s/step - loss: 0.5451 - acc: 0.7204 - val_loss: 0.5290 - val_acc: 0.7334\n",
      "Epoch 77/120\n",
      "100/100 [==============================] - 481s 5s/step - loss: 0.5501 - acc: 0.7188 - val_loss: 0.6745 - val_acc: 0.6243\n",
      "Epoch 78/120\n",
      "100/100 [==============================] - 495s 5s/step - loss: 0.5468 - acc: 0.7218 - val_loss: 0.5377 - val_acc: 0.7204\n",
      "Epoch 79/120\n",
      "100/100 [==============================] - 481s 5s/step - loss: 0.5427 - acc: 0.7234 - val_loss: 0.6702 - val_acc: 0.6301\n",
      "Epoch 80/120\n",
      "100/100 [==============================] - 471s 5s/step - loss: 0.5475 - acc: 0.7162 - val_loss: 0.5149 - val_acc: 0.7578\n",
      "Epoch 81/120\n",
      "100/100 [==============================] - 485s 5s/step - loss: 0.5466 - acc: 0.7193 - val_loss: 0.5383 - val_acc: 0.7300\n",
      "Epoch 82/120\n",
      "100/100 [==============================] - 488s 5s/step - loss: 0.5395 - acc: 0.7229 - val_loss: 0.5570 - val_acc: 0.6936\n",
      "Epoch 83/120\n",
      "100/100 [==============================] - 482s 5s/step - loss: 0.5454 - acc: 0.7249 - val_loss: 0.5157 - val_acc: 0.7632\n",
      "Epoch 84/120\n",
      "100/100 [==============================] - 493s 5s/step - loss: 0.5422 - acc: 0.7238 - val_loss: 0.5285 - val_acc: 0.7347\n",
      "Epoch 85/120\n",
      "100/100 [==============================] - 478s 5s/step - loss: 0.5397 - acc: 0.7225 - val_loss: 0.5366 - val_acc: 0.7174\n",
      "Epoch 86/120\n",
      "100/100 [==============================] - 480s 5s/step - loss: 0.5373 - acc: 0.7306 - val_loss: 0.5129 - val_acc: 0.7344\n",
      "Epoch 87/120\n",
      "100/100 [==============================] - 527s 5s/step - loss: 0.5321 - acc: 0.7359 - val_loss: 0.5146 - val_acc: 0.7449\n",
      "Epoch 88/120\n",
      "100/100 [==============================] - 521s 5s/step - loss: 0.5331 - acc: 0.7358 - val_loss: 0.5105 - val_acc: 0.7527\n",
      "Epoch 89/120\n",
      "100/100 [==============================] - 508s 5s/step - loss: 0.5304 - acc: 0.7300 - val_loss: 0.5317 - val_acc: 0.7347\n",
      "Epoch 90/120\n",
      "100/100 [==============================] - 327s 3s/step - loss: 0.5305 - acc: 0.7314 - val_loss: 0.5311 - val_acc: 0.7293\n",
      "Epoch 91/120\n",
      "100/100 [==============================] - 308s 3s/step - loss: 0.5274 - acc: 0.7342 - val_loss: 0.5412 - val_acc: 0.7184\n",
      "Epoch 92/120\n",
      "100/100 [==============================] - 308s 3s/step - loss: 0.5252 - acc: 0.7359 - val_loss: 0.5610 - val_acc: 0.6933\n",
      "Epoch 93/120\n",
      "100/100 [==============================] - 311s 3s/step - loss: 0.5295 - acc: 0.7359 - val_loss: 0.6555 - val_acc: 0.6318\n",
      "Epoch 94/120\n",
      "100/100 [==============================] - 308s 3s/step - loss: 0.5243 - acc: 0.7381 - val_loss: 0.5487 - val_acc: 0.7133\n",
      "Epoch 95/120\n",
      "100/100 [==============================] - 310s 3s/step - loss: 0.5253 - acc: 0.7379 - val_loss: 0.5696 - val_acc: 0.6824\n",
      "Epoch 96/120\n",
      "100/100 [==============================] - 313s 3s/step - loss: 0.5274 - acc: 0.7318 - val_loss: 0.5119 - val_acc: 0.7531\n",
      "Epoch 97/120\n",
      "100/100 [==============================] - 324s 3s/step - loss: 0.5311 - acc: 0.7308 - val_loss: 0.6250 - val_acc: 0.6505\n",
      "Epoch 98/120\n",
      "100/100 [==============================] - 324s 3s/step - loss: 0.5189 - acc: 0.7456 - val_loss: 0.5369 - val_acc: 0.7123\n",
      "Epoch 99/120\n",
      "100/100 [==============================] - 310s 3s/step - loss: 0.5229 - acc: 0.7416 - val_loss: 0.5835 - val_acc: 0.6722\n",
      "Epoch 100/120\n",
      "100/100 [==============================] - 343s 3s/step - loss: 0.5140 - acc: 0.7448 - val_loss: 0.5097 - val_acc: 0.7469\n",
      "Epoch 101/120\n",
      "  8/100 [=>............................] - ETA: 3:52 - loss: 0.5367 - acc: 0.7229"
     ]
    },
    {
     "ename": "StopIteration",
     "evalue": "[Errno 2] No such file or directory: 'data/crop_images/samuel_images_train/samuel/00000029.jpg'",
     "output_type": "error",
     "traceback": [
      "\u001b[0;31m---------------------------------------------------------------------------\u001b[0m",
      "\u001b[0;31mFileNotFoundError\u001b[0m                         Traceback (most recent call last)",
      "\u001b[0;32m/usr/local/lib/python3.6/site-packages/keras/utils/data_utils.py\u001b[0m in \u001b[0;36mget\u001b[0;34m(self)\u001b[0m\n\u001b[1;32m    577\u001b[0m             \u001b[0;32mwhile\u001b[0m \u001b[0mself\u001b[0m\u001b[0;34m.\u001b[0m\u001b[0mis_running\u001b[0m\u001b[0;34m(\u001b[0m\u001b[0;34m)\u001b[0m\u001b[0;34m:\u001b[0m\u001b[0;34m\u001b[0m\u001b[0m\n\u001b[0;32m--> 578\u001b[0;31m                 \u001b[0minputs\u001b[0m \u001b[0;34m=\u001b[0m \u001b[0mself\u001b[0m\u001b[0;34m.\u001b[0m\u001b[0mqueue\u001b[0m\u001b[0;34m.\u001b[0m\u001b[0mget\u001b[0m\u001b[0;34m(\u001b[0m\u001b[0mblock\u001b[0m\u001b[0;34m=\u001b[0m\u001b[0;32mTrue\u001b[0m\u001b[0;34m)\u001b[0m\u001b[0;34m.\u001b[0m\u001b[0mget\u001b[0m\u001b[0;34m(\u001b[0m\u001b[0;34m)\u001b[0m\u001b[0;34m\u001b[0m\u001b[0m\n\u001b[0m\u001b[1;32m    579\u001b[0m                 \u001b[0mself\u001b[0m\u001b[0;34m.\u001b[0m\u001b[0mqueue\u001b[0m\u001b[0;34m.\u001b[0m\u001b[0mtask_done\u001b[0m\u001b[0;34m(\u001b[0m\u001b[0;34m)\u001b[0m\u001b[0;34m\u001b[0m\u001b[0m\n",
      "\u001b[0;32m/usr/local/Cellar/python/3.6.5/Frameworks/Python.framework/Versions/3.6/lib/python3.6/multiprocessing/pool.py\u001b[0m in \u001b[0;36mget\u001b[0;34m(self, timeout)\u001b[0m\n\u001b[1;32m    643\u001b[0m         \u001b[0;32melse\u001b[0m\u001b[0;34m:\u001b[0m\u001b[0;34m\u001b[0m\u001b[0m\n\u001b[0;32m--> 644\u001b[0;31m             \u001b[0;32mraise\u001b[0m \u001b[0mself\u001b[0m\u001b[0;34m.\u001b[0m\u001b[0m_value\u001b[0m\u001b[0;34m\u001b[0m\u001b[0m\n\u001b[0m\u001b[1;32m    645\u001b[0m \u001b[0;34m\u001b[0m\u001b[0m\n",
      "\u001b[0;32m/usr/local/Cellar/python/3.6.5/Frameworks/Python.framework/Versions/3.6/lib/python3.6/multiprocessing/pool.py\u001b[0m in \u001b[0;36mworker\u001b[0;34m(inqueue, outqueue, initializer, initargs, maxtasks, wrap_exception)\u001b[0m\n\u001b[1;32m    118\u001b[0m         \u001b[0;32mtry\u001b[0m\u001b[0;34m:\u001b[0m\u001b[0;34m\u001b[0m\u001b[0m\n\u001b[0;32m--> 119\u001b[0;31m             \u001b[0mresult\u001b[0m \u001b[0;34m=\u001b[0m \u001b[0;34m(\u001b[0m\u001b[0;32mTrue\u001b[0m\u001b[0;34m,\u001b[0m \u001b[0mfunc\u001b[0m\u001b[0;34m(\u001b[0m\u001b[0;34m*\u001b[0m\u001b[0margs\u001b[0m\u001b[0;34m,\u001b[0m \u001b[0;34m**\u001b[0m\u001b[0mkwds\u001b[0m\u001b[0;34m)\u001b[0m\u001b[0;34m)\u001b[0m\u001b[0;34m\u001b[0m\u001b[0m\n\u001b[0m\u001b[1;32m    120\u001b[0m         \u001b[0;32mexcept\u001b[0m \u001b[0mException\u001b[0m \u001b[0;32mas\u001b[0m \u001b[0me\u001b[0m\u001b[0;34m:\u001b[0m\u001b[0;34m\u001b[0m\u001b[0m\n",
      "\u001b[0;32m/usr/local/lib/python3.6/site-packages/keras/utils/data_utils.py\u001b[0m in \u001b[0;36mget_index\u001b[0;34m(uid, i)\u001b[0m\n\u001b[1;32m    400\u001b[0m     \"\"\"\n\u001b[0;32m--> 401\u001b[0;31m     \u001b[0;32mreturn\u001b[0m \u001b[0m_SHARED_SEQUENCES\u001b[0m\u001b[0;34m[\u001b[0m\u001b[0muid\u001b[0m\u001b[0;34m]\u001b[0m\u001b[0;34m[\u001b[0m\u001b[0mi\u001b[0m\u001b[0;34m]\u001b[0m\u001b[0;34m\u001b[0m\u001b[0m\n\u001b[0m\u001b[1;32m    402\u001b[0m \u001b[0;34m\u001b[0m\u001b[0m\n",
      "\u001b[0;32m/usr/local/lib/python3.6/site-packages/keras/preprocessing/image.py\u001b[0m in \u001b[0;36m__getitem__\u001b[0;34m(self, idx)\u001b[0m\n\u001b[1;32m    824\u001b[0m                                        self.batch_size * (idx + 1)]\n\u001b[0;32m--> 825\u001b[0;31m         \u001b[0;32mreturn\u001b[0m \u001b[0mself\u001b[0m\u001b[0;34m.\u001b[0m\u001b[0m_get_batches_of_transformed_samples\u001b[0m\u001b[0;34m(\u001b[0m\u001b[0mindex_array\u001b[0m\u001b[0;34m)\u001b[0m\u001b[0;34m\u001b[0m\u001b[0m\n\u001b[0m\u001b[1;32m    826\u001b[0m \u001b[0;34m\u001b[0m\u001b[0m\n",
      "\u001b[0;32m/usr/local/lib/python3.6/site-packages/keras/preprocessing/image.py\u001b[0m in \u001b[0;36m_get_batches_of_transformed_samples\u001b[0;34m(self, index_array)\u001b[0m\n\u001b[1;32m   1230\u001b[0m                            \u001b[0mtarget_size\u001b[0m\u001b[0;34m=\u001b[0m\u001b[0;32mNone\u001b[0m\u001b[0;34m,\u001b[0m\u001b[0;34m\u001b[0m\u001b[0m\n\u001b[0;32m-> 1231\u001b[0;31m                            interpolation=self.interpolation)\n\u001b[0m\u001b[1;32m   1232\u001b[0m             \u001b[0;32mif\u001b[0m \u001b[0mself\u001b[0m\u001b[0;34m.\u001b[0m\u001b[0mimage_data_generator\u001b[0m\u001b[0;34m.\u001b[0m\u001b[0mpreprocessing_function\u001b[0m\u001b[0;34m:\u001b[0m\u001b[0;34m\u001b[0m\u001b[0m\n",
      "\u001b[0;32m/usr/local/lib/python3.6/site-packages/keras/preprocessing/image.py\u001b[0m in \u001b[0;36mload_img\u001b[0;34m(path, grayscale, target_size, interpolation)\u001b[0m\n\u001b[1;32m    361\u001b[0m                           'The use of `array_to_img` requires PIL.')\n\u001b[0;32m--> 362\u001b[0;31m     \u001b[0mimg\u001b[0m \u001b[0;34m=\u001b[0m \u001b[0mpil_image\u001b[0m\u001b[0;34m.\u001b[0m\u001b[0mopen\u001b[0m\u001b[0;34m(\u001b[0m\u001b[0mpath\u001b[0m\u001b[0;34m)\u001b[0m\u001b[0;34m\u001b[0m\u001b[0m\n\u001b[0m\u001b[1;32m    363\u001b[0m     \u001b[0;32mif\u001b[0m \u001b[0mgrayscale\u001b[0m\u001b[0;34m:\u001b[0m\u001b[0;34m\u001b[0m\u001b[0m\n",
      "\u001b[0;32m/usr/local/lib/python3.6/site-packages/PIL/Image.py\u001b[0m in \u001b[0;36mopen\u001b[0;34m(fp, mode)\u001b[0m\n\u001b[1;32m   2547\u001b[0m     \u001b[0;32mif\u001b[0m \u001b[0mfilename\u001b[0m\u001b[0;34m:\u001b[0m\u001b[0;34m\u001b[0m\u001b[0m\n\u001b[0;32m-> 2548\u001b[0;31m         \u001b[0mfp\u001b[0m \u001b[0;34m=\u001b[0m \u001b[0mbuiltins\u001b[0m\u001b[0;34m.\u001b[0m\u001b[0mopen\u001b[0m\u001b[0;34m(\u001b[0m\u001b[0mfilename\u001b[0m\u001b[0;34m,\u001b[0m \u001b[0;34m\"rb\"\u001b[0m\u001b[0;34m)\u001b[0m\u001b[0;34m\u001b[0m\u001b[0m\n\u001b[0m\u001b[1;32m   2549\u001b[0m         \u001b[0mexclusive_fp\u001b[0m \u001b[0;34m=\u001b[0m \u001b[0;32mTrue\u001b[0m\u001b[0;34m\u001b[0m\u001b[0m\n",
      "\u001b[0;31mFileNotFoundError\u001b[0m: [Errno 2] No such file or directory: 'data/crop_images/samuel_images_train/samuel/00000029.jpg'",
      "\nThe above exception was the direct cause of the following exception:\n",
      "\u001b[0;31mStopIteration\u001b[0m                             Traceback (most recent call last)",
      "\u001b[0;32m<ipython-input-7-aa0fd70b22ac>\u001b[0m in \u001b[0;36m<module>\u001b[0;34m()\u001b[0m\n\u001b[1;32m      4\u001b[0m       \u001b[0mepochs\u001b[0m\u001b[0;34m=\u001b[0m\u001b[0;36m120\u001b[0m\u001b[0;34m,\u001b[0m\u001b[0;34m\u001b[0m\u001b[0m\n\u001b[1;32m      5\u001b[0m       \u001b[0mvalidation_data\u001b[0m\u001b[0;34m=\u001b[0m\u001b[0mvalidation_generator\u001b[0m\u001b[0;34m,\u001b[0m\u001b[0;34m\u001b[0m\u001b[0m\n\u001b[0;32m----> 6\u001b[0;31m       validation_steps=50)\n\u001b[0m",
      "\u001b[0;32m/usr/local/lib/python3.6/site-packages/keras/legacy/interfaces.py\u001b[0m in \u001b[0;36mwrapper\u001b[0;34m(*args, **kwargs)\u001b[0m\n\u001b[1;32m     89\u001b[0m                 warnings.warn('Update your `' + object_name +\n\u001b[1;32m     90\u001b[0m                               '` call to the Keras 2 API: ' + signature, stacklevel=2)\n\u001b[0;32m---> 91\u001b[0;31m             \u001b[0;32mreturn\u001b[0m \u001b[0mfunc\u001b[0m\u001b[0;34m(\u001b[0m\u001b[0;34m*\u001b[0m\u001b[0margs\u001b[0m\u001b[0;34m,\u001b[0m \u001b[0;34m**\u001b[0m\u001b[0mkwargs\u001b[0m\u001b[0;34m)\u001b[0m\u001b[0;34m\u001b[0m\u001b[0m\n\u001b[0m\u001b[1;32m     92\u001b[0m         \u001b[0mwrapper\u001b[0m\u001b[0;34m.\u001b[0m\u001b[0m_original_function\u001b[0m \u001b[0;34m=\u001b[0m \u001b[0mfunc\u001b[0m\u001b[0;34m\u001b[0m\u001b[0m\n\u001b[1;32m     93\u001b[0m         \u001b[0;32mreturn\u001b[0m \u001b[0mwrapper\u001b[0m\u001b[0;34m\u001b[0m\u001b[0m\n",
      "\u001b[0;32m/usr/local/lib/python3.6/site-packages/keras/models.py\u001b[0m in \u001b[0;36mfit_generator\u001b[0;34m(self, generator, steps_per_epoch, epochs, verbose, callbacks, validation_data, validation_steps, class_weight, max_queue_size, workers, use_multiprocessing, shuffle, initial_epoch)\u001b[0m\n\u001b[1;32m   1274\u001b[0m                                         \u001b[0muse_multiprocessing\u001b[0m\u001b[0;34m=\u001b[0m\u001b[0muse_multiprocessing\u001b[0m\u001b[0;34m,\u001b[0m\u001b[0;34m\u001b[0m\u001b[0m\n\u001b[1;32m   1275\u001b[0m                                         \u001b[0mshuffle\u001b[0m\u001b[0;34m=\u001b[0m\u001b[0mshuffle\u001b[0m\u001b[0;34m,\u001b[0m\u001b[0;34m\u001b[0m\u001b[0m\n\u001b[0;32m-> 1276\u001b[0;31m                                         initial_epoch=initial_epoch)\n\u001b[0m\u001b[1;32m   1277\u001b[0m \u001b[0;34m\u001b[0m\u001b[0m\n\u001b[1;32m   1278\u001b[0m     \u001b[0;34m@\u001b[0m\u001b[0minterfaces\u001b[0m\u001b[0;34m.\u001b[0m\u001b[0mlegacy_generator_methods_support\u001b[0m\u001b[0;34m\u001b[0m\u001b[0m\n",
      "\u001b[0;32m/usr/local/lib/python3.6/site-packages/keras/legacy/interfaces.py\u001b[0m in \u001b[0;36mwrapper\u001b[0;34m(*args, **kwargs)\u001b[0m\n\u001b[1;32m     89\u001b[0m                 warnings.warn('Update your `' + object_name +\n\u001b[1;32m     90\u001b[0m                               '` call to the Keras 2 API: ' + signature, stacklevel=2)\n\u001b[0;32m---> 91\u001b[0;31m             \u001b[0;32mreturn\u001b[0m \u001b[0mfunc\u001b[0m\u001b[0;34m(\u001b[0m\u001b[0;34m*\u001b[0m\u001b[0margs\u001b[0m\u001b[0;34m,\u001b[0m \u001b[0;34m**\u001b[0m\u001b[0mkwargs\u001b[0m\u001b[0;34m)\u001b[0m\u001b[0;34m\u001b[0m\u001b[0m\n\u001b[0m\u001b[1;32m     92\u001b[0m         \u001b[0mwrapper\u001b[0m\u001b[0;34m.\u001b[0m\u001b[0m_original_function\u001b[0m \u001b[0;34m=\u001b[0m \u001b[0mfunc\u001b[0m\u001b[0;34m\u001b[0m\u001b[0m\n\u001b[1;32m     93\u001b[0m         \u001b[0;32mreturn\u001b[0m \u001b[0mwrapper\u001b[0m\u001b[0;34m\u001b[0m\u001b[0m\n",
      "\u001b[0;32m/usr/local/lib/python3.6/site-packages/keras/engine/training.py\u001b[0m in \u001b[0;36mfit_generator\u001b[0;34m(self, generator, steps_per_epoch, epochs, verbose, callbacks, validation_data, validation_steps, class_weight, max_queue_size, workers, use_multiprocessing, shuffle, initial_epoch)\u001b[0m\n\u001b[1;32m   2190\u001b[0m                 \u001b[0mbatch_index\u001b[0m \u001b[0;34m=\u001b[0m \u001b[0;36m0\u001b[0m\u001b[0;34m\u001b[0m\u001b[0m\n\u001b[1;32m   2191\u001b[0m                 \u001b[0;32mwhile\u001b[0m \u001b[0msteps_done\u001b[0m \u001b[0;34m<\u001b[0m \u001b[0msteps_per_epoch\u001b[0m\u001b[0;34m:\u001b[0m\u001b[0;34m\u001b[0m\u001b[0m\n\u001b[0;32m-> 2192\u001b[0;31m                     \u001b[0mgenerator_output\u001b[0m \u001b[0;34m=\u001b[0m \u001b[0mnext\u001b[0m\u001b[0;34m(\u001b[0m\u001b[0moutput_generator\u001b[0m\u001b[0;34m)\u001b[0m\u001b[0;34m\u001b[0m\u001b[0m\n\u001b[0m\u001b[1;32m   2193\u001b[0m \u001b[0;34m\u001b[0m\u001b[0m\n\u001b[1;32m   2194\u001b[0m                     \u001b[0;32mif\u001b[0m \u001b[0;32mnot\u001b[0m \u001b[0mhasattr\u001b[0m\u001b[0;34m(\u001b[0m\u001b[0mgenerator_output\u001b[0m\u001b[0;34m,\u001b[0m \u001b[0;34m'__len__'\u001b[0m\u001b[0;34m)\u001b[0m\u001b[0;34m:\u001b[0m\u001b[0;34m\u001b[0m\u001b[0m\n",
      "\u001b[0;32m/usr/local/lib/python3.6/site-packages/keras/utils/data_utils.py\u001b[0m in \u001b[0;36mget\u001b[0;34m(self)\u001b[0m\n\u001b[1;32m    582\u001b[0m         \u001b[0;32mexcept\u001b[0m \u001b[0mException\u001b[0m \u001b[0;32mas\u001b[0m \u001b[0me\u001b[0m\u001b[0;34m:\u001b[0m\u001b[0;34m\u001b[0m\u001b[0m\n\u001b[1;32m    583\u001b[0m             \u001b[0mself\u001b[0m\u001b[0;34m.\u001b[0m\u001b[0mstop\u001b[0m\u001b[0;34m(\u001b[0m\u001b[0;34m)\u001b[0m\u001b[0;34m\u001b[0m\u001b[0m\n\u001b[0;32m--> 584\u001b[0;31m             \u001b[0msix\u001b[0m\u001b[0;34m.\u001b[0m\u001b[0mraise_from\u001b[0m\u001b[0;34m(\u001b[0m\u001b[0mStopIteration\u001b[0m\u001b[0;34m(\u001b[0m\u001b[0me\u001b[0m\u001b[0;34m)\u001b[0m\u001b[0;34m,\u001b[0m \u001b[0me\u001b[0m\u001b[0;34m)\u001b[0m\u001b[0;34m\u001b[0m\u001b[0m\n\u001b[0m\u001b[1;32m    585\u001b[0m \u001b[0;34m\u001b[0m\u001b[0m\n\u001b[1;32m    586\u001b[0m     \u001b[0;32mdef\u001b[0m \u001b[0m_send_sequence\u001b[0m\u001b[0;34m(\u001b[0m\u001b[0mself\u001b[0m\u001b[0;34m)\u001b[0m\u001b[0;34m:\u001b[0m\u001b[0;34m\u001b[0m\u001b[0m\n",
      "\u001b[0;32m/usr/local/lib/python3.6/site-packages/six.py\u001b[0m in \u001b[0;36mraise_from\u001b[0;34m(value, from_value)\u001b[0m\n",
      "\u001b[0;31mStopIteration\u001b[0m: [Errno 2] No such file or directory: 'data/crop_images/samuel_images_train/samuel/00000029.jpg'"
     ]
    }
   ],
   "source": [
    "history = model.fit_generator(\n",
    "      train_generator,\n",
    "      steps_per_epoch=100,\n",
    "      epochs=120,\n",
    "      validation_data=validation_generator,\n",
    "      validation_steps=50)"
   ]
  },
  {
   "cell_type": "markdown",
   "metadata": {},
   "source": [
    "### Save Model"
   ]
  },
  {
   "cell_type": "code",
   "execution_count": 8,
   "metadata": {},
   "outputs": [
    {
     "name": "stdout",
     "output_type": "stream",
     "text": [
      "saved to data/crop_images/samuel_images_model_1533399531.290833.h5\n"
     ]
    }
   ],
   "source": [
    "model_file = 'data/crop_images/samuel_images_model_{}.h5'.format(time.time())\n",
    "model.save(model_file)\n",
    "\n",
    "print('saved to {}'.format(model_file))"
   ]
  },
  {
   "cell_type": "markdown",
   "metadata": {},
   "source": [
    "### Plot The ROC"
   ]
  },
  {
   "cell_type": "code",
   "execution_count": 9,
   "metadata": {},
   "outputs": [
    {
     "ename": "NameError",
     "evalue": "name 'history' is not defined",
     "output_type": "error",
     "traceback": [
      "\u001b[0;31m---------------------------------------------------------------------------\u001b[0m",
      "\u001b[0;31mNameError\u001b[0m                                 Traceback (most recent call last)",
      "\u001b[0;32m<ipython-input-9-4ce54a883635>\u001b[0m in \u001b[0;36m<module>\u001b[0;34m()\u001b[0m\n\u001b[0;32m----> 1\u001b[0;31m \u001b[0macc\u001b[0m \u001b[0;34m=\u001b[0m \u001b[0mhistory\u001b[0m\u001b[0;34m.\u001b[0m\u001b[0mhistory\u001b[0m\u001b[0;34m[\u001b[0m\u001b[0;34m'acc'\u001b[0m\u001b[0;34m]\u001b[0m\u001b[0;34m\u001b[0m\u001b[0m\n\u001b[0m\u001b[1;32m      2\u001b[0m \u001b[0mval_acc\u001b[0m \u001b[0;34m=\u001b[0m \u001b[0mhistory\u001b[0m\u001b[0;34m.\u001b[0m\u001b[0mhistory\u001b[0m\u001b[0;34m[\u001b[0m\u001b[0;34m'val_acc'\u001b[0m\u001b[0;34m]\u001b[0m\u001b[0;34m\u001b[0m\u001b[0m\n\u001b[1;32m      3\u001b[0m \u001b[0mloss\u001b[0m \u001b[0;34m=\u001b[0m \u001b[0mhistory\u001b[0m\u001b[0;34m.\u001b[0m\u001b[0mhistory\u001b[0m\u001b[0;34m[\u001b[0m\u001b[0;34m'loss'\u001b[0m\u001b[0;34m]\u001b[0m\u001b[0;34m\u001b[0m\u001b[0m\n\u001b[1;32m      4\u001b[0m \u001b[0mval_loss\u001b[0m \u001b[0;34m=\u001b[0m \u001b[0mhistory\u001b[0m\u001b[0;34m.\u001b[0m\u001b[0mhistory\u001b[0m\u001b[0;34m[\u001b[0m\u001b[0;34m'val_loss'\u001b[0m\u001b[0;34m]\u001b[0m\u001b[0;34m\u001b[0m\u001b[0m\n\u001b[1;32m      5\u001b[0m \u001b[0;34m\u001b[0m\u001b[0m\n",
      "\u001b[0;31mNameError\u001b[0m: name 'history' is not defined"
     ]
    }
   ],
   "source": [
    "acc = history.history['acc']\n",
    "val_acc = history.history['val_acc']\n",
    "loss = history.history['loss']\n",
    "val_loss = history.history['val_loss']\n",
    "\n",
    "epochs = range(len(acc))\n",
    "\n",
    "plt.plot(epochs, acc, 'bo', label='Training acc')\n",
    "plt.plot(epochs, val_acc, 'b', label='Validation acc')\n",
    "plt.title('Training and validation accuracy')\n",
    "plt.legend()\n",
    "\n",
    "plt.figure()\n",
    "\n",
    "plt.plot(epochs, loss, 'bo', label='Training loss')\n",
    "plt.plot(epochs, val_loss, 'b', label='Validation loss')\n",
    "plt.title('Training and validation loss')\n",
    "plt.legend()\n",
    "\n",
    "plt.show()"
   ]
  },
  {
   "cell_type": "markdown",
   "metadata": {},
   "source": [
    "### Validate model"
   ]
  },
  {
   "cell_type": "code",
   "execution_count": 10,
   "metadata": {},
   "outputs": [],
   "source": [
    "samuel_images_test_dir = 'data/crop_images/samuel_images_test'"
   ]
  },
  {
   "cell_type": "code",
   "execution_count": 11,
   "metadata": {},
   "outputs": [
    {
     "name": "stdout",
     "output_type": "stream",
     "text": [
      "Found 302 images belonging to 2 classes.\n"
     ]
    }
   ],
   "source": [
    "test_datagen = ImageDataGenerator(rescale=1./255)\n",
    "\n",
    "test_generator = test_datagen.flow_from_directory(\n",
    "        samuel_images_test_dir,\n",
    "        target_size=(224, 224),\n",
    "        batch_size=60,\n",
    "        class_mode='binary')"
   ]
  },
  {
   "cell_type": "code",
   "execution_count": 12,
   "metadata": {},
   "outputs": [
    {
     "name": "stdout",
     "output_type": "stream",
     "text": [
      "loss=0.8738769861246576, acc=0.5860927160212536\n"
     ]
    }
   ],
   "source": [
    "loss, acc = model.evaluate_generator(test_generator)\n",
    "print('loss={}, acc={}'.format(loss, acc))"
   ]
  },
  {
   "cell_type": "markdown",
   "metadata": {},
   "source": [
    "### Display predicted items"
   ]
  },
  {
   "cell_type": "code",
   "execution_count": 13,
   "metadata": {},
   "outputs": [],
   "source": [
    "def show_images(images, cols = 1, titles = None):\n",
    "    \"\"\"Display a list of images in a single figure with matplotlib.\n",
    "    \n",
    "    Parameters\n",
    "    ---------\n",
    "    images: List of np.arrays compatible with plt.imshow.\n",
    "    \n",
    "    cols (Default = 1): Number of columns in figure (number of rows is \n",
    "                        set to np.ceil(n_images/float(cols))).\n",
    "    \n",
    "    titles: List of titles corresponding to each image. Must have\n",
    "            the same length as titles.\n",
    "    \"\"\"\n",
    "    assert((titles is None)or (len(images) == len(titles)))\n",
    "    n_images = len(images)\n",
    "    if titles is None: titles = ['Image (%d)' % i for i in range(1,n_images + 1)]\n",
    "    fig = plt.figure()\n",
    "    for n, (image, title) in enumerate(zip(images, titles)):\n",
    "        a = fig.add_subplot(cols, np.ceil(n_images/float(cols)), n + 1)\n",
    "        plt.imshow(image)\n",
    "        a.set_title(title)\n",
    "    fig.set_size_inches(np.array(fig.get_size_inches()) * n_images)\n",
    "    plt.show()"
   ]
  },
  {
   "cell_type": "code",
   "execution_count": null,
   "metadata": {},
   "outputs": [],
   "source": [
    "predictions = model.predict_generator(test_generator)"
   ]
  },
  {
   "cell_type": "code",
   "execution_count": null,
   "metadata": {},
   "outputs": [],
   "source": [
    "test_image_results = pd.DataFrame({\n",
    "    'prediction': predictions.flatten(),\n",
    "    'filename': test_generator.filenames\n",
    "}) \\\n",
    ".sort_values('prediction', ascending=False) \\\n",
    ".head(n=10)"
   ]
  },
  {
   "cell_type": "code",
   "execution_count": null,
   "metadata": {},
   "outputs": [],
   "source": [
    "test_image_results"
   ]
  },
  {
   "cell_type": "code",
   "execution_count": null,
   "metadata": {},
   "outputs": [],
   "source": [
    "fnames = [os.path.join(samuel_images_test_dir, fname) for fname in test_image_results.filename]\n",
    "\n",
    "imgs = [image.load_img(fname, target_size=(224,224)) for fname in fnames]\n",
    "show_images(imgs, 5, test_image_results.prediction)"
   ]
  },
  {
   "cell_type": "code",
   "execution_count": null,
   "metadata": {},
   "outputs": [],
   "source": [
    "# Use Grid Search to use all cores https://machinelearningmastery.com/grid-search-hyperparameters-deep-learning-models-python-keras/\n"
   ]
  },
  {
   "cell_type": "code",
   "execution_count": null,
   "metadata": {},
   "outputs": [],
   "source": []
  }
 ],
 "metadata": {
  "kernelspec": {
   "display_name": "Python 3",
   "language": "python",
   "name": "python3"
  },
  "language_info": {
   "codemirror_mode": {
    "name": "ipython",
    "version": 3
   },
   "file_extension": ".py",
   "mimetype": "text/x-python",
   "name": "python",
   "nbconvert_exporter": "python",
   "pygments_lexer": "ipython3",
   "version": "3.6.5"
  }
 },
 "nbformat": 4,
 "nbformat_minor": 2
}
